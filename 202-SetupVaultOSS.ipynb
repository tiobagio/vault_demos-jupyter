{
 "cells": [
  {
   "cell_type": "markdown",
   "metadata": {},
   "source": [
    "<img align=right src=images/HashiCorp_PrimaryLogo_Black_RGB.png width=150>\n",
    "<img src=images/acme.jpeg width=100 align=left>"
   ]
  },
  {
   "cell_type": "markdown",
   "metadata": {},
   "source": [
    "# Vault Setup (dev mode)\n",
    "\n",
    "**\"Dev\"** mode is a pre-configured server\n",
    "* useful for local development, testing, and exploration\n",
    "* not very secure\n",
    "* in-memory\n",
    "* Vault is automatically unsealed\n",
    "* can optionally set the initial root token\n",
    "\n",
    "\n",
    "Prereq: \n",
    "You need to have Vault binary\n",
    "\n",
    "\n",
    "Command to execute (in separate windows):\n",
    "\n",
    "`VAULT_UI=true VAULT_REDIRECT_ADDR=http://127.0.0.1:8200 vault server -log-level=trace -dev -dev-root-token-id=root -dev-listen-address=127.0.0.1:8200 -dev-ha -dev-transactional`\n"
   ]
  },
  {
   "cell_type": "code",
   "execution_count": 4,
   "metadata": {},
   "outputs": [],
   "source": [
    "export VAULT_ADDR=http://127.0.0.1:8200\n",
    "export VAULT_SKIP_VERIFY=true"
   ]
  },
  {
   "cell_type": "code",
   "execution_count": 1,
   "metadata": {},
   "outputs": [
    {
     "name": "stdout",
     "output_type": "stream",
     "text": [
      "\u001b[0mVault v1.6.0 (7ce0bd9691998e0443bc77e98b1e2a4ab1e965d4)\u001b[0m\n"
     ]
    }
   ],
   "source": [
    "vault --version"
   ]
  },
  {
   "cell_type": "code",
   "execution_count": 3,
   "metadata": {},
   "outputs": [
    {
     "name": "stdout",
     "output_type": "stream",
     "text": [
      "\u001b[0mKey             Value\n",
      "---             -----\n",
      "Seal Type       shamir\n",
      "Initialized     true\n",
      "Sealed          false\n",
      "Total Shares    1\n",
      "Threshold       1\n",
      "Version         1.6.0\n",
      "Storage Type    inmem_transactional_ha\n",
      "Cluster Name    vault-cluster-40c6ec7d\n",
      "Cluster ID      88ceb9de-5d03-7f3b-d3a0-8d100c75923d\n",
      "HA Enabled      true\n",
      "HA Cluster      https://127.0.0.1:8201\n",
      "HA Mode         active\u001b[0m\n"
     ]
    }
   ],
   "source": [
    "vault status"
   ]
  },
  {
   "cell_type": "markdown",
   "metadata": {},
   "source": [
    "#### Note the Initialized and Sealed status above."
   ]
  },
  {
   "cell_type": "markdown",
   "metadata": {},
   "source": [
    "## Interacting with Vault\n",
    "\n",
    "Vault **HTTP API**\n",
    "* Full access to Vault via HTTP\n",
    "* Every aspect of Vault can be controlled via API\n",
    "\n",
    "\n",
    "Vault **CLI**\n",
    "* uses HTTP API to access Vault\n",
    "* it is a thin wrapper around the HTTP API\n",
    "* outputs are formatted\n",
    "\n",
    "Example:  Getting help\n",
    "`vault <command> -h`"
   ]
  },
  {
   "cell_type": "code",
   "execution_count": 4,
   "metadata": {},
   "outputs": [
    {
     "name": "stdout",
     "output_type": "stream",
     "text": [
      "Usage: vault <command> [args]\n",
      "\n",
      "Common commands:\n",
      "    read        Read data and retrieves secrets\n",
      "    write       Write data, configuration, and secrets\n",
      "    delete      Delete secrets and configuration\n",
      "    list        List data or secrets\n",
      "    login       Authenticate locally\n",
      "    agent       Start a Vault agent\n",
      "    server      Start a Vault server\n",
      "    status      Print seal and HA status\n",
      "    unwrap      Unwrap a wrapped secret\n",
      "\n",
      "Other commands:\n",
      "    audit          Interact with audit devices\n",
      "    auth           Interact with auth methods\n",
      "    debug          Runs the debug command\n",
      "    kv             Interact with Vault's Key-Value storage\n",
      "    lease          Interact with leases\n",
      "    monitor        Stream log messages from a Vault server\n",
      "    namespace      Interact with namespaces\n",
      "    operator       Perform operator-specific tasks\n",
      "    path-help      Retrieve API help for paths\n",
      "    plugin         Interact with Vault plugins and catalog\n",
      "    policy         Interact with policies\n",
      "    print          Prints runtime configurations\n",
      "    secrets        Interact with secrets engines\n",
      "    ssh            Initiate an SSH session\n",
      "    token          Interact with tokens\n"
     ]
    }
   ],
   "source": [
    "vault -h"
   ]
  },
  {
   "cell_type": "code",
   "execution_count": 5,
   "metadata": {
    "collapsed": true,
    "jupyter": {
     "outputs_hidden": true
    }
   },
   "outputs": [
    {
     "name": "stdout",
     "output_type": "stream",
     "text": [
      "Usage: vault server [options]\n",
      "\n",
      "  This command starts a Vault server that responds to API requests. By default,\n",
      "  Vault will start in a \"sealed\" state. The Vault cluster must be initialized\n",
      "  before use, usually by the \"vault operator init\" command. Each Vault server must\n",
      "  also be unsealed using the \"vault operator unseal\" command or the API before the\n",
      "  server can respond to requests.\n",
      "\n",
      "  Start a server with a configuration file:\n",
      "\n",
      "      $ vault server -config=/etc/vault/config.hcl\n",
      "\n",
      "  Run in \"dev\" mode:\n",
      "\n",
      "      $ vault server -dev -dev-root-token-id=\"root\"\n",
      "\n",
      "  For a full list of examples, please see the documentation.\n",
      "\n",
      "HTTP Options:\n",
      "\n",
      "  -address=<string>\n",
      "      Address of the Vault server. The default is https://127.0.0.1:8200. This\n",
      "      can also be specified via the VAULT_ADDR environment variable.\n",
      "\n",
      "  -agent-address=<string>\n",
      "      Address of the Agent. This can also be specified via the\n",
      "      VAULT_AGENT_ADDR environment variable.\n",
      "\n",
      "  -ca-cert=<string>\n",
      "      Path on the local disk to a single PEM-encoded CA certificate to verify\n",
      "      the Vault server's SSL certificate. This takes precedence over -ca-path.\n",
      "      This can also be specified via the VAULT_CACERT environment variable.\n",
      "\n",
      "  -ca-path=<string>\n",
      "      Path on the local disk to a directory of PEM-encoded CA certificates to\n",
      "      verify the Vault server's SSL certificate. This can also be specified\n",
      "      via the VAULT_CAPATH environment variable.\n",
      "\n",
      "  -client-cert=<string>\n",
      "      Path on the local disk to a single PEM-encoded CA certificate to use\n",
      "      for TLS authentication to the Vault server. If this flag is specified,\n",
      "      -client-key is also required. This can also be specified via the\n",
      "      VAULT_CLIENT_CERT environment variable.\n",
      "\n",
      "  -client-key=<string>\n",
      "      Path on the local disk to a single PEM-encoded private key matching the\n",
      "      client certificate from -client-cert. This can also be specified via the\n",
      "      VAULT_CLIENT_KEY environment variable.\n",
      "\n",
      "  -mfa=<string>\n",
      "      Supply MFA credentials as part of X-Vault-MFA header. This can also be\n",
      "      specified via the VAULT_MFA environment variable.\n",
      "\n",
      "  -namespace=<string>\n",
      "      The namespace to use for the command. Setting this is not necessary\n",
      "      but allows using relative paths. -ns can be used as shortcut. The\n",
      "      default is (not set). This can also be specified via the VAULT_NAMESPACE\n",
      "      environment variable.\n",
      "\n",
      "  -output-curl-string\n",
      "      Instead of executing the request, print an equivalent cURL command\n",
      "      string and exit. The default is false.\n",
      "\n",
      "  -policy-override\n",
      "      Override a Sentinel policy that has a soft-mandatory enforcement_level\n",
      "      specified The default is false.\n",
      "\n",
      "  -tls-server-name=<string>\n",
      "      Name to use as the SNI host when connecting to the Vault server via TLS.\n",
      "      This can also be specified via the VAULT_TLS_SERVER_NAME environment\n",
      "      variable.\n",
      "\n",
      "  -tls-skip-verify\n",
      "      Disable verification of TLS certificates. Using this option is highly\n",
      "      discouraged as it decreases the security of data transmissions to and\n",
      "      from the Vault server. The default is false. This can also be specified\n",
      "      via the VAULT_SKIP_VERIFY environment variable.\n",
      "\n",
      "  -wrap-ttl=<duration>\n",
      "      Wraps the response in a cubbyhole token with the requested TTL. The\n",
      "      response is available via the \"vault unwrap\" command. The TTL is\n",
      "      specified as a numeric string with suffix like \"30s\" or \"5m\". This can\n",
      "      also be specified via the VAULT_WRAP_TTL environment variable.\n",
      "\n",
      "Command Options:\n",
      "\n",
      "  -config=<string>\n",
      "      Path to a configuration file or directory of configuration files. This\n",
      "      flag can be specified multiple times to load multiple configurations.\n",
      "      If the path is a directory, all files which end in .hcl or .json are\n",
      "      loaded.\n",
      "\n",
      "  -exit-on-core-shutdown\n",
      "      Exit the vault server if the vault core is shutdown. The default is\n",
      "      false.\n",
      "\n",
      "  -log-format=<string>\n",
      "      Log format. Supported values are \"standard\" and \"json\". The default is\n",
      "      (not set).\n",
      "\n",
      "  -log-level=<string>\n",
      "      Log verbosity level. Supported values (in order of detail) are \"trace\",\n",
      "      \"debug\", \"info\", \"warn\", and \"err\". The default is (not set). This can\n",
      "      also be specified via the VAULT_LOG_LEVEL environment variable.\n",
      "\n",
      "  -recovery\n",
      "      Enable recovery mode. In this mode, Vault is used to perform recovery\n",
      "      actions.Using a recovery operation token, \"sys/raw\" API can be used to\n",
      "      manipulate the storage. The default is false.\n",
      "\n",
      "Dev Options:\n",
      "\n",
      "  -dev\n",
      "      Enable development mode. In this mode, Vault runs in-memory and starts\n",
      "      unsealed. As the name implies, do not run \"dev\" mode in production. The\n",
      "      default is false.\n",
      "\n",
      "  -dev-listen-address=<string>\n",
      "      Address to bind to in \"dev\" mode. The default is 127.0.0.1:8200. This\n",
      "      can also be specified via the VAULT_DEV_LISTEN_ADDRESS environment\n",
      "      variable.\n",
      "\n",
      "  -dev-no-store-token\n",
      "      Do not persist the dev root token to the token helper (usually the local\n",
      "      filesystem) for use in future requests. The token will only be displayed\n",
      "      in the command output. The default is false.\n",
      "\n",
      "  -dev-root-token-id=<string>\n",
      "      Initial root token. This only applies when running in \"dev\" mode.\n",
      "      This can also be specified via the VAULT_DEV_ROOT_TOKEN_ID environment\n",
      "      variable.\n"
     ]
    }
   ],
   "source": [
    "vault server -h"
   ]
  },
  {
   "cell_type": "markdown",
   "metadata": {},
   "source": [
    "## Enable Audit Logging\n",
    "\n",
    "Audit backend keeps a detailed log of all requests and responses to Vault.  Sensitive information is **obfuscated** by default (HMAC)."
   ]
  },
  {
   "cell_type": "code",
   "execution_count": 6,
   "metadata": {},
   "outputs": [
    {
     "name": "stdout",
     "output_type": "stream",
     "text": [
      "\u001b[0mSuccess! Enabled the file audit device at: file/\u001b[0m\n"
     ]
    }
   ],
   "source": [
    "vault audit enable file file_path=/tmp/audit.log"
   ]
  },
  {
   "cell_type": "code",
   "execution_count": 3,
   "metadata": {},
   "outputs": [
    {
     "name": "stdout",
     "output_type": "stream",
     "text": [
      "\u001b[1;39m{\n",
      "  \u001b[0m\u001b[34;1m\"time\"\u001b[0m\u001b[1;39m: \u001b[0m\u001b[0;32m\"2020-12-24T07:24:23.030504Z\"\u001b[0m\u001b[1;39m,\n",
      "  \u001b[0m\u001b[34;1m\"type\"\u001b[0m\u001b[1;39m: \u001b[0m\u001b[0;32m\"response\"\u001b[0m\u001b[1;39m,\n",
      "  \u001b[0m\u001b[34;1m\"auth\"\u001b[0m\u001b[1;39m: \u001b[0m\u001b[1;39m{\n",
      "    \u001b[0m\u001b[34;1m\"client_token\"\u001b[0m\u001b[1;39m: \u001b[0m\u001b[0;32m\"hmac-sha256:43510274735afea704524fe636af99dfdd216b0ade274ae07eeb1044c6ccce32\"\u001b[0m\u001b[1;39m,\n",
      "    \u001b[0m\u001b[34;1m\"accessor\"\u001b[0m\u001b[1;39m: \u001b[0m\u001b[0;32m\"hmac-sha256:29a3538aa4c60394043cb9065977e6b7095420f6986aede129ebd2cc223ef5de\"\u001b[0m\u001b[1;39m,\n",
      "    \u001b[0m\u001b[34;1m\"display_name\"\u001b[0m\u001b[1;39m: \u001b[0m\u001b[0;32m\"token\"\u001b[0m\u001b[1;39m,\n",
      "    \u001b[0m\u001b[34;1m\"policies\"\u001b[0m\u001b[1;39m: \u001b[0m\u001b[1;39m[\n",
      "      \u001b[0;32m\"root\"\u001b[0m\u001b[1;39m\n",
      "    \u001b[1;39m]\u001b[0m\u001b[1;39m,\n",
      "    \u001b[0m\u001b[34;1m\"token_policies\"\u001b[0m\u001b[1;39m: \u001b[0m\u001b[1;39m[\n",
      "      \u001b[0;32m\"root\"\u001b[0m\u001b[1;39m\n",
      "    \u001b[1;39m]\u001b[0m\u001b[1;39m,\n",
      "    \u001b[0m\u001b[34;1m\"token_type\"\u001b[0m\u001b[1;39m: \u001b[0m\u001b[0;32m\"service\"\u001b[0m\u001b[1;39m,\n",
      "    \u001b[0m\u001b[34;1m\"token_issue_time\"\u001b[0m\u001b[1;39m: \u001b[0m\u001b[0;32m\"2020-12-24T15:23:11+08:00\"\u001b[0m\u001b[1;39m\n",
      "  \u001b[1;39m}\u001b[0m\u001b[1;39m,\n",
      "  \u001b[0m\u001b[34;1m\"request\"\u001b[0m\u001b[1;39m: \u001b[0m\u001b[1;39m{\n",
      "    \u001b[0m\u001b[34;1m\"id\"\u001b[0m\u001b[1;39m: \u001b[0m\u001b[0;32m\"31d40fbb-9be4-99ab-eeba-519a539b6360\"\u001b[0m\u001b[1;39m,\n",
      "    \u001b[0m\u001b[34;1m\"operation\"\u001b[0m\u001b[1;39m: \u001b[0m\u001b[0;32m\"update\"\u001b[0m\u001b[1;39m,\n",
      "    \u001b[0m\u001b[34;1m\"mount_type\"\u001b[0m\u001b[1;39m: \u001b[0m\u001b[0;32m\"system\"\u001b[0m\u001b[1;39m,\n",
      "    \u001b[0m\u001b[34;1m\"client_token\"\u001b[0m\u001b[1;39m: \u001b[0m\u001b[0;32m\"hmac-sha256:43510274735afea704524fe636af99dfdd216b0ade274ae07eeb1044c6ccce32\"\u001b[0m\u001b[1;39m,\n",
      "    \u001b[0m\u001b[34;1m\"client_token_accessor\"\u001b[0m\u001b[1;39m: \u001b[0m\u001b[0;32m\"hmac-sha256:29a3538aa4c60394043cb9065977e6b7095420f6986aede129ebd2cc223ef5de\"\u001b[0m\u001b[1;39m,\n",
      "    \u001b[0m\u001b[34;1m\"namespace\"\u001b[0m\u001b[1;39m: \u001b[0m\u001b[1;39m{\n",
      "      \u001b[0m\u001b[34;1m\"id\"\u001b[0m\u001b[1;39m: \u001b[0m\u001b[0;32m\"root\"\u001b[0m\u001b[1;39m\n",
      "    \u001b[1;39m}\u001b[0m\u001b[1;39m,\n",
      "    \u001b[0m\u001b[34;1m\"path\"\u001b[0m\u001b[1;39m: \u001b[0m\u001b[0;32m\"sys/audit/file\"\u001b[0m\u001b[1;39m,\n",
      "    \u001b[0m\u001b[34;1m\"data\"\u001b[0m\u001b[1;39m: \u001b[0m\u001b[1;39m{\n",
      "      \u001b[0m\u001b[34;1m\"description\"\u001b[0m\u001b[1;39m: \u001b[0m\u001b[0;32m\"hmac-sha256:37d76557af31a8b85a44e9f578593527d34a6a31e68541daa9fe3107362bc3d3\"\u001b[0m\u001b[1;39m,\n",
      "      \u001b[0m\u001b[34;1m\"local\"\u001b[0m\u001b[1;39m: \u001b[0m\u001b[0;39mfalse\u001b[0m\u001b[1;39m,\n",
      "      \u001b[0m\u001b[34;1m\"options\"\u001b[0m\u001b[1;39m: \u001b[0m\u001b[1;39m{\n",
      "        \u001b[0m\u001b[34;1m\"file_path\"\u001b[0m\u001b[1;39m: \u001b[0m\u001b[0;32m\"hmac-sha256:41e172dd72ebe5171f7e60268e613066ec2e52421ab57ca501cadd48a9923ffa\"\u001b[0m\u001b[1;39m\n",
      "      \u001b[1;39m}\u001b[0m\u001b[1;39m,\n",
      "      \u001b[0m\u001b[34;1m\"type\"\u001b[0m\u001b[1;39m: \u001b[0m\u001b[0;32m\"hmac-sha256:bf7fd7b27ccc29573d914077f5f5a7c7b996e97b3f7a667785232b4f16a99309\"\u001b[0m\u001b[1;39m\n",
      "    \u001b[1;39m}\u001b[0m\u001b[1;39m,\n",
      "    \u001b[0m\u001b[34;1m\"remote_address\"\u001b[0m\u001b[1;39m: \u001b[0m\u001b[0;32m\"127.0.0.1\"\u001b[0m\u001b[1;39m\n",
      "  \u001b[1;39m}\u001b[0m\u001b[1;39m,\n",
      "  \u001b[0m\u001b[34;1m\"response\"\u001b[0m\u001b[1;39m: \u001b[0m\u001b[1;39m{\n",
      "    \u001b[0m\u001b[34;1m\"mount_type\"\u001b[0m\u001b[1;39m: \u001b[0m\u001b[0;32m\"system\"\u001b[0m\u001b[1;39m\n",
      "  \u001b[1;39m}\u001b[0m\u001b[1;39m\n",
      "\u001b[1;39m}\u001b[0m\n"
     ]
    }
   ],
   "source": [
    "cat /tmp/audit.log |jq"
   ]
  },
  {
   "cell_type": "code",
   "execution_count": 5,
   "metadata": {},
   "outputs": [
    {
     "name": "stdout",
     "output_type": "stream",
     "text": [
      "\u001b[0mSuccess! Enabled the file audit device at: file-raw/\u001b[0m\n"
     ]
    }
   ],
   "source": [
    "vault audit enable -path=file-raw file file_path=/tmp/audit-raw.log log_raw=true"
   ]
  },
  {
   "cell_type": "code",
   "execution_count": 6,
   "metadata": {},
   "outputs": [
    {
     "name": "stdout",
     "output_type": "stream",
     "text": [
      "\u001b[1;39m{\n",
      "  \u001b[0m\u001b[34;1m\"time\"\u001b[0m\u001b[1;39m: \u001b[0m\u001b[0;32m\"2020-12-24T07:26:33.060622Z\"\u001b[0m\u001b[1;39m,\n",
      "  \u001b[0m\u001b[34;1m\"type\"\u001b[0m\u001b[1;39m: \u001b[0m\u001b[0;32m\"response\"\u001b[0m\u001b[1;39m,\n",
      "  \u001b[0m\u001b[34;1m\"auth\"\u001b[0m\u001b[1;39m: \u001b[0m\u001b[1;39m{\n",
      "    \u001b[0m\u001b[34;1m\"client_token\"\u001b[0m\u001b[1;39m: \u001b[0m\u001b[0;32m\"root\"\u001b[0m\u001b[1;39m,\n",
      "    \u001b[0m\u001b[34;1m\"accessor\"\u001b[0m\u001b[1;39m: \u001b[0m\u001b[0;32m\"fJ8e3QTuMKunEyab9ODjEA1M\"\u001b[0m\u001b[1;39m,\n",
      "    \u001b[0m\u001b[34;1m\"display_name\"\u001b[0m\u001b[1;39m: \u001b[0m\u001b[0;32m\"token\"\u001b[0m\u001b[1;39m,\n",
      "    \u001b[0m\u001b[34;1m\"policies\"\u001b[0m\u001b[1;39m: \u001b[0m\u001b[1;39m[\n",
      "      \u001b[0;32m\"root\"\u001b[0m\u001b[1;39m\n",
      "    \u001b[1;39m]\u001b[0m\u001b[1;39m,\n",
      "    \u001b[0m\u001b[34;1m\"token_policies\"\u001b[0m\u001b[1;39m: \u001b[0m\u001b[1;39m[\n",
      "      \u001b[0;32m\"root\"\u001b[0m\u001b[1;39m\n",
      "    \u001b[1;39m]\u001b[0m\u001b[1;39m,\n",
      "    \u001b[0m\u001b[34;1m\"token_type\"\u001b[0m\u001b[1;39m: \u001b[0m\u001b[0;32m\"service\"\u001b[0m\u001b[1;39m,\n",
      "    \u001b[0m\u001b[34;1m\"token_issue_time\"\u001b[0m\u001b[1;39m: \u001b[0m\u001b[0;32m\"2020-12-24T15:23:11+08:00\"\u001b[0m\u001b[1;39m\n",
      "  \u001b[1;39m}\u001b[0m\u001b[1;39m,\n",
      "  \u001b[0m\u001b[34;1m\"request\"\u001b[0m\u001b[1;39m: \u001b[0m\u001b[1;39m{\n",
      "    \u001b[0m\u001b[34;1m\"id\"\u001b[0m\u001b[1;39m: \u001b[0m\u001b[0;32m\"3cd1cf10-9fde-2390-897a-59a1fccc76c8\"\u001b[0m\u001b[1;39m,\n",
      "    \u001b[0m\u001b[34;1m\"operation\"\u001b[0m\u001b[1;39m: \u001b[0m\u001b[0;32m\"update\"\u001b[0m\u001b[1;39m,\n",
      "    \u001b[0m\u001b[34;1m\"mount_type\"\u001b[0m\u001b[1;39m: \u001b[0m\u001b[0;32m\"system\"\u001b[0m\u001b[1;39m,\n",
      "    \u001b[0m\u001b[34;1m\"client_token\"\u001b[0m\u001b[1;39m: \u001b[0m\u001b[0;32m\"root\"\u001b[0m\u001b[1;39m,\n",
      "    \u001b[0m\u001b[34;1m\"client_token_accessor\"\u001b[0m\u001b[1;39m: \u001b[0m\u001b[0;32m\"fJ8e3QTuMKunEyab9ODjEA1M\"\u001b[0m\u001b[1;39m,\n",
      "    \u001b[0m\u001b[34;1m\"namespace\"\u001b[0m\u001b[1;39m: \u001b[0m\u001b[1;39m{\n",
      "      \u001b[0m\u001b[34;1m\"id\"\u001b[0m\u001b[1;39m: \u001b[0m\u001b[0;32m\"root\"\u001b[0m\u001b[1;39m\n",
      "    \u001b[1;39m}\u001b[0m\u001b[1;39m,\n",
      "    \u001b[0m\u001b[34;1m\"path\"\u001b[0m\u001b[1;39m: \u001b[0m\u001b[0;32m\"sys/audit/file-raw\"\u001b[0m\u001b[1;39m,\n",
      "    \u001b[0m\u001b[34;1m\"data\"\u001b[0m\u001b[1;39m: \u001b[0m\u001b[1;39m{\n",
      "      \u001b[0m\u001b[34;1m\"description\"\u001b[0m\u001b[1;39m: \u001b[0m\u001b[0;32m\"\"\u001b[0m\u001b[1;39m,\n",
      "      \u001b[0m\u001b[34;1m\"local\"\u001b[0m\u001b[1;39m: \u001b[0m\u001b[0;39mfalse\u001b[0m\u001b[1;39m,\n",
      "      \u001b[0m\u001b[34;1m\"options\"\u001b[0m\u001b[1;39m: \u001b[0m\u001b[1;39m{\n",
      "        \u001b[0m\u001b[34;1m\"file_path\"\u001b[0m\u001b[1;39m: \u001b[0m\u001b[0;32m\"/tmp/audit-raw.log\"\u001b[0m\u001b[1;39m,\n",
      "        \u001b[0m\u001b[34;1m\"log_raw\"\u001b[0m\u001b[1;39m: \u001b[0m\u001b[0;32m\"true\"\u001b[0m\u001b[1;39m\n",
      "      \u001b[1;39m}\u001b[0m\u001b[1;39m,\n",
      "      \u001b[0m\u001b[34;1m\"type\"\u001b[0m\u001b[1;39m: \u001b[0m\u001b[0;32m\"file\"\u001b[0m\u001b[1;39m\n",
      "    \u001b[1;39m}\u001b[0m\u001b[1;39m,\n",
      "    \u001b[0m\u001b[34;1m\"remote_address\"\u001b[0m\u001b[1;39m: \u001b[0m\u001b[0;32m\"127.0.0.1\"\u001b[0m\u001b[1;39m\n",
      "  \u001b[1;39m}\u001b[0m\u001b[1;39m,\n",
      "  \u001b[0m\u001b[34;1m\"response\"\u001b[0m\u001b[1;39m: \u001b[0m\u001b[1;39m{\n",
      "    \u001b[0m\u001b[34;1m\"mount_type\"\u001b[0m\u001b[1;39m: \u001b[0m\u001b[0;32m\"system\"\u001b[0m\u001b[1;39m\n",
      "  \u001b[1;39m}\u001b[0m\u001b[1;39m\n",
      "\u001b[1;39m}\u001b[0m\n"
     ]
    }
   ],
   "source": [
    "cat /tmp/audit-raw.log |jq"
   ]
  },
  {
   "cell_type": "markdown",
   "metadata": {},
   "source": [
    "## Generate a root token\n",
    "\n",
    "Good Practice: The root tokens should be used only for just enough initial setup or in emergencies.  Use tokens with assigned set of policies based on your role in the organization.\n",
    "\n",
    "When a situation arise and you need a root token, this task walks you through the steps to generate one"
   ]
  },
  {
   "cell_type": "code",
   "execution_count": 7,
   "metadata": {},
   "outputs": [],
   "source": [
    "vault operator generate-root -generate-otp > otp.txt"
   ]
  },
  {
   "cell_type": "code",
   "execution_count": 12,
   "metadata": {},
   "outputs": [
    {
     "name": "stdout",
     "output_type": "stream",
     "text": [
      "/Users/tio/mydemo/vault/vault_demos-jupyter\n",
      "0a1d941a-fb30-7bc6-1057-f8b3f9fee295\n"
     ]
    }
   ],
   "source": [
    "pwd\n",
    "cat nonce.txt"
   ]
  },
  {
   "cell_type": "code",
   "execution_count": 11,
   "metadata": {},
   "outputs": [],
   "source": [
    "vault operator generate-root -init -otp=$(cat otp.txt) -format=json | jq -r \".nonce\" > nonce.txt"
   ]
  },
  {
   "cell_type": "markdown",
   "metadata": {},
   "source": [
    "The **nonce** value (nonce.txt) should be distributed to all unseal key holders.  \n",
    "Note:  The generation of a root token requires a quorem of unseal keys.\n",
    "\n",
    "**Each unseal key holder** must execute the following command along with their unseal key"
   ]
  },
  {
   "cell_type": "code",
   "execution_count": 13,
   "metadata": {},
   "outputs": [
    {
     "name": "stdout",
     "output_type": "stream",
     "text": [
      "\u001b[0mNonce            0a1d941a-fb30-7bc6-1057-f8b3f9fee295\n",
      "Started          true\n",
      "Progress         1/1\n",
      "Complete         true\n",
      "Encoded Token    FF8+HgUWAgtdPSQTYiAsUDksEFYKLRkSBks\u001b[0m\n"
     ]
    }
   ],
   "source": [
    "vault operator generate-root -nonce=$(cat nonce.txt) \"anvKNuOKnLkTd5p4dQDfZ5Bv2b4We4tEIJXJ+divvVY=\""
   ]
  },
  {
   "cell_type": "markdown",
   "metadata": {},
   "source": [
    "The output should have **Encoded Token** which then need to be decoded"
   ]
  },
  {
   "cell_type": "code",
   "execution_count": 14,
   "metadata": {},
   "outputs": [
    {
     "name": "stdout",
     "output_type": "stream",
     "text": [
      "\u001b[0ms.SxNruZ2GrTRBi3qgg29gTPRx\u001b[0m\n"
     ]
    }
   ],
   "source": [
    "vault operator generate-root -decode=\"FF8+HgUWAgtdPSQTYiAsUDksEFYKLRkSBks\" -otp=$(cat otp.txt)"
   ]
  },
  {
   "cell_type": "code",
   "execution_count": 16,
   "metadata": {},
   "outputs": [
    {
     "name": "stdout",
     "output_type": "stream",
     "text": [
      "\u001b[0mKey                 Value\n",
      "---                 -----\n",
      "accessor            QBPktcYWq9FvkRcqkij6FLd7\n",
      "creation_time       1608795880\n",
      "creation_ttl        0s\n",
      "display_name        root\n",
      "entity_id           n/a\n",
      "expire_time         <nil>\n",
      "explicit_max_ttl    0s\n",
      "id                  s.SxNruZ2GrTRBi3qgg29gTPRx\n",
      "meta                <nil>\n",
      "num_uses            0\n",
      "orphan              true\n",
      "path                auth/token/root\n",
      "policies            [root]\n",
      "ttl                 0s\n",
      "type                service\u001b[0m\n"
     ]
    }
   ],
   "source": [
    "vault token lookup s.SxNruZ2GrTRBi3qgg29gTPRx"
   ]
  },
  {
   "cell_type": "code",
   "execution_count": null,
   "metadata": {},
   "outputs": [],
   "source": []
  },
  {
   "cell_type": "markdown",
   "metadata": {},
   "source": [
    "### View Vault via a browser\n",
    "Open a web browser and visit http://127.0.0.1:8200/ui/vault\n",
    "Use **TOKEN** and **Sign in**\n",
    "\n",
    "Only when you start the Vault server in development mode, you would see the key/value v2 secrets engine enabled at \"secret/\" path by default. However, when you run Vault in non-development mode, you would need to enable key/value secrets engine explicitly like other secrets engine."
   ]
  },
  {
   "cell_type": "markdown",
   "metadata": {},
   "source": [
    "&nbsp;\n",
    "\n",
    "---\n",
    "#### Thank you.\n",
    "<img src=images/HashiCorp_PrimaryLogo_Black_RGB.png width=100 align=\"left\">"
   ]
  },
  {
   "cell_type": "code",
   "execution_count": null,
   "metadata": {},
   "outputs": [],
   "source": []
  }
 ],
 "metadata": {
  "kernelspec": {
   "display_name": "Z shell",
   "language": "zsh",
   "name": "zsh"
  },
  "language_info": {
   "codemirror_mode": "shell",
   "file_extension": ".zsh",
   "mimetype": "text/x-zsh",
   "name": "zsh",
   "pygments_lexer": "shell",
   "version": "5.7.1"
  }
 },
 "nbformat": 4,
 "nbformat_minor": 4
}
