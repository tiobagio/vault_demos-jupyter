{
 "cells": [
  {
   "cell_type": "markdown",
   "metadata": {},
   "source": [
    "<img src=images/HashiCorp_PrimaryLogo_Black_RGB.png width=150 align=\"right\">\n",
    "<img src=images/Acme.jpeg width=100 align=\"left\">"
   ]
  },
  {
   "cell_type": "markdown",
   "metadata": {},
   "source": [
    "#  Cubbyhole Secret Engine\n",
    "\n",
    "<img src=\"images/vault-cubbyhole-1.png\" width=800 >\n",
    "Cubbyhole is your own storage, a \"locker\" or \"safe place\" to store your valuables.  \n",
    "\n",
    "In Vault, all secrets are namespaced under your token.  It is not possible to reach into another token's cubbyhole even as the root user.  \n",
    "Compare this to Kev/Value Secrets Engine, where secrets are accessible to any token as long as its policy allows it.\n",
    "\n",
    "\n",
    "**Cubbyhole** secret engine is used to store arbitrary secrets.\n",
    "* Enabled by default at the path  **cubbyhole/**\n",
    "* Cannot be disabled\n",
    "* its lifetime is linked to the token used to write the data  \n",
    "    * even **root** token cannot read the data\n"
   ]
  },
  {
   "cell_type": "markdown",
   "metadata": {},
   "source": [
    "### Prerequisites\n",
    "You need to have Vault up and running\n",
    "\n",
    "`VAULT_UI=true VAULT_REDIRECT_ADDR=http://127.0.0.1:8200 vault server -log-level=trace -dev -dev-root-token-id=root -dev-listen-address=127.0.0.1:8200 -dev-ha -dev-transactional`\n",
    "\n",
    "\n",
    "### Setup"
   ]
  },
  {
   "cell_type": "code",
   "execution_count": 5,
   "metadata": {},
   "outputs": [
    {
     "name": "stdout",
     "output_type": "stream",
     "text": [
      "\u001b[0mVault v1.6.0 (7ce0bd9691998e0443bc77e98b1e2a4ab1e965d4)\u001b[0m\n"
     ]
    }
   ],
   "source": [
    "vault -version"
   ]
  },
  {
   "cell_type": "code",
   "execution_count": 3,
   "metadata": {},
   "outputs": [],
   "source": [
    "export VAULT_ADDR=http://127.0.0.1:8200\n",
    "export VAULT_SKIP_VERIFY=true"
   ]
  },
  {
   "cell_type": "code",
   "execution_count": 4,
   "metadata": {},
   "outputs": [
    {
     "name": "stdout",
     "output_type": "stream",
     "text": [
      "\u001b[0mKey             Value\n",
      "---             -----\n",
      "Seal Type       shamir\n",
      "Initialized     true\n",
      "Sealed          false\n",
      "Total Shares    1\n",
      "Threshold       1\n",
      "Version         1.6.0\n",
      "Storage Type    inmem_transactional_ha\n",
      "Cluster Name    vault-cluster-6a9fd92b\n",
      "Cluster ID      ad4f5b1b-962e-cf1a-33c8-1ba9651d5fa0\n",
      "HA Enabled      true\n",
      "HA Cluster      https://127.0.0.1:8201\n",
      "HA Mode         active\u001b[0m\n"
     ]
    }
   ],
   "source": [
    "vault status"
   ]
  },
  {
   "cell_type": "markdown",
   "metadata": {},
   "source": [
    "---\n",
    "### Create Short-Lived Tokens\n",
    "Do the exercise below twice, each using different tokens!"
   ]
  },
  {
   "cell_type": "code",
   "execution_count": 43,
   "metadata": {},
   "outputs": [
    {
     "name": "stdout",
     "output_type": "stream",
     "text": [
      "\u001b[93mWARNING! The following warnings were returned from Vault:\n",
      "\u001b[0m\n",
      "\u001b[93m  * Policy \"jenkins\" does not exist\u001b[0m\n",
      "\u001b[93m\u001b[0m\n",
      "\u001b[0mKey                  Value\n",
      "---                  -----\n",
      "token                s.Yrei4mF58sKRbjEnIXHIC5ww\n",
      "token_accessor       ybwRUCcMnJWbufxaxDWG7bfG\n",
      "token_duration       5m\n",
      "token_renewable      true\n",
      "token_policies       [\"default\" \"jenkins\"]\n",
      "identity_policies    []\n",
      "policies             [\"default\" \"jenkins\"]\u001b[0m\n"
     ]
    }
   ],
   "source": [
    "VAULT_TOKEN=root vault token create -policy=jenkins -ttl=5m"
   ]
  },
  {
   "cell_type": "markdown",
   "metadata": {},
   "source": [
    "s.NgllFwmsuIEJ0WLfjzaIa6LW\n",
    "##### We'll use the value of token above"
   ]
  },
  {
   "cell_type": "code",
   "execution_count": 44,
   "metadata": {},
   "outputs": [
    {
     "name": "stdout",
     "output_type": "stream",
     "text": [
      "\u001b[0mSuccess! Data written to: cubbyhole/mygithub_token\u001b[0m\n"
     ]
    }
   ],
   "source": [
    "VAULT_TOKEN=\"s.Yrei4mF58sKRbjEnIXHIC5ww\" vault write cubbyhole/mygithub_token token=\"123456789_5ww\""
   ]
  },
  {
   "cell_type": "code",
   "execution_count": 46,
   "metadata": {
    "scrolled": true
   },
   "outputs": [
    {
     "name": "stdout",
     "output_type": "stream",
     "text": [
      "\u001b[0mKey      Value\n",
      "---      -----\n",
      "token    123456789_5ww\u001b[0m\n"
     ]
    }
   ],
   "source": [
    "VAULT_TOKEN=\"s.Yrei4mF58sKRbjEnIXHIC5ww\" vault read cubbyhole/mygithub_token"
   ]
  },
  {
   "cell_type": "markdown",
   "metadata": {},
   "source": [
    "**root token can not read the cubbyhole**"
   ]
  },
  {
   "cell_type": "code",
   "execution_count": 47,
   "metadata": {},
   "outputs": [
    {
     "name": "stdout",
     "output_type": "stream",
     "text": [
      "\u001b[91mNo value found at cubbyhole/mygithub_token\u001b[0m\n"
     ]
    }
   ],
   "source": [
    "VAULT_TOKEN=\"root\" vault read cubbyhole/mygithub_token"
   ]
  },
  {
   "cell_type": "markdown",
   "metadata": {},
   "source": [
    "\n",
    "### Response Wrapping\n",
    "Problem:  Say you generated a token.  How  do you **securely distribute** this initial token to the trusted entity?\n",
    "\n",
    "Solution:\n",
    "Vault's cubbyhole response wrapping feature.  It ensures that only a single party can unwrap the token and see what's inside.\n",
    "\n",
    "How it works:\n",
    "* store the initial token inside a temporary (restricted) token's cubbyhole with a short TTL\n",
    "* only expect client (trusted identity) can unwrap this secret\n",
    "    * wrapping token is a **single use** token\n",
    "    \n"
   ]
  },
  {
   "cell_type": "code",
   "execution_count": 48,
   "metadata": {},
   "outputs": [
    {
     "name": "stdout",
     "output_type": "stream",
     "text": [
      "\u001b[0mKey                              Value\n",
      "---                              -----\n",
      "wrapping_token:                  s.eHGoTyZJN5uycSPeLARJXD3T\n",
      "wrapping_accessor:               9DeXWP89duJgqunIsyEIafeO\n",
      "wrapping_token_ttl:              3m\n",
      "wrapping_token_creation_time:    2021-01-03 15:33:35.77178 +0800 +08\n",
      "wrapping_token_creation_path:    auth/token/create\n",
      "wrapped_accessor:                nbld7mOvBWKiaO8oGcYO4Sqn\u001b[0m\n"
     ]
    }
   ],
   "source": [
    "VAULT_TOKEN=root vault token create -policy=jenkins -wrap-ttl=3m"
   ]
  },
  {
   "cell_type": "markdown",
   "metadata": {},
   "source": [
    "**Note:** Compare the output above (with -wrap-ttl) with the previous one without `wrap-ttl`.  \n",
    "\n",
    "Only one party can unwrap, and only once!"
   ]
  },
  {
   "cell_type": "code",
   "execution_count": 49,
   "metadata": {},
   "outputs": [
    {
     "name": "stdout",
     "output_type": "stream",
     "text": [
      "\u001b[93mWARNING! The following warnings were returned from Vault:\n",
      "\u001b[0m\n",
      "\u001b[93m  * Policy \"jenkins\" does not exist\u001b[0m\n",
      "\u001b[93m\u001b[0m\n",
      "\u001b[0mKey                  Value\n",
      "---                  -----\n",
      "token                s.nSNiV6MVKcLiVnaadiKCmrp8\n",
      "token_accessor       nbld7mOvBWKiaO8oGcYO4Sqn\n",
      "token_duration       768h\n",
      "token_renewable      true\n",
      "token_policies       [\"default\" \"jenkins\"]\n",
      "identity_policies    []\n",
      "policies             [\"default\" \"jenkins\"]\u001b[0m\n"
     ]
    }
   ],
   "source": [
    "vault unwrap s.eHGoTyZJN5uycSPeLARJXD3T"
   ]
  },
  {
   "cell_type": "markdown",
   "metadata": {},
   "source": [
    "**Note:** wrapping token is a **single-use** token"
   ]
  },
  {
   "cell_type": "code",
   "execution_count": 50,
   "metadata": {},
   "outputs": [
    {
     "name": "stdout",
     "output_type": "stream",
     "text": [
      "\u001b[91mError unwrapping: Error making API request.\n",
      "\n",
      "URL: PUT http://127.0.0.1:8200/v1/sys/wrapping/unwrap\n",
      "Code: 400. Errors:\n",
      "\n",
      "* wrapping token is not valid or does not exist\u001b[0m\n"
     ]
    }
   ],
   "source": [
    "VAULT_TOKEN=s.wYOxfqLgAHZDx7JareVdBlp9 vault unwrap"
   ]
  },
  {
   "cell_type": "markdown",
   "metadata": {},
   "source": [
    "&nbsp;\n",
    "\n",
    "---\n",
    "#### Thank you.\n",
    "<img src=images/HashiCorp_PrimaryLogo_Black_RGB.png width=100 class=\"center\">"
   ]
  }
 ],
 "metadata": {
  "kernelspec": {
   "display_name": "Z shell",
   "language": "zsh",
   "name": "zsh"
  },
  "language_info": {
   "codemirror_mode": "shell",
   "file_extension": ".zsh",
   "mimetype": "text/x-zsh",
   "name": "zsh",
   "pygments_lexer": "shell",
   "version": "5.7.1"
  }
 },
 "nbformat": 4,
 "nbformat_minor": 4
}
