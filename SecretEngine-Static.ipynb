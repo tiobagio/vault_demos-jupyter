{
 "cells": [
  {
   "cell_type": "markdown",
   "metadata": {},
   "source": [
    "<img align=right src=images/HashiCorp_PrimaryLogo_Black_RGB.png width=150>\n",
    "<img src=images/acme.jpeg width=100 align=\"left\">"
   ]
  },
  {
   "cell_type": "markdown",
   "metadata": {},
   "source": [
    "# Static Secrets\n",
    "---\n",
    "Key/Value Secrets engine is used to store arbitrary secrets.  It can be a generic Key-Value store that stores one value for a key. Or Versioning can be enabled and a number of versions for each key will be stored.\n",
    "\n",
    "**Prerequisites:**\n",
    "* Vault binary\n",
    "\n",
    "EXECUTE the following command in SEPARATE window\n",
    "```\n",
    "VAULT_UI=true VAULT_REDIRECT_ADDR=http://127.0.0.1:8200 evault server -log-level=trace -dev -dev-root-token-id=root -dev-listen-address=127.0.0.1:8200 -dev-ha -dev-transactional\n",
    "```\n",
    " \n",
    "### Setup"
   ]
  },
  {
   "cell_type": "code",
   "execution_count": 2,
   "metadata": {},
   "outputs": [],
   "source": [
    "export VAULT_ADDR=http://127.0.0.1:8200\n",
    "export VAULT_TOKEN=root\n",
    "export VAULT_SKIP_VERIFY=true"
   ]
  },
  {
   "cell_type": "code",
   "execution_count": null,
   "metadata": {},
   "outputs": [],
   "source": [
    "vault status"
   ]
  },
  {
   "cell_type": "code",
   "execution_count": 4,
   "metadata": {},
   "outputs": [
    {
     "name": "stdout",
     "output_type": "stream",
     "text": [
      "\u001b[0mPath          Plugin       Accessor              Default TTL    Max TTL    Force No Cache    Replication    Seal Wrap    External Entropy Access    Options           Description                                                UUID\n",
      "----          ------       --------              -----------    -------    --------------    -----------    ---------    -----------------------    -------           -----------                                                ----\n",
      "cubbyhole/    cubbyhole    cubbyhole_93280a06    n/a            n/a        false             local          false        false                      map[]             per-token private secret storage                           9f9e69f5-16a5-8791-4eae-ac999044bd9b\n",
      "identity/     identity     identity_1694b8f9     system         system     false             replicated     false        false                      map[]             identity store                                             74e59276-8929-4ff9-9d97-92eeb44384e0\n",
      "secret/       kv           kv_d2802cb9           system         system     false             replicated     false        false                      map[version:2]    key/value secret storage                                   1964aaa9-256b-375e-7821-8712a6d24124\n",
      "sys/          system       system_8796697f       n/a            n/a        false             replicated     false        false                      map[]             system endpoints used for control, policy and debugging    03a94582-fb97-e88a-fc12-83cf579f9ed4\u001b[0m\n"
     ]
    }
   ],
   "source": [
    "vault secrets list -detailed"
   ]
  },
  {
   "cell_type": "markdown",
   "metadata": {},
   "source": [
    "---\n",
    "### Demo\n"
   ]
  },
  {
   "cell_type": "markdown",
   "metadata": {},
   "source": [
    "**Write key/value secrets**"
   ]
  },
  {
   "cell_type": "code",
   "execution_count": 5,
   "metadata": {},
   "outputs": [
    {
     "name": "stdout",
     "output_type": "stream",
     "text": [
      "\u001b[0mKey              Value\n",
      "---              -----\n",
      "created_time     2021-01-05T13:44:37.211097Z\n",
      "deletion_time    n/a\n",
      "destroyed        false\n",
      "version          1\u001b[0m\n"
     ]
    }
   ],
   "source": [
    "vault kv put secret/training username=\"student01\" password=\"pAssw0rd\""
   ]
  },
  {
   "cell_type": "markdown",
   "metadata": {},
   "source": [
    "**Read the secrets**"
   ]
  },
  {
   "cell_type": "code",
   "execution_count": 22,
   "metadata": {},
   "outputs": [
    {
     "name": "stdout",
     "output_type": "stream",
     "text": [
      "\u001b[0m====== Metadata ======\u001b[0m\n",
      "\u001b[0mKey              Value\n",
      "---              -----\n",
      "created_time     2021-01-05T13:48:41.959785Z\n",
      "deletion_time    2021-01-05T13:52:35.163032Z\n",
      "destroyed        true\n",
      "version          2\u001b[0m\n",
      "\u001b[0m\u001b[0m\n"
     ]
    }
   ],
   "source": [
    "vault kv get secret/training"
   ]
  },
  {
   "cell_type": "markdown",
   "metadata": {},
   "source": [
    "**Read specific key only**"
   ]
  },
  {
   "cell_type": "code",
   "execution_count": 10,
   "metadata": {},
   "outputs": [
    {
     "name": "stdout",
     "output_type": "stream",
     "text": [
      "\u001b[0mstudent01\u001b[0m\n"
     ]
    }
   ],
   "source": [
    "vault kv get -field=username secret/training\n"
   ]
  },
  {
   "cell_type": "markdown",
   "metadata": {},
   "source": [
    "**Update specific key**"
   ]
  },
  {
   "cell_type": "code",
   "execution_count": 11,
   "metadata": {},
   "outputs": [
    {
     "name": "stdout",
     "output_type": "stream",
     "text": [
      "\u001b[0mKey              Value\n",
      "---              -----\n",
      "created_time     2021-01-05T13:48:41.959785Z\n",
      "deletion_time    n/a\n",
      "destroyed        false\n",
      "version          2\u001b[0m\n"
     ]
    }
   ],
   "source": [
    "vault kv patch secret/training course=\"Vault 101\""
   ]
  },
  {
   "cell_type": "code",
   "execution_count": 12,
   "metadata": {},
   "outputs": [
    {
     "name": "stdout",
     "output_type": "stream",
     "text": [
      "\u001b[0m====== Metadata ======\u001b[0m\n",
      "\u001b[0mKey              Value\n",
      "---              -----\n",
      "created_time     2021-01-05T13:48:41.959785Z\n",
      "deletion_time    n/a\n",
      "destroyed        false\n",
      "version          2\u001b[0m\n",
      "\u001b[0m\u001b[0m\n",
      "\u001b[0m====== Data ======\u001b[0m\n",
      "\u001b[0mKey         Value\n",
      "---         -----\n",
      "course      Vault 101\n",
      "password    pAssw0rd\n",
      "username    student01\u001b[0m\n"
     ]
    }
   ],
   "source": [
    "vault kv get secret/training"
   ]
  },
  {
   "cell_type": "markdown",
   "metadata": {},
   "source": [
    "### List all the secret keys stored in the K/V Secret backend"
   ]
  },
  {
   "cell_type": "code",
   "execution_count": 24,
   "metadata": {},
   "outputs": [
    {
     "name": "stdout",
     "output_type": "stream",
     "text": [
      "\u001b[0mKeys\n",
      "----\n",
      "training\u001b[0m\n"
     ]
    }
   ],
   "source": [
    "vault kv list secret"
   ]
  },
  {
   "cell_type": "markdown",
   "metadata": {},
   "source": [
    "**Delete Secrets**   "
   ]
  },
  {
   "cell_type": "code",
   "execution_count": 25,
   "metadata": {},
   "outputs": [
    {
     "name": "stdout",
     "output_type": "stream",
     "text": [
      "\u001b[0m====== Metadata ======\u001b[0m\n",
      "\u001b[0mKey              Value\n",
      "---              -----\n",
      "created_time     2021-01-05T13:48:41.959785Z\n",
      "deletion_time    2021-01-05T13:52:35.163032Z\n",
      "destroyed        true\n",
      "version          2\u001b[0m\n",
      "\u001b[0m\u001b[0m\n"
     ]
    }
   ],
   "source": [
    "vault kv get secret/training"
   ]
  },
  {
   "cell_type": "markdown",
   "metadata": {},
   "source": [
    "**To permanently delete secret/company , use vault kv destroy or vault kv metadata delete commands instead.**"
   ]
  },
  {
   "cell_type": "code",
   "execution_count": 26,
   "metadata": {},
   "outputs": [
    {
     "name": "stdout",
     "output_type": "stream",
     "text": [
      "\u001b[0mSuccess! Data written to: secret/destroy/training\u001b[0m\n"
     ]
    }
   ],
   "source": [
    "vault kv destroy -versions 2 secret/training"
   ]
  },
  {
   "cell_type": "code",
   "execution_count": 30,
   "metadata": {},
   "outputs": [
    {
     "name": "stdout",
     "output_type": "stream",
     "text": [
      "\u001b[0m====== Metadata ======\u001b[0m\n",
      "\u001b[0mKey              Value\n",
      "---              -----\n",
      "created_time     2021-01-05T13:58:39.426588Z\n",
      "deletion_time    n/a\n",
      "destroyed        false\n",
      "version          1\u001b[0m\n",
      "\u001b[0m\u001b[0m\n",
      "\u001b[0m===== Data =====\u001b[0m\n",
      "\u001b[0mKey       Value\n",
      "---       -----\n",
      "apikey    xvafdoygad1114\u001b[0m\n"
     ]
    }
   ],
   "source": [
    "vault kv get secret/apikey/google"
   ]
  },
  {
   "cell_type": "markdown",
   "metadata": {},
   "source": [
    "## API"
   ]
  },
  {
   "cell_type": "code",
   "execution_count": 27,
   "metadata": {},
   "outputs": [
    {
     "name": "stdout",
     "output_type": "stream",
     "text": [
      "curl -X PUT -H \"X-Vault-Request: true\" -H \"X-Vault-Token: $(vault print token)\" -d '{\"data\":{\"apikey\":\"xvafdoygad1114\"},\"options\":{}}' http://127.0.0.1:8200/v1/secret/data/apikey/google\n"
     ]
    }
   ],
   "source": [
    "vault kv put -output-curl-string secret/apikey/google apikey=\"xvafdoygad1114\""
   ]
  },
  {
   "cell_type": "markdown",
   "metadata": {},
   "source": [
    "**execute the cURL command**"
   ]
  },
  {
   "cell_type": "code",
   "execution_count": 35,
   "metadata": {},
   "outputs": [
    {
     "name": "stdout",
     "output_type": "stream",
     "text": [
      "{\"request_id\":\"5d568dec-2cb5-7ac9-5948-6a5bb3d7100b\",\"lease_id\":\"\",\"renewable\":false,\"lease_duration\":0,\"data\":{\"created_time\":\"2021-01-05T14:01:16.500349Z\",\"deletion_time\":\"\",\"destroyed\":false,\"version\":3},\"wrap_info\":null,\"warnings\":null,\"auth\":null}\n"
     ]
    }
   ],
   "source": [
    "curl -X PUT -H \"X-Vault-Request: true\" -H \"X-Vault-Token: $(vault print token)\" \\\n",
    "   -d '{\"data\":{\"apikey\":\"xvafdoygad1114\"},\"options\":{}}' \\\n",
    "   http://127.0.0.1:8200/v1/secret/data/apikey/google"
   ]
  },
  {
   "cell_type": "markdown",
   "metadata": {},
   "source": [
    "**Read the secret **"
   ]
  },
  {
   "cell_type": "code",
   "execution_count": 45,
   "metadata": {},
   "outputs": [
    {
     "name": "stdout",
     "output_type": "stream",
     "text": [
      "\u001b[1;39m{\n",
      "  \u001b[0m\u001b[34;1m\"request_id\"\u001b[0m\u001b[1;39m: \u001b[0m\u001b[0;32m\"74acefcb-cd5d-e045-1c36-91fc3c9ee588\"\u001b[0m\u001b[1;39m,\n",
      "  \u001b[0m\u001b[34;1m\"lease_id\"\u001b[0m\u001b[1;39m: \u001b[0m\u001b[0;32m\"\"\u001b[0m\u001b[1;39m,\n",
      "  \u001b[0m\u001b[34;1m\"renewable\"\u001b[0m\u001b[1;39m: \u001b[0m\u001b[0;39mfalse\u001b[0m\u001b[1;39m,\n",
      "  \u001b[0m\u001b[34;1m\"lease_duration\"\u001b[0m\u001b[1;39m: \u001b[0m\u001b[0;39m0\u001b[0m\u001b[1;39m,\n",
      "  \u001b[0m\u001b[34;1m\"data\"\u001b[0m\u001b[1;39m: \u001b[0m\u001b[1;39m{\n",
      "    \u001b[0m\u001b[34;1m\"data\"\u001b[0m\u001b[1;39m: \u001b[0m\u001b[1;30mnull\u001b[0m\u001b[1;39m,\n",
      "    \u001b[0m\u001b[34;1m\"metadata\"\u001b[0m\u001b[1;39m: \u001b[0m\u001b[1;39m{\n",
      "      \u001b[0m\u001b[34;1m\"created_time\"\u001b[0m\u001b[1;39m: \u001b[0m\u001b[0;32m\"2021-01-05T14:01:16.500349Z\"\u001b[0m\u001b[1;39m,\n",
      "      \u001b[0m\u001b[34;1m\"deletion_time\"\u001b[0m\u001b[1;39m: \u001b[0m\u001b[0;32m\"2021-01-05T14:04:10.838107Z\"\u001b[0m\u001b[1;39m,\n",
      "      \u001b[0m\u001b[34;1m\"destroyed\"\u001b[0m\u001b[1;39m: \u001b[0m\u001b[0;39mfalse\u001b[0m\u001b[1;39m,\n",
      "      \u001b[0m\u001b[34;1m\"version\"\u001b[0m\u001b[1;39m: \u001b[0m\u001b[0;39m3\u001b[0m\u001b[1;39m\n",
      "    \u001b[1;39m}\u001b[0m\u001b[1;39m\n",
      "  \u001b[1;39m}\u001b[0m\u001b[1;39m,\n",
      "  \u001b[0m\u001b[34;1m\"wrap_info\"\u001b[0m\u001b[1;39m: \u001b[0m\u001b[1;30mnull\u001b[0m\u001b[1;39m,\n",
      "  \u001b[0m\u001b[34;1m\"warnings\"\u001b[0m\u001b[1;39m: \u001b[0m\u001b[1;30mnull\u001b[0m\u001b[1;39m,\n",
      "  \u001b[0m\u001b[34;1m\"auth\"\u001b[0m\u001b[1;39m: \u001b[0m\u001b[1;30mnull\u001b[0m\u001b[1;39m\n",
      "\u001b[1;39m}\u001b[0m\n"
     ]
    }
   ],
   "source": [
    "curl -s -H \"X-Vault-Token: $(vault print token)\" http://127.0.0.1:8200/v1/secret/data/apikey/google | jq "
   ]
  },
  {
   "cell_type": "markdown",
   "metadata": {},
   "source": [
    "**Delete the secret**"
   ]
  },
  {
   "cell_type": "code",
   "execution_count": 44,
   "metadata": {},
   "outputs": [],
   "source": [
    "curl -s -X DELETE -H \"X-Vault-Token: $(vault print token)\" http://127.0.0.1:8200/v1/secret/data/apikey/google "
   ]
  },
  {
   "cell_type": "markdown",
   "metadata": {},
   "source": [
    "---\n",
    "### Via UI\n",
    "Open a web browser and visit http://127.0.0.1:8200/ui/vault Use TOKEN and Sign in\n"
   ]
  },
  {
   "cell_type": "markdown",
   "metadata": {},
   "source": [
    "**From the Secrets Engines** list, select**secret**, then **apikey > google**.  Version 1 of this scret has been deleted as a resulf oa API request. "
   ]
  },
  {
   "cell_type": "markdown",
   "metadata": {},
   "source": [
    "&nbsp;\n",
    "\n",
    "---\n",
    "#### Thank you.\n",
    "<img src=images/HashiCorp_PrimaryLogo_Black_RGB.png width=100 align=\"left\">"
   ]
  }
 ],
 "metadata": {
  "kernelspec": {
   "display_name": "Z shell",
   "language": "zsh",
   "name": "zsh"
  },
  "language_info": {
   "codemirror_mode": "shell",
   "file_extension": ".zsh",
   "mimetype": "text/x-zsh",
   "name": "zsh",
   "pygments_lexer": "shell",
   "version": "5.7.1"
  }
 },
 "nbformat": 4,
 "nbformat_minor": 4
}
