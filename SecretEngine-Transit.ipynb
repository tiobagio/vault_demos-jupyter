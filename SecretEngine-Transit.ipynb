{
 "cells": [
  {
   "cell_type": "markdown",
   "metadata": {},
   "source": [
    "<img src=images/HashiCorp_PrimaryLogo_Black_RGB.png width=150 align=\"right\">\n",
    "<img src=images/Acme.jpeg width=100 align=\"left\">"
   ]
  },
  {
   "cell_type": "markdown",
   "metadata": {},
   "source": [
    "<a id =1></a>\n",
    "## Encryption as a Service / Cryptography as a Service / Transit Secrets Engine\n",
    "\n",
    "\n",
    "## Business Values:\n",
    " * Enables security teams to foritify data during transit and at rest\n",
    " * Relieve the burden of proper encryption/decryption from application developers\n",
    " * Sign adn Verify data; generate hashes and HMACs of data and act as a source of random bytes\n",
    " * If an intrusion occurs, your data is encrypted with **AES 256-bit GCM** encryption\n",
    " * A centrally managed resource that can encrypt any data for the organization at scale\n",
    " * High performance - Vault will encrypt at higher rates (20K+ requests/sec) than the cloud providers solutions.\n",
    " \n",
    "<img src=images/EncryptionAsaService.png>\n"
   ]
  },
  {
   "cell_type": "markdown",
   "metadata": {},
   "source": [
    "### Vault Setup\n",
    "\n",
    "### Prerequisites\n",
    "* Running Vault Enterprise instance (in dev mode) \n"
   ]
  },
  {
   "cell_type": "code",
   "execution_count": 2,
   "metadata": {},
   "outputs": [
    {
     "name": "stdout",
     "output_type": "stream",
     "text": [
      "\u001b[0mVault v1.6.0 (7ce0bd9691998e0443bc77e98b1e2a4ab1e965d4)\u001b[0m\n"
     ]
    }
   ],
   "source": [
    "vault -version"
   ]
  },
  {
   "cell_type": "code",
   "execution_count": 1,
   "metadata": {},
   "outputs": [],
   "source": [
    "export ZSH_THEM=\"avit\"\n",
    "export VAULT_ADDR=http://127.0.0.1:8200\n",
    "export VAULT_TOKEN=root\n",
    "export VAULT_SKIP_VERIFY=true"
   ]
  },
  {
   "cell_type": "code",
   "execution_count": 3,
   "metadata": {},
   "outputs": [
    {
     "name": "stdout",
     "output_type": "stream",
     "text": [
      "\u001b[0mKey                Value\n",
      "---                -----\n",
      "Seal Type          shamir\n",
      "Initialized        true\n",
      "Sealed             true\n",
      "Total Shares       1\n",
      "Threshold          1\n",
      "Unseal Progress    0/1\n",
      "Unseal Nonce       n/a\n",
      "Version            1.6.1+ent\n",
      "Storage Type       raft\n",
      "HA Enabled         true\u001b[0m\n"
     ]
    }
   ],
   "source": [
    "vault status"
   ]
  },
  {
   "cell_type": "code",
   "execution_count": 9,
   "metadata": {},
   "outputs": [
    {
     "name": "stdout",
     "output_type": "stream",
     "text": [
      "\u001b[93mWARNING! The VAULT_TOKEN environment variable is set! This takes precedence\n",
      "over the value set by this command. To use the value set by this command,\n",
      "unset the VAULT_TOKEN environment variable or set it to the token displayed\n",
      "below.\n",
      "\u001b[0m\n",
      "\u001b[0mSuccess! You are now authenticated. The token information displayed below\n",
      "is already stored in the token helper. You do NOT need to run \"vault login\"\n",
      "again. Future Vault requests will automatically use this token.\n",
      "\u001b[0m\n",
      "\u001b[0mKey                  Value\n",
      "---                  -----\n",
      "token                root\n",
      "token_accessor       cSCbeb1g2ZPMa2X2YvvY0wkq\n",
      "token_duration       ∞\n",
      "token_renewable      false\n",
      "token_policies       [\"root\"]\n",
      "identity_policies    []\n",
      "policies             [\"root\"]\u001b[0m\n"
     ]
    }
   ],
   "source": [
    "vault login root"
   ]
  },
  {
   "cell_type": "markdown",
   "metadata": {},
   "source": [
    "---\n",
    "### Enable the Transit Secret Engine\n"
   ]
  },
  {
   "cell_type": "code",
   "execution_count": 10,
   "metadata": {},
   "outputs": [
    {
     "name": "stdout",
     "output_type": "stream",
     "text": [
      "\u001b[0mSuccess! Enabled the transit secrets engine at: transit/\u001b[0m\n"
     ]
    }
   ],
   "source": [
    "vault secrets enable transit"
   ]
  },
  {
   "cell_type": "markdown",
   "metadata": {},
   "source": [
    "\n",
    "### Create an Encryption Key Ring"
   ]
  },
  {
   "cell_type": "code",
   "execution_count": 11,
   "metadata": {
    "scrolled": true
   },
   "outputs": [
    {
     "name": "stdout",
     "output_type": "stream",
     "text": [
      "\u001b[0mSuccess! Data written to: transit/keys/orders\u001b[0m\n"
     ]
    }
   ],
   "source": [
    "vault write -f transit/keys/orders"
   ]
  },
  {
   "cell_type": "markdown",
   "metadata": {},
   "source": [
    "---\n",
    "### Encrypt Secrets\n",
    "\n",
    "##### Note: Plaintext must be **base64-encoded** before it can be encrypted."
   ]
  },
  {
   "cell_type": "code",
   "execution_count": 12,
   "metadata": {},
   "outputs": [
    {
     "name": "stdout",
     "output_type": "stream",
     "text": [
      "Plaintext: This is my demo secret\n"
     ]
    }
   ],
   "source": [
    "PLAIN=\"This is my demo secret\"\n",
    "echo \"Plaintext: \"$PLAIN"
   ]
  },
  {
   "cell_type": "code",
   "execution_count": 13,
   "metadata": {},
   "outputs": [
    {
     "name": "stdout",
     "output_type": "stream",
     "text": [
      "Plaintext in base64:  VGhpcyBpcyBteSBkZW1vIHNlY3JldAo=\n"
     ]
    }
   ],
   "source": [
    "PLAINTEXT64=$(base64 <<< \"$PLAIN\")\n",
    "echo \"Plaintext in base64: \" $PLAINTEXT64"
   ]
  },
  {
   "cell_type": "code",
   "execution_count": 19,
   "metadata": {
    "scrolled": true
   },
   "outputs": [
    {
     "name": "stdout",
     "output_type": "stream",
     "text": [
      "\u001b[0mKey            Value\n",
      "---            -----\n",
      "ciphertext     vault:v1:IQ9FnXgCtMbiOo4xvIa1gE2RkcpvM9ROoJ1zaAJIj5GUZfYB1foqVZ+/thyKPjyrTYk2\n",
      "key_version    1\u001b[0m\n"
     ]
    }
   ],
   "source": [
    "vault write transit/encrypt/orders plaintext=$PLAINTEXT64"
   ]
  },
  {
   "cell_type": "markdown",
   "metadata": {},
   "source": [
    "Vault does **NOT** store any of this data.  The output you received is ciphertext.  You can store this ciphertext at the desired location (e.g. mysql database) or pass it to your application.\n",
    "\n",
    "We'll copy the value of ciphertext and refer to it later as \"\\<ciphertext\\>\"\n",
    "    \n",
    "Here's another way to encrypt using API\n"
   ]
  },
  {
   "cell_type": "code",
   "execution_count": 21,
   "metadata": {},
   "outputs": [
    {
     "name": "stdout",
     "output_type": "stream",
     "text": [
      "Ciphertext: vault:v1:KgMQ3KKJxyC/vAdpCpbvk5i3r5UKiX5f4+4zllvFPSlo+nVsz+gUdACLHc/uSTaKt2a1\n"
     ]
    }
   ],
   "source": [
    "CIPHERTEXT=$(curl -s --header \"X-Vault-Token: ${VAULT_TOKEN}\" \\\n",
    "       --request POST \\\n",
    "       --data '{\"plaintext\": \"'\"${PLAINTEXT64}\"'\"}' \\\n",
    "       http://127.0.0.1:8200/v1/transit/encrypt/orders | jq -r '.data.ciphertext')\n",
    "\n",
    "echo \"Ciphertext: ${CIPHERTEXT}\""
   ]
  },
  {
   "cell_type": "markdown",
   "metadata": {},
   "source": [
    "---\n",
    "### Decrypt Ciphertext"
   ]
  },
  {
   "cell_type": "code",
   "execution_count": 29,
   "metadata": {},
   "outputs": [
    {
     "name": "stdout",
     "output_type": "stream",
     "text": [
      "\u001b[0mKey          Value\n",
      "---          -----\n",
      "plaintext    VGhpcyBpcyBteSBkZW1vIHNlY3JldAo=\u001b[0m\n"
     ]
    }
   ],
   "source": [
    "vault write transit/decrypt/orders ciphertext=\"vault:v1:KgMQ3KKJxyC/vAdpCpbvk5i3r5UKiX5f4+4zllvFPSlo+nVsz+gUdACLHc/uSTaKt2a1\""
   ]
  },
  {
   "cell_type": "markdown",
   "metadata": {},
   "source": [
    "\\\n",
    "Take the above output `plaintext` and execute a command\n",
    "```\n",
    "    base64 --decode <<< \"<plaintext>\"\n",
    "```"
   ]
  },
  {
   "cell_type": "code",
   "execution_count": 28,
   "metadata": {},
   "outputs": [
    {
     "name": "stdout",
     "output_type": "stream",
     "text": [
      "This is my demo secret\n"
     ]
    }
   ],
   "source": [
    "base64 --decode <<< \"VGhpcyBpcyBteSBkZW1vIHNlY3JldAo=\""
   ]
  },
  {
   "cell_type": "code",
   "execution_count": 44,
   "metadata": {},
   "outputs": [
    {
     "name": "stdout",
     "output_type": "stream",
     "text": [
      "Plaintext in Base 64 : VGhpcyBpcyBteSBkZW1vIHNlY3JldAo=\n",
      "\n",
      "Plaintext : \n",
      "This is my demo secret\n",
      "\n",
      "\n"
     ]
    }
   ],
   "source": [
    "DECIPHER=$(curl -s --header \"X-Vault-Token: ${VAULT_TOKEN}\" \\\n",
    "     --request POST \\\n",
    "     --data '{\"ciphertext\": \"'\"${CIPHERTEXT}\"'\"}' \\\n",
    "    http://127.0.0.1:8200/v1/transit/decrypt/orders | jq -r '.data.plaintext')\n",
    "\n",
    "\n",
    "echo \"Plaintext in Base 64 : ${DECIPHER}\\n\"\n",
    "echo \"Plaintext : \"\n",
    "echo \"${DECIPHER}\" | base64 --decode"
   ]
  },
  {
   "cell_type": "markdown",
   "metadata": {},
   "source": [
    "---\n",
    "### Rotate the Encryption key\n",
    "\n",
    "One of the benefits of using the Vault transit secrets engine is its ability to easily rotate encryption keys. Keys can be rotated manually by a human or by an automated process."
   ]
  },
  {
   "cell_type": "code",
   "execution_count": 34,
   "metadata": {},
   "outputs": [
    {
     "name": "stdout",
     "output_type": "stream",
     "text": [
      "\u001b[0mSuccess! Data written to: transit/keys/orders/rotate\u001b[0m\n"
     ]
    }
   ],
   "source": [
    "vault write -f transit/keys/orders/rotate"
   ]
  },
  {
   "cell_type": "code",
   "execution_count": 36,
   "metadata": {},
   "outputs": [
    {
     "name": "stdout",
     "output_type": "stream",
     "text": [
      "\u001b[0mKey            Value\n",
      "---            -----\n",
      "ciphertext     vault:v2:lbSxRZm0ozj956s/brbnkAFxvzrFFTpfi7MtHDiu2SaNer5XAeITUfhBzYSpqElFzpj8\n",
      "key_version    2\u001b[0m\n"
     ]
    }
   ],
   "source": [
    "vault write transit/encrypt/orders plaintext=$(base64 <<< \"$PLAIN\")"
   ]
  },
  {
   "cell_type": "code",
   "execution_count": 56,
   "metadata": {},
   "outputs": [
    {
     "name": "stdout",
     "output_type": "stream",
     "text": [
      "Ciphertext after Rotation: vault:v2:EJ//JUMu7+Dk4Dbwbuv5kSEqQIpkoi/MKjdn0idxpHK+O87PV/zdv1f/UFXaGmSXZdrK\n",
      "\n",
      "Cipherext before Rotation: vault:v1:KgMQ3KKJxyC/vAdpCpbvk5i3r5UKiX5f4+4zllvFPSlo+nVsz+gUdACLHc/uSTaKt2a1\n"
     ]
    }
   ],
   "source": [
    "## Encrypt using the http api \n",
    "CIPHERTEXT2=$(curl -s --header \"X-Vault-Token: ${VAULT_TOKEN}\" \\\n",
    "       --request POST \\\n",
    "       --data '{\"plaintext\": \"'\"${PLAINTEXT64}\"'\"}' \\\n",
    "       http://127.0.0.1:8200/v1/transit/encrypt/orders | jq -r '.data.ciphertext')\n",
    "\n",
    "echo \"Ciphertext after Rotation: ${CIPHERTEXT2}\\n\"\n",
    "echo \"Cipherext before Rotation: ${CIPHERTEXT}\""
   ]
  },
  {
   "cell_type": "markdown",
   "metadata": {},
   "source": [
    "##### Notice that the first ciphertext starts with \" vault:v1: \". After rotating the encryption key, the ciphertext starts with \" vault:v2: \". This indicates that the data gets encrypted using the latest version of the key after the rotation"
   ]
  },
  {
   "cell_type": "markdown",
   "metadata": {},
   "source": [
    "&nbsp;\n",
    "### Rewrap the older version of ciphertext\n"
   ]
  },
  {
   "cell_type": "code",
   "execution_count": 53,
   "metadata": {},
   "outputs": [
    {
     "name": "stdout",
     "output_type": "stream",
     "text": [
      "Original Ciphertext: vault:v1:KgMQ3KKJxyC/vAdpCpbvk5i3r5UKiX5f4+4zllvFPSlo+nVsz+gUdACLHc/uSTaKt2a1\n",
      "\n",
      "Rewrapped Ciphertext: vault:v2:qaTaBkB6pxCcU0ODTQIoqW4jRCMrErH9ZmuNXjvYC3RR16nZ2oTQ5JcobbCfJF5qQ0uK\n",
      "\n"
     ]
    }
   ],
   "source": [
    "REWRAP_CIPHERTEXT=$(curl -s --header \"X-Vault-Token: ${VAULT_TOKEN}\" \\\n",
    "   --request POST \\\n",
    "   --data '{\"ciphertext\": \"'\"${CIPHERTEXT}\"'\" }' \\\n",
    "   http://127.0.0.1:8200/v1/transit/rewrap/orders | jq -r '.data.ciphertext')\n",
    "   \n",
    "\n",
    "echo \"Original Ciphertext: ${CIPHERTEXT}\\n\"\n",
    "echo \"Rewrapped Ciphertext: ${REWRAP_CIPHERTEXT}\\n\"\n"
   ]
  },
  {
   "cell_type": "markdown",
   "metadata": {},
   "source": [
    "#### Note that the rewrapped ciphertext has a **'v2'** in it. "
   ]
  },
  {
   "cell_type": "markdown",
   "metadata": {},
   "source": [
    "### Update Key Configuration\n",
    "\n",
    "A Vault admin can update the encryption key configuration to specify the minimum version of ciphertext allowed to be decrypted,  \n",
    "the minimum version of the key that can be used to encrypt the plaintext, and if the key is allowed to be deleted, etc. for _**increased security**_."
   ]
  },
  {
   "cell_type": "markdown",
   "metadata": {},
   "source": [
    "### Rotate keys a few times (more versions)"
   ]
  },
  {
   "cell_type": "code",
   "execution_count": 59,
   "metadata": {},
   "outputs": [
    {
     "name": "stdout",
     "output_type": "stream",
     "text": [
      "\u001b[0mSuccess! Data written to: transit/keys/orders/rotate\u001b[0m\n",
      "\u001b[0mSuccess! Data written to: transit/keys/orders/rotate\u001b[0m\n",
      "\u001b[0mSuccess! Data written to: transit/keys/orders/rotate\u001b[0m\n",
      "\u001b[0mSuccess! Data written to: transit/keys/orders/rotate\u001b[0m\n",
      "\u001b[0mSuccess! Data written to: transit/keys/orders/rotate\u001b[0m\n"
     ]
    }
   ],
   "source": [
    "export VAULT_TOKEN=root\n",
    "vault write -f transit/keys/orders/rotate\n",
    "vault write -f transit/keys/orders/rotate\n",
    "vault write -f transit/keys/orders/rotate\n",
    "vault write -f transit/keys/orders/rotate\n",
    "vault write -f transit/keys/orders/rotate"
   ]
  },
  {
   "cell_type": "markdown",
   "metadata": {},
   "source": [
    "### Read the order key information back"
   ]
  },
  {
   "cell_type": "code",
   "execution_count": 60,
   "metadata": {
    "scrolled": true
   },
   "outputs": [
    {
     "name": "stdout",
     "output_type": "stream",
     "text": [
      "\u001b[0mKey                       Value\n",
      "---                       -----\n",
      "allow_plaintext_backup    false\n",
      "deletion_allowed          false\n",
      "derived                   false\n",
      "exportable                false\n",
      "keys                      map[1:1608516881 2:1608517527 3:1608537373 4:1608537373 5:1608537373 6:1608537373 7:1608537373]\n",
      "latest_version            7\n",
      "min_available_version     0\n",
      "min_decryption_version    1\n",
      "min_encryption_version    0\n",
      "name                      orders\n",
      "supports_decryption       true\n",
      "supports_derivation       true\n",
      "supports_encryption       true\n",
      "supports_signing          false\n",
      "type                      aes256-gcm96\u001b[0m\n"
     ]
    }
   ],
   "source": [
    "vault read transit/keys/orders"
   ]
  },
  {
   "cell_type": "markdown",
   "metadata": {},
   "source": [
    "##### The current version of the key is 7.  There is no restriction about the minimum key version and any of the key versions can decrypt the data (min_decyption_version)"
   ]
  },
  {
   "cell_type": "markdown",
   "metadata": {},
   "source": [
    "### Set a Minimum Decryption Version"
   ]
  },
  {
   "cell_type": "code",
   "execution_count": 61,
   "metadata": {},
   "outputs": [
    {
     "name": "stdout",
     "output_type": "stream",
     "text": [
      "\u001b[0mSuccess! Data written to: transit/keys/orders/config\u001b[0m\n"
     ]
    }
   ],
   "source": [
    "vault write transit/keys/orders/config min_decryption_version=5"
   ]
  },
  {
   "cell_type": "markdown",
   "metadata": {},
   "source": [
    "### Read the new Key Configuration"
   ]
  },
  {
   "cell_type": "code",
   "execution_count": 62,
   "metadata": {},
   "outputs": [
    {
     "name": "stdout",
     "output_type": "stream",
     "text": [
      "\u001b[0mKey                       Value\n",
      "---                       -----\n",
      "allow_plaintext_backup    false\n",
      "deletion_allowed          false\n",
      "derived                   false\n",
      "exportable                false\n",
      "keys                      map[5:1608537373 6:1608537373 7:1608537373]\n",
      "latest_version            7\n",
      "min_available_version     0\n",
      "min_decryption_version    5\n",
      "min_encryption_version    0\n",
      "name                      orders\n",
      "supports_decryption       true\n",
      "supports_derivation       true\n",
      "supports_encryption       true\n",
      "supports_signing          false\n",
      "type                      aes256-gcm96\u001b[0m\n"
     ]
    }
   ],
   "source": [
    "vault read transit/keys/orders"
   ]
  },
  {
   "cell_type": "code",
   "execution_count": 64,
   "metadata": {},
   "outputs": [
    {
     "name": "stdout",
     "output_type": "stream",
     "text": [
      "\u001b[0mSuccess! Data written to: transit/keys/orders/config\u001b[0m\n"
     ]
    }
   ],
   "source": [
    "vault write transit/keys/orders/config min_decryption_version=2"
   ]
  },
  {
   "cell_type": "markdown",
   "metadata": {},
   "source": [
    "&nbsp;\n",
    "##### What happen to those ciphertext that were encrypted with v1, v2, or v3 of the key?\n",
    "Answer:  Vault would refuse to decrypt the data as the key used is less than the minimum key version allowed."
   ]
  },
  {
   "cell_type": "markdown",
   "metadata": {},
   "source": [
    "---\n",
    "### Encrypt data via web UI\n",
    "\n",
    "Open a browser and visit http://127.0.0.1:8200\n"
   ]
  },
  {
   "cell_type": "markdown",
   "metadata": {},
   "source": [
    "---\n",
    "### Sign and Validate data\n",
    "Consider a time where you want to ensure the data came from a trusted source.  You don't care who can read the data, but you care about the source of the data.   In such case, you use data signing instead of encryption.\n",
    "\n",
    "Transit Secret Engine supports a number of key types and some support signing and signature verification.\n",
    "\n",
    "| Key Type |  Description |\n",
    "|----------|--------------|\n",
    "| aes128-gcm96 | AES-GCM with a 128-bit AES key and a 96-bit nonce |\n",
    "| aes256-gcm96 | AES-GCM with a 256-bit AES key and a 96-bit nonce (**default**) |\n",
    "| chachca20-poly1305 | ChaCha20-Poly1305 with a 256-bit key |\n",
    "| ed25519 | ED 25519 |\n",
    "|ecdsa-p256 | ECDSA using the P-256 elliptic curve |\n",
    "|ecdsa-p256 | ECDSA using the P-384 elliptic curve |\n",
    "|ecdsa-p521 | ECDSA using the P-521 elliptic curve |\n",
    "| rsa-2048 | 2048-bit RSA key |\n",
    "| rsa-3072 | 3072-bit RSA key |\n",
    "| rsa-4096 | 4096-bit RSA key \n",
    "\n",
    "\n",
    "see https://www.vaultproject.io/api-docs/secret/transit#create-key\n"
   ]
  },
  {
   "cell_type": "code",
   "execution_count": 66,
   "metadata": {},
   "outputs": [
    {
     "name": "stdout",
     "output_type": "stream",
     "text": [
      "\u001b[0mSuccess! Data written to: transit/keys/newsletter\u001b[0m\n"
     ]
    }
   ],
   "source": [
    "vault write transit/keys/newsletter type=\"rsa-4096\""
   ]
  },
  {
   "cell_type": "code",
   "execution_count": 69,
   "metadata": {},
   "outputs": [
    {
     "name": "stdout",
     "output_type": "stream",
     "text": [
      "\u001b[0mKey            Value\n",
      "---            -----\n",
      "key_version    1\n",
      "signature      vault:v1:Ztd2qOQiYHqq2uXud20UGNkkdq/MnCqkMlfBGtHrKvFs7C2iZvo9BKjb++2LX9ccyJnCiyh29B6fe5G3aXO2mSabT5+4L7FDWzjlnnczQMhQ0RleK7QwhbgM29RCVrUYE0dBiWH5nBdwWnvDUT0BftP7fec77HVkZIS3n4JsLwz9UivwSzucjRyBtfHgtpNBTP7rjOwwHHzy0mW1L0L2eLf3IlFr1+PKT/5OSeT81umTGF6TAF7vYE3XjOcizTN3AScw1QstUUvtlAp0WP3JrFKKaTGc9bLRFvbD7s0x6HRvnCNgPDA5tsGpbtHDrrcMcYbqHT5EAdCxD0fi/ACqcogBAI/SqxDR86Anc5othwptjZVJD2OYf2MDCuaL75n9cTeA8fTbZr7SHOd9AwdNQoCS0Z9WjDLNijgzYDZbYkwsUVxofyspV3scOuYOvGy7/hv43GHw4NyXNDRHKjAx3LNzwNofJ7U+M+1Lo7HANCjK85FqNrTTWzHb2JPwVGFu2/OtwTdVbWYfFUWiDLYm75R7goDWiM9V44v/OgKHd3JdY/HfMShP4r08ek+bk+IzeRhUuszNddyLHMlBg4MKrkHkx0pkJ2aOTyo/0FTWuEWMAEKDY//uAPTMcIIvGffgudgMWgg6TbwpxLAbxAHi7bHqo7/DilyFYllUJiLfnOI=\u001b[0m\n"
     ]
    }
   ],
   "source": [
    "vault write transit/sign/newsletter input=$(base64 <<< \"$PLAIN\")"
   ]
  },
  {
   "cell_type": "code",
   "execution_count": 70,
   "metadata": {},
   "outputs": [
    {
     "name": "stdout",
     "output_type": "stream",
     "text": [
      "\u001b[0mKey      Value\n",
      "---      -----\n",
      "valid    true\u001b[0m\n"
     ]
    }
   ],
   "source": [
    "# replace <signature> with the real data\n",
    "vault write transit/verify/newsletter input=$(base64 <<< \"$PLAIN\") \\\n",
    "   signature=\"vault:v1:Ztd2qOQiYHqq2uXud20UGNkkdq/MnCqkMlfBGtHrKvFs7C2iZvo9BKjb++2LX9ccyJnCiyh29B6fe5G3aXO2mSabT5+4L7FDWzjlnnczQMhQ0RleK7QwhbgM29RCVrUYE0dBiWH5nBdwWnvDUT0BftP7fec77HVkZIS3n4JsLwz9UivwSzucjRyBtfHgtpNBTP7rjOwwHHzy0mW1L0L2eLf3IlFr1+PKT/5OSeT81umTGF6TAF7vYE3XjOcizTN3AScw1QstUUvtlAp0WP3JrFKKaTGc9bLRFvbD7s0x6HRvnCNgPDA5tsGpbtHDrrcMcYbqHT5EAdCxD0fi/ACqcogBAI/SqxDR86Anc5othwptjZVJD2OYf2MDCuaL75n9cTeA8fTbZr7SHOd9AwdNQoCS0Z9WjDLNijgzYDZbYkwsUVxofyspV3scOuYOvGy7/hv43GHw4NyXNDRHKjAx3LNzwNofJ7U+M+1Lo7HANCjK85FqNrTTWzHb2JPwVGFu2/OtwTdVbWYfFUWiDLYm75R7goDWiM9V44v/OgKHd3JdY/HfMShP4r08ek+bk+IzeRhUuszNddyLHMlBg4MKrkHkx0pkJ2aOTyo/0FTWuEWMAEKDY//uAPTMcIIvGffgudgMWgg6TbwpxLAbxAHi7bHqo7/DilyFYllUJiLfnOI=\""
   ]
  },
  {
   "cell_type": "markdown",
   "metadata": {},
   "source": [
    "&nbsp;\n",
    "\n",
    "---\n",
    "#### Thank you.\n",
    "<img src=images/HashiCorp_PrimaryLogo_Black_RGB.png width=100 align=\"left\">"
   ]
  }
 ],
 "metadata": {
  "kernelspec": {
   "display_name": "Z shell",
   "language": "zsh",
   "name": "zsh"
  },
  "language_info": {
   "codemirror_mode": "shell",
   "file_extension": ".zsh",
   "mimetype": "text/x-zsh",
   "name": "zsh",
   "pygments_lexer": "shell",
   "version": "5.7.1"
  }
 },
 "nbformat": 4,
 "nbformat_minor": 4
}
