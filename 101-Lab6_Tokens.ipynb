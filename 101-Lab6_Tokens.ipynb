{
 "cells": [
  {
   "cell_type": "markdown",
   "metadata": {},
   "source": [
    "<img src=images/HashiCorp_PrimaryLogo_Black_RGB.png width=150 align=\"right\">\n",
    "<img src=images/Acme.jpeg width=100 align=\"left\">"
   ]
  },
  {
   "cell_type": "markdown",
   "metadata": {},
   "source": [
    "#  Tokens\n",
    "\n",
    " * Almost all operations in Vault requires a token.  It is important to understand the token lifecycle and various parameters.\n",
    " "
   ]
  },
  {
   "cell_type": "markdown",
   "metadata": {},
   "source": [
    "### Vault Setup\n",
    "\n",
    "### Prerequisites\n",
    "* Running Vault Enterprise instance (also in dev mode) \n"
   ]
  },
  {
   "cell_type": "code",
   "execution_count": 5,
   "metadata": {},
   "outputs": [
    {
     "name": "stdout",
     "output_type": "stream",
     "text": [
      "\u001b[0mVault v1.6.0 (7ce0bd9691998e0443bc77e98b1e2a4ab1e965d4)\u001b[0m\n"
     ]
    }
   ],
   "source": [
    "vault -version"
   ]
  },
  {
   "cell_type": "code",
   "execution_count": 4,
   "metadata": {},
   "outputs": [],
   "source": [
    "export VAULT_ADDR=http://127.0.0.1:8200\n",
    "export VAULT_TOKEN=root\n",
    "export VAULT_SKIP_VERIFY=true"
   ]
  },
  {
   "cell_type": "code",
   "execution_count": 6,
   "metadata": {},
   "outputs": [
    {
     "name": "stdout",
     "output_type": "stream",
     "text": [
      "\u001b[0mKey             Value\n",
      "---             -----\n",
      "Seal Type       shamir\n",
      "Initialized     true\n",
      "Sealed          false\n",
      "Total Shares    1\n",
      "Threshold       1\n",
      "Version         1.6.0\n",
      "Storage Type    inmem_transactional_ha\n",
      "Cluster Name    vault-cluster-1dbc1310\n",
      "Cluster ID      747ea9f7-7a07-0b5c-dbc6-d14ce8f1f2fe\n",
      "HA Enabled      true\n",
      "HA Cluster      https://127.0.0.1:8201\n",
      "HA Mode         active\u001b[0m\n"
     ]
    }
   ],
   "source": [
    "vault status"
   ]
  },
  {
   "cell_type": "code",
   "execution_count": 11,
   "metadata": {},
   "outputs": [
    {
     "name": "stdout",
     "output_type": "stream",
     "text": [
      "\u001b[93mWARNING! The VAULT_TOKEN environment variable is set! This takes precedence\n",
      "over the value set by this command. To use the value set by this command,\n",
      "unset the VAULT_TOKEN environment variable or set it to the token displayed\n",
      "below.\n",
      "\u001b[0m\n",
      "\u001b[0mSuccess! You are now authenticated. The token information displayed below\n",
      "is already stored in the token helper. You do NOT need to run \"vault login\"\n",
      "again. Future Vault requests will automatically use this token.\n",
      "\u001b[0m\n",
      "\u001b[0mKey                  Value\n",
      "---                  -----\n",
      "token                root\n",
      "token_accessor       53Vy1NWM65Xd54dUnw9duptm\n",
      "token_duration       ∞\n",
      "token_renewable      false\n",
      "token_policies       [\"root\"]\n",
      "identity_policies    []\n",
      "policies             [\"root\"]\u001b[0m\n"
     ]
    }
   ],
   "source": [
    "vault login root"
   ]
  },
  {
   "cell_type": "markdown",
   "metadata": {},
   "source": [
    "---\n",
    "### Create Short-Lived Tokens"
   ]
  },
  {
   "cell_type": "code",
   "execution_count": 7,
   "metadata": {},
   "outputs": [
    {
     "name": "stdout",
     "output_type": "stream",
     "text": [
      "Usage: vault token create [options]\n",
      "\n",
      "  Creates a new token that can be used for authentication. This token will be\n",
      "  created as a child of the currently authenticated token. The generated token\n",
      "  will inherit all policies and permissions of the currently authenticated\n",
      "  token unless you explicitly define a subset list policies to assign to the\n",
      "  token.\n",
      "\n",
      "  A ttl can also be associated with the token. If a ttl is not associated\n",
      "  with the token, then it cannot be renewed. If a ttl is associated with\n",
      "  the token, it will expire after that amount of time unless it is renewed.\n",
      "\n",
      "  Metadata associated with the token (specified with \"-metadata\") is written\n",
      "  to the audit log when the token is used.\n",
      "\n",
      "  If a role is specified, the role may override parameters specified here.\n",
      "\n",
      "HTTP Options:\n",
      "\n",
      "  -address=<string>\n",
      "      Address of the Vault server. The default is https://127.0.0.1:8200. This\n",
      "      can also be specified via the VAULT_ADDR environment variable.\n",
      "\n",
      "  -agent-address=<string>\n",
      "      Address of the Agent. This can also be specified via the\n",
      "      VAULT_AGENT_ADDR environment variable.\n",
      "\n",
      "  -ca-cert=<string>\n",
      "      Path on the local disk to a single PEM-encoded CA certificate to verify\n",
      "      the Vault server's SSL certificate. This takes precedence over -ca-path.\n",
      "      This can also be specified via the VAULT_CACERT environment variable.\n",
      "\n",
      "  -ca-path=<string>\n",
      "      Path on the local disk to a directory of PEM-encoded CA certificates to\n",
      "      verify the Vault server's SSL certificate. This can also be specified\n",
      "      via the VAULT_CAPATH environment variable.\n",
      "\n",
      "  -client-cert=<string>\n",
      "      Path on the local disk to a single PEM-encoded CA certificate to use\n",
      "      for TLS authentication to the Vault server. If this flag is specified,\n",
      "      -client-key is also required. This can also be specified via the\n",
      "      VAULT_CLIENT_CERT environment variable.\n",
      "\n",
      "  -client-key=<string>\n",
      "      Path on the local disk to a single PEM-encoded private key matching the\n",
      "      client certificate from -client-cert. This can also be specified via the\n",
      "      VAULT_CLIENT_KEY environment variable.\n",
      "\n",
      "  -mfa=<string>\n",
      "      Supply MFA credentials as part of X-Vault-MFA header. This can also be\n",
      "      specified via the VAULT_MFA environment variable.\n",
      "\n",
      "  -namespace=<string>\n",
      "      The namespace to use for the command. Setting this is not necessary\n",
      "      but allows using relative paths. -ns can be used as shortcut. The\n",
      "      default is (not set). This can also be specified via the VAULT_NAMESPACE\n",
      "      environment variable.\n",
      "\n",
      "  -output-curl-string\n",
      "      Instead of executing the request, print an equivalent cURL command\n",
      "      string and exit. The default is false.\n",
      "\n",
      "  -policy-override\n",
      "      Override a Sentinel policy that has a soft-mandatory enforcement_level\n",
      "      specified The default is false.\n",
      "\n",
      "  -tls-server-name=<string>\n",
      "      Name to use as the SNI host when connecting to the Vault server via TLS.\n",
      "      This can also be specified via the VAULT_TLS_SERVER_NAME environment\n",
      "      variable.\n",
      "\n",
      "  -tls-skip-verify\n",
      "      Disable verification of TLS certificates. Using this option is highly\n",
      "      discouraged as it decreases the security of data transmissions to and\n",
      "      from the Vault server. The default is false. This can also be specified\n",
      "      via the VAULT_SKIP_VERIFY environment variable.\n",
      "\n",
      "  -wrap-ttl=<duration>\n",
      "      Wraps the response in a cubbyhole token with the requested TTL. The\n",
      "      response is available via the \"vault unwrap\" command. The TTL is\n",
      "      specified as a numeric string with suffix like \"30s\" or \"5m\". This can\n",
      "      also be specified via the VAULT_WRAP_TTL environment variable.\n",
      "\n",
      "Output Options:\n",
      "\n",
      "  -field=<string>\n",
      "      Print only the field with the given name. Specifying this option will\n",
      "      take precedence over other formatting directives. The result will not\n",
      "      have a trailing newline making it ideal for piping to other processes.\n",
      "\n",
      "  -format=<string>\n",
      "      Print the output in the given format. Valid formats are \"table\", \"json\",\n",
      "      or \"yaml\". The default is table. This can also be specified via the\n",
      "      VAULT_FORMAT environment variable.\n",
      "\n",
      "Command Options:\n",
      "\n",
      "  -display-name=<string>\n",
      "      Name to associate with this token. This is a non-sensitive value that\n",
      "      can be used to help identify created secrets (e.g. prefixes).\n",
      "\n",
      "  -entity-alias=<string>\n",
      "      Name of the entity alias to associate with during token creation. Only\n",
      "      works in combination with -role argument and used entity alias must be\n",
      "      listed in allowed_entity_aliases. If this has been specified, the entity\n",
      "      will not be inherited from the parent.\n",
      "\n",
      "  -explicit-max-ttl=<duration>\n",
      "      Explicit maximum lifetime for the token. Unlike normal TTLs, the maximum\n",
      "      TTL is a hard limit and cannot be exceeded. This is specified as a\n",
      "      numeric string with suffix like \"30s\" or \"5m\".\n",
      "\n",
      "  -id=<string>\n",
      "      Value for the token. By default, this is an auto-generated string.\n",
      "      Specifying this value requires sudo permissions.\n",
      "\n",
      "  -metadata=<key=value>\n",
      "      Arbitrary key=value metadata to associate with the token. This metadata\n",
      "      will show in the audit log when the token is used. This can be specified\n",
      "      multiple times to add multiple pieces of metadata.\n",
      "\n",
      "  -no-default-policy\n",
      "      Detach the \"default\" policy from the policy set for this token. The\n",
      "      default is false.\n",
      "\n",
      "  -orphan\n",
      "      Create the token with no parent. This prevents the token from being\n",
      "      revoked when the token which created it expires. Setting this value\n",
      "      requires root or sudo permissions. The default is false.\n",
      "\n",
      "  -period=<duration>\n",
      "      If specified, every renewal will use the given period. Periodic tokens\n",
      "      do not expire (unless -explicit-max-ttl is also provided). Setting this\n",
      "      value requires sudo permissions. This is specified as a numeric string\n",
      "      with suffix like \"30s\" or \"5m\".\n",
      "\n",
      "  -policy=<string>\n",
      "      Name of a policy to associate with this token. This can be specified\n",
      "      multiple times to attach multiple policies.\n",
      "\n",
      "  -renewable\n",
      "      Allow the token to be renewed up to it's maximum TTL. The default is\n",
      "      true.\n",
      "\n",
      "  -role=<string>\n",
      "      Name of the role to create the token against. Specifying -role may\n",
      "      override other arguments. The locally authenticated Vault token must\n",
      "      have permission for \"auth/token/create/<role>\".\n",
      "\n",
      "  -ttl=<duration>\n",
      "      Initial TTL to associate with the token. Token renewals may be able to\n",
      "      extend beyond this value, depending on the configured maximum TTLs. This\n",
      "      is specified as a numeric string with suffix like \"30s\" or \"5m\".\n",
      "\n",
      "  -type=<string>\n",
      "      The type of token to create. Can be \"service\" or \"batch\". The default is\n",
      "      service.\n",
      "\n",
      "  -use-limit=<int>\n",
      "      Number of times this token can be used. After the last use, the token\n",
      "      is automatically revoked. By default, tokens can be used an unlimited\n",
      "      number of times until their expiration.\n"
     ]
    }
   ],
   "source": [
    "vault token create -h"
   ]
  },
  {
   "cell_type": "code",
   "execution_count": 8,
   "metadata": {},
   "outputs": [
    {
     "name": "stdout",
     "output_type": "stream",
     "text": [
      "\u001b[0mKey                  Value\n",
      "---                  -----\n",
      "token                s.dalUfuCp9FwO2b2wXgSEoprM\n",
      "token_accessor       9TDS8GSx7vkyM0g480xEbHEp\n",
      "token_duration       2m\n",
      "token_renewable      true\n",
      "token_policies       [\"root\"]\n",
      "identity_policies    []\n",
      "policies             [\"root\"]\u001b[0m\n"
     ]
    }
   ],
   "source": [
    "# in seconds\n",
    "vault token create -ttl=120"
   ]
  },
  {
   "cell_type": "markdown",
   "metadata": {},
   "source": [
    "\n",
    "##### We'll use the value of token above in subsequent commands"
   ]
  },
  {
   "cell_type": "code",
   "execution_count": 9,
   "metadata": {
    "scrolled": true
   },
   "outputs": [
    {
     "name": "stdout",
     "output_type": "stream",
     "text": [
      "\u001b[0mKey                 Value\n",
      "---                 -----\n",
      "accessor            9TDS8GSx7vkyM0g480xEbHEp\n",
      "creation_time       1608644631\n",
      "creation_ttl        2m\n",
      "display_name        token\n",
      "entity_id           n/a\n",
      "expire_time         2020-12-22T21:45:51.52629+08:00\n",
      "explicit_max_ttl    0s\n",
      "id                  s.dalUfuCp9FwO2b2wXgSEoprM\n",
      "issue_time          2020-12-22T21:43:51.526294+08:00\n",
      "meta                <nil>\n",
      "num_uses            0\n",
      "orphan              false\n",
      "path                auth/token/create\n",
      "policies            [root]\n",
      "renewable           true\n",
      "ttl                 1m28s\n",
      "type                service\u001b[0m\n"
     ]
    }
   ],
   "source": [
    "#vault token lookup <token_task_1>\n",
    "vault token lookup s.dalUfuCp9FwO2b2wXgSEoprM\n"
   ]
  },
  {
   "cell_type": "markdown",
   "metadata": {},
   "source": [
    "\n",
    "### Token Renewal"
   ]
  },
  {
   "cell_type": "code",
   "execution_count": 85,
   "metadata": {},
   "outputs": [
    {
     "name": "stdout",
     "output_type": "stream",
     "text": [
      "\u001b[0mKey                  Value\n",
      "---                  -----\n",
      "token                s.KupeTj2SpKUKWzLTYdgpNbWa\n",
      "token_accessor       3UJ1v3RQ8peMhGOtttyFVWzf\n",
      "token_duration       4m\n",
      "token_renewable      true\n",
      "token_policies       [\"root\"]\n",
      "identity_policies    []\n",
      "policies             [\"root\"]\u001b[0m\n"
     ]
    }
   ],
   "source": [
    "#vault token renew -increment=240 <token_task_2>\n",
    "vault token renew -increment=100 s.KupeTj2SpKUKWzLTYdgpNbWa\n"
   ]
  },
  {
   "cell_type": "code",
   "execution_count": 103,
   "metadata": {},
   "outputs": [
    {
     "name": "stdout",
     "output_type": "stream",
     "text": [
      "\u001b[91mError looking up token: Error making API request.\n",
      "\n",
      "URL: POST http://127.0.0.1:8200/v1/auth/token/lookup\n",
      "Code: 403. Errors:\n",
      "\n",
      "* bad token\u001b[0m\n"
     ]
    }
   ],
   "source": [
    "vault token lookup  s.1eBah74nejO3GSiJFhqyEXtJ"
   ]
  },
  {
   "cell_type": "markdown",
   "metadata": {},
   "source": [
    "---\n",
    "### Create a Token with Use Limit\n"
   ]
  },
  {
   "cell_type": "code",
   "execution_count": 104,
   "metadata": {
    "scrolled": true
   },
   "outputs": [
    {
     "name": "stdout",
     "output_type": "stream",
     "text": [
      "\u001b[0mKey                  Value\n",
      "---                  -----\n",
      "token                s.h03vBSAtiWFCwRQrFalQbjEY\n",
      "token_accessor       57qPfNTp6C8ErU3VnR37wcKT\n",
      "token_duration       ∞\n",
      "token_renewable      false\n",
      "token_policies       [\"root\"]\n",
      "identity_policies    []\n",
      "policies             [\"root\"]\u001b[0m\n"
     ]
    }
   ],
   "source": [
    "vault token create -use-limit=2"
   ]
  },
  {
   "cell_type": "markdown",
   "metadata": {},
   "source": [
    "\n",
    "##### Look up information about the token consume 1 of the token's uses."
   ]
  },
  {
   "cell_type": "code",
   "execution_count": 105,
   "metadata": {},
   "outputs": [
    {
     "name": "stdout",
     "output_type": "stream",
     "text": [
      "\u001b[0mKey                 Value\n",
      "---                 -----\n",
      "accessor            57qPfNTp6C8ErU3VnR37wcKT\n",
      "creation_time       1608541238\n",
      "creation_ttl        0s\n",
      "display_name        token\n",
      "entity_id           n/a\n",
      "expire_time         <nil>\n",
      "explicit_max_ttl    0s\n",
      "id                  s.h03vBSAtiWFCwRQrFalQbjEY\n",
      "issue_time          2020-12-21T17:00:38.572645+08:00\n",
      "meta                <nil>\n",
      "num_uses            1\n",
      "orphan              false\n",
      "path                auth/token/create\n",
      "policies            [root]\n",
      "renewable           false\n",
      "ttl                 0s\n",
      "type                service\u001b[0m\n"
     ]
    }
   ],
   "source": [
    "VAULT_TOKEN=s.h03vBSAtiWFCwRQrFalQbjEY vault token lookup"
   ]
  },
  {
   "cell_type": "markdown",
   "metadata": {},
   "source": [
    "\n",
    "##### Write a key/value path cubby/hole/test to consume another of the token's uses.\n"
   ]
  },
  {
   "cell_type": "code",
   "execution_count": 106,
   "metadata": {},
   "outputs": [
    {
     "name": "stdout",
     "output_type": "stream",
     "text": [
      "\u001b[0mSuccess! Data written to: cubbyhole/test\u001b[0m\n"
     ]
    }
   ],
   "source": [
    "VAULT_TOKEN=s.h03vBSAtiWFCwRQrFalQbjEY  vault write cubbyhole/test name=\"student01\""
   ]
  },
  {
   "cell_type": "markdown",
   "metadata": {},
   "source": [
    "\n",
    "##### Fail to read the key/value at path cubby/hole/test as the token is out of uses."
   ]
  },
  {
   "cell_type": "code",
   "execution_count": 107,
   "metadata": {},
   "outputs": [
    {
     "name": "stdout",
     "output_type": "stream",
     "text": [
      "\u001b[91mError reading cubbyhole/test: Error making API request.\n",
      "\n",
      "URL: GET http://127.0.0.1:8200/v1/cubbyhole/test\n",
      "Code: 403. Errors:\n",
      "\n",
      "* permission denied\u001b[0m\n"
     ]
    }
   ],
   "source": [
    "VAULT_TOKEN=s.h03vBSAtiWFCwRQrFalQbjEY vault read cubbyhole/test"
   ]
  },
  {
   "cell_type": "markdown",
   "metadata": {},
   "source": [
    "---\n",
    "### Create an Orphan Token\n"
   ]
  },
  {
   "cell_type": "code",
   "execution_count": 108,
   "metadata": {},
   "outputs": [
    {
     "name": "stdout",
     "output_type": "stream",
     "text": [
      "\u001b[0mKey                  Value\n",
      "---                  -----\n",
      "token                s.XI0Q0cKxEHcv5oD41i2iLr4k\n",
      "token_accessor       hEc45UIxDjbyh6ZQfX5g8rVC\n",
      "token_duration       1m30s\n",
      "token_renewable      true\n",
      "token_policies       [\"root\"]\n",
      "identity_policies    []\n",
      "policies             [\"root\"]\u001b[0m\n"
     ]
    }
   ],
   "source": [
    "vault token create -ttl=90"
   ]
  },
  {
   "cell_type": "markdown",
   "metadata": {},
   "source": [
    "\n",
    "##### Create a child token of the above token with a longer TTL of 180 seconds"
   ]
  },
  {
   "cell_type": "code",
   "execution_count": 110,
   "metadata": {},
   "outputs": [
    {
     "name": "stdout",
     "output_type": "stream",
     "text": [
      "\u001b[0mKey                  Value\n",
      "---                  -----\n",
      "token                s.9FQkBGjkatVGgQ73W4aMX2jq\n",
      "token_accessor       9RHixEKyafVQNhhjxKtJb0fc\n",
      "token_duration       3m\n",
      "token_renewable      true\n",
      "token_policies       [\"root\"]\n",
      "identity_policies    []\n",
      "policies             [\"root\"]\u001b[0m\n"
     ]
    }
   ],
   "source": [
    "VAULT_TOKEN=s.XI0Q0cKxEHcv5oD41i2iLr4k vault token create -ttl=180"
   ]
  },
  {
   "cell_type": "markdown",
   "metadata": {},
   "source": [
    "\n",
    "##### The remaining steps refer to it as *child_token*\n",
    "\n",
    "After 90 seconds, the token expires!  This automatically revokes its child token.  If you try to look up the child token, you should receive **bad token** error.\n"
   ]
  },
  {
   "cell_type": "code",
   "execution_count": 111,
   "metadata": {},
   "outputs": [
    {
     "name": "stdout",
     "output_type": "stream",
     "text": [
      "\u001b[91mError looking up token: Error making API request.\n",
      "\n",
      "URL: POST http://127.0.0.1:8200/v1/auth/token/lookup\n",
      "Code: 403. Errors:\n",
      "\n",
      "* bad token\u001b[0m\n"
     ]
    }
   ],
   "source": [
    "#use <child_token>\n",
    "vault token lookup s.9FQkBGjkatVGgQ73W4aMX2jq"
   ]
  },
  {
   "cell_type": "markdown",
   "metadata": {},
   "source": [
    "---\n",
    "### Create a Token Role and Periodic Token\n",
    "\n",
    "A common use case of periodic token is long-running processese where genration of a new token can interrupt the entire system flow.  The followings illustrate the creation of a role and periodic token for such long-running process."
   ]
  },
  {
   "cell_type": "code",
   "execution_count": 112,
   "metadata": {
    "collapsed": true,
    "jupyter": {
     "outputs_hidden": true
    }
   },
   "outputs": [
    {
     "name": "stdout",
     "output_type": "stream",
     "text": [
      "\u001b[0m## DESCRIPTION\n",
      "\n",
      "\n",
      "\n",
      "## PATHS\n",
      "\n",
      "The following paths are supported by this backend. To view help for\n",
      "any of the paths below, use the help command with any route matching\n",
      "the path pattern. Note that depending on the policy of your auth token,\n",
      "you may or may not be able to access certain paths.\n",
      "\n",
      "    ^accessors/$\n",
      "        List token accessors, which can then be\n",
      "        be used to iterate and discover their properties\n",
      "        or revoke them. Because this can be used to\n",
      "        cause a denial of service, this endpoint\n",
      "        requires 'sudo' capability in addition to\n",
      "        'list'.\n",
      "\n",
      "    ^create$\n",
      "        The token create path is used to create new tokens.\n",
      "\n",
      "    ^create-orphan$\n",
      "        The token create path is used to create new orphan tokens.\n",
      "\n",
      "    ^create/(?P<role_name>\\w(([\\w-.]+)?\\w)?)$\n",
      "        This token create path is used to create new tokens adhering to the given role.\n",
      "\n",
      "    ^lookup$\n",
      "        This endpoint will lookup a token and its properties.\n",
      "\n",
      "    ^lookup-accessor$\n",
      "        This endpoint will lookup a token associated with the given accessor and its properties. Response will not contain the token ID.\n",
      "\n",
      "    ^lookup-self$\n",
      "        This endpoint will lookup a token and its properties.\n",
      "\n",
      "    ^renew$\n",
      "        This endpoint will renew the given token and prevent expiration.\n",
      "\n",
      "    ^renew-accessor$\n",
      "        This endpoint will renew a token associated with the given accessor and its properties. Response will not contain the token ID.\n",
      "\n",
      "    ^renew-self$\n",
      "        This endpoint will renew the token used to call it and prevent expiration.\n",
      "\n",
      "    ^revoke$\n",
      "        This endpoint will delete the given token and all of its child tokens.\n",
      "\n",
      "    ^revoke-accessor$\n",
      "        This endpoint will delete the token associated with the accessor and all of its child tokens.\n",
      "\n",
      "    ^revoke-orphan$\n",
      "        This endpoint will delete the token and orphan its child tokens.\n",
      "\n",
      "    ^revoke-self$\n",
      "        This endpoint will delete the token used to call it and all of its child tokens.\n",
      "\n",
      "    ^roles/(?P<role_name>\\w(([\\w-.]+)?\\w)?)$\n",
      "\n",
      "\n",
      "    ^roles/?$\n",
      "        This endpoint lists configured roles.\n",
      "\n",
      "    ^tidy$\n",
      "        This endpoint performs cleanup tasks that can be run if certain error\n",
      "        conditions have occurred.\u001b[0m\n"
     ]
    }
   ],
   "source": [
    "vault path-help auth/token"
   ]
  },
  {
   "cell_type": "markdown",
   "metadata": {},
   "source": [
    "\n",
    "##### Create a token role named `monitor`.  This role has default policy and token renewal period of 24 hours."
   ]
  },
  {
   "cell_type": "code",
   "execution_count": 113,
   "metadata": {},
   "outputs": [
    {
     "name": "stdout",
     "output_type": "stream",
     "text": [
      "\u001b[0mSuccess! Data written to: auth/token/roles/monitor\u001b[0m\n"
     ]
    }
   ],
   "source": [
    "vault write auth/token/roles/monitor allowed_policies=\"default\" period=\"24h\""
   ]
  },
  {
   "cell_type": "code",
   "execution_count": 114,
   "metadata": {},
   "outputs": [
    {
     "name": "stdout",
     "output_type": "stream",
     "text": [
      "\u001b[0mKey                  Value\n",
      "---                  -----\n",
      "token                s.eKw7hEFL23LHXt289i38jV4o\n",
      "token_accessor       CXBBpqdLEUB3toXCqLwwpO8r\n",
      "token_duration       24h\n",
      "token_renewable      true\n",
      "token_policies       [\"default\"]\n",
      "identity_policies    []\n",
      "policies             [\"default\"]\u001b[0m\n"
     ]
    }
   ],
   "source": [
    "vault token create -role=\"monitor\""
   ]
  },
  {
   "cell_type": "markdown",
   "metadata": {},
   "source": [
    "##### This token can be renewed multiple times indefinitely as long as it gets renewed before it expires."
   ]
  },
  {
   "cell_type": "markdown",
   "metadata": {},
   "source": [
    "---\n",
    "### Enable Username and Password Auth Method"
   ]
  },
  {
   "cell_type": "code",
   "execution_count": 115,
   "metadata": {},
   "outputs": [
    {
     "name": "stdout",
     "output_type": "stream",
     "text": [
      "\u001b[0mPath      Type     Accessor               Description\n",
      "----      ----     --------               -----------\n",
      "token/    token    auth_token_7a7fb713    token based credentials\u001b[0m\n"
     ]
    }
   ],
   "source": [
    "vault auth list"
   ]
  },
  {
   "cell_type": "markdown",
   "metadata": {},
   "source": [
    "\\\n",
    "&nbsp;\n",
    "Userpass auth method allows users to login with username and password."
   ]
  },
  {
   "cell_type": "code",
   "execution_count": 116,
   "metadata": {},
   "outputs": [
    {
     "name": "stdout",
     "output_type": "stream",
     "text": [
      "\u001b[0mSuccess! Enabled userpass auth method at: userpass/\u001b[0m\n"
     ]
    }
   ],
   "source": [
    "vault auth enable userpass"
   ]
  },
  {
   "cell_type": "markdown",
   "metadata": {},
   "source": [
    "\n",
    "##### Create a user with name `student01`, password `training` with `default` policies"
   ]
  },
  {
   "cell_type": "code",
   "execution_count": 117,
   "metadata": {},
   "outputs": [
    {
     "name": "stdout",
     "output_type": "stream",
     "text": [
      "\u001b[0mSuccess! Data written to: auth/userpass/users/student01\u001b[0m\n"
     ]
    }
   ],
   "source": [
    "vault write auth/userpass/users/student01 password=\"training\" policies=\"default\""
   ]
  },
  {
   "cell_type": "markdown",
   "metadata": {},
   "source": [
    "##### Login with the user `student01` and their password `training`"
   ]
  },
  {
   "cell_type": "code",
   "execution_count": 118,
   "metadata": {},
   "outputs": [
    {
     "name": "stdout",
     "output_type": "stream",
     "text": [
      "\u001b[93mWARNING! The VAULT_TOKEN environment variable is set! This takes precedence\n",
      "over the value set by this command. To use the value set by this command,\n",
      "unset the VAULT_TOKEN environment variable or set it to the token displayed\n",
      "below.\n",
      "\u001b[0m\n",
      "\u001b[0mSuccess! You are now authenticated. The token information displayed below\n",
      "is already stored in the token helper. You do NOT need to run \"vault login\"\n",
      "again. Future Vault requests will automatically use this token.\n",
      "\u001b[0m\n",
      "\u001b[0mKey                    Value\n",
      "---                    -----\n",
      "token                  s.amM7AGL5UvJpMQhtSdy7dZlV\n",
      "token_accessor         2I6r74p35m8jyQs36xIgdC94\n",
      "token_duration         768h\n",
      "token_renewable        true\n",
      "token_policies         [\"default\"]\n",
      "identity_policies      []\n",
      "policies               [\"default\"]\n",
      "token_meta_username    student01\u001b[0m\n"
     ]
    }
   ],
   "source": [
    "vault login -method=userpass username=student01 password=\"training\""
   ]
  },
  {
   "cell_type": "markdown",
   "metadata": {},
   "source": [
    "---\n",
    "### Generate batch tokens\n",
    "\n",
    "Batch token explanation ...."
   ]
  },
  {
   "cell_type": "code",
   "execution_count": 119,
   "metadata": {
    "scrolled": true
   },
   "outputs": [
    {
     "name": "stdout",
     "output_type": "stream",
     "text": [
      "\u001b[0mKey                  Value\n",
      "---                  -----\n",
      "token                b.AAAAAQJa73Mz-uEnA6-Cqdqp3ho4oMM4WnXplQFDZzH3vRNAfThUYqg0W3aJz3Hg87Z3c254xMYQXnm34GLSzpDHFG_6hi3G_uUeHNIQWuBVI-rcoFAJ1kexvYDELNKrmg\n",
      "token_accessor       n/a\n",
      "token_duration       6m\n",
      "token_renewable      false\n",
      "token_policies       [\"default\"]\n",
      "identity_policies    []\n",
      "policies             [\"default\"]\u001b[0m\n"
     ]
    }
   ],
   "source": [
    "vault token create -type=batch -policy=default -ttl=360"
   ]
  },
  {
   "cell_type": "markdown",
   "metadata": {},
   "source": [
    "##### Enable another `userpass` auth method at 'userpass-batch' which generates batch tokens.\n",
    "<img src=images/think.png width=100>"
   ]
  },
  {
   "cell_type": "code",
   "execution_count": 120,
   "metadata": {},
   "outputs": [
    {
     "name": "stdout",
     "output_type": "stream",
     "text": [
      "\u001b[0mSuccess! Enabled userpass auth method at: userpass-batch/\u001b[0m\n"
     ]
    }
   ],
   "source": [
    "vault auth enable -path=\"userpass-batch\" -token-type=batch userpass"
   ]
  },
  {
   "cell_type": "markdown",
   "metadata": {},
   "source": [
    "##### Create a user called `john` with the password `training`"
   ]
  },
  {
   "cell_type": "code",
   "execution_count": 121,
   "metadata": {},
   "outputs": [
    {
     "name": "stdout",
     "output_type": "stream",
     "text": [
      "\u001b[0mSuccess! Data written to: auth/userpass-batch/users/john\u001b[0m\n"
     ]
    }
   ],
   "source": [
    "vault write auth/userpass-batch/users/john password=\"training\" policies=\"default\""
   ]
  },
  {
   "cell_type": "code",
   "execution_count": 64,
   "metadata": {},
   "outputs": [
    {
     "name": "stdout",
     "output_type": "stream",
     "text": [
      "\u001b[0mSuccess! Data written to: transit/keys/orders/config\u001b[0m\n"
     ]
    }
   ],
   "source": [
    "vault write transit/keys/orders/config min_decryption_version=2"
   ]
  },
  {
   "cell_type": "markdown",
   "metadata": {},
   "source": [
    "&nbsp;\n",
    "\n",
    "---\n",
    "#### Thank you.\n",
    "<img src=images/HashiCorp_PrimaryLogo_Black_RGB.png width=100 class=\"center\">"
   ]
  }
 ],
 "metadata": {
  "kernelspec": {
   "display_name": "Z shell",
   "language": "zsh",
   "name": "zsh"
  },
  "language_info": {
   "codemirror_mode": "shell",
   "file_extension": ".zsh",
   "mimetype": "text/x-zsh",
   "name": "zsh",
   "pygments_lexer": "shell",
   "version": "5.7.1"
  }
 },
 "nbformat": 4,
 "nbformat_minor": 4
}
