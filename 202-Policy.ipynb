{
 "cells": [
  {
   "cell_type": "markdown",
   "metadata": {},
   "source": [
    "<img align=right src=images/HashiCorp_PrimaryLogo_Black_RGB.png width=150>\n",
    "<img src=images/acme.jpeg width=100 align=left>"
   ]
  },
  {
   "cell_type": "markdown",
   "metadata": {},
   "source": [
    "<img src=\"images/policy-workflow.png\">\n",
    "\n",
    "**Prerequisites:**\n",
    "- Vault binary\n",
    "\n",
    "\n",
    "Before you begin, execute the following command in a separate windows:\n",
    "\n",
    "`VAULT_UI=true VAULT_REDIRECT_ADDR=http://127.0.0.1:8200 vault server -log-level=trace -dev -dev-root-token-id=root -dev-listen-address=127.0.0.1:8200 -dev-ha -dev-transactional`\n"
   ]
  },
  {
   "cell_type": "code",
   "execution_count": 49,
   "metadata": {},
   "outputs": [],
   "source": [
    "export VAULT_ADDR=http://127.0.0.1:8200\n",
    "export VAULT_SKIP_VERIFY=true\n",
    "export VAULT_ROOT_TOKEN=root"
   ]
  },
  {
   "cell_type": "code",
   "execution_count": 48,
   "metadata": {},
   "outputs": [
    {
     "name": "stdout",
     "output_type": "stream",
     "text": [
      "\u001b[0mVault v1.6.0 (7ce0bd9691998e0443bc77e98b1e2a4ab1e965d4)\u001b[0m\n"
     ]
    }
   ],
   "source": [
    "vault --version"
   ]
  },
  {
   "cell_type": "code",
   "execution_count": 47,
   "metadata": {},
   "outputs": [
    {
     "name": "stdout",
     "output_type": "stream",
     "text": [
      "\u001b[0mKey             Value\n",
      "---             -----\n",
      "Seal Type       shamir\n",
      "Initialized     true\n",
      "Sealed          false\n",
      "Total Shares    3\n",
      "Threshold       2\n",
      "Version         1.6.0\n",
      "Storage Type    inmem_transactional_ha\n",
      "Cluster Name    vault-cluster-eb5fbb0c\n",
      "Cluster ID      ee93a68b-c56b-0275-1460-88c0df32a576\n",
      "HA Enabled      true\n",
      "HA Cluster      https://127.0.0.1:8201\n",
      "HA Mode         active\u001b[0m\n"
     ]
    }
   ],
   "source": [
    "vault status"
   ]
  },
  {
   "cell_type": "markdown",
   "metadata": {},
   "source": [
    "#### Note the Initialized and Sealed status above."
   ]
  },
  {
   "cell_type": "markdown",
   "metadata": {},
   "source": [
    "## Create Policy\n",
    "**No policy means no permission**  \n",
    "\n",
    "ACL policy path supports wildcard matching (\"+\", \"*\")\n",
    "\n",
    "List of capabilities  \n",
    "\n",
    "| Capability | HTTP Verbs |\n",
    "|------------|------------|\n",
    "| create | POST/PUT |\n",
    "| read | GET |\n",
    "| update | POST/PUT |\n",
    "| delete | DELETE |\n",
    "| list | LIST |\n",
    "| sudo | allows access to paths that are **root-protected** |\n",
    "| deny | disallows access regardless of other capabilities |\n",
    "\n",
    "Two out-of-the-box policies:\n",
    "* **root** policy - superuser with all permissions\n",
    "* **default** policy - common permissions  \n"
   ]
  },
  {
   "cell_type": "code",
   "execution_count": 50,
   "metadata": {},
   "outputs": [],
   "source": [
    "# Work with kv secrets engine\n",
    "\n",
    "cat << EOF > /tmp/base.hcl\n",
    "\n",
    "path \"kv/data/training_*\" {\n",
    "  capabilities = [ \"create\", \"read\" ]\n",
    "}\n",
    "\n",
    "path \"kv/data/+/apikey\" {\n",
    "  capabilities = [ \"create\", \"read\", \"update\", \"delete\" ]\n",
    "}\n",
    "\n",
    "EOF"
   ]
  },
  {
   "cell_type": "markdown",
   "metadata": {},
   "source": [
    "\n",
    "**Note:** in *key/value secret engine 2*, the path to write policy would be **kv/data/\\<path\\>** even though the CLI command to the path is **kv/\\<path\\>**"
   ]
  },
  {
   "cell_type": "code",
   "execution_count": 51,
   "metadata": {},
   "outputs": [
    {
     "name": "stdout",
     "output_type": "stream",
     "text": [
      "\u001b[0mSuccess! Uploaded policy: base\u001b[0m\n"
     ]
    }
   ],
   "source": [
    "vault policy write base /tmp/base.hcl"
   ]
  },
  {
   "cell_type": "code",
   "execution_count": 61,
   "metadata": {},
   "outputs": [
    {
     "name": "stdout",
     "output_type": "stream",
     "text": [
      "\u001b[91mError listing secrets engines: Error making API request.\n",
      "\n",
      "URL: GET http://127.0.0.1:8200/v1/sys/mounts\n",
      "Code: 403. Errors:\n",
      "\n",
      "* 1 error occurred:\n",
      "\t* permission denied\n",
      "\n",
      "\u001b[0m\n"
     ]
    }
   ],
   "source": [
    "vault secrets list"
   ]
  },
  {
   "cell_type": "code",
   "execution_count": 56,
   "metadata": {},
   "outputs": [
    {
     "name": "stdout",
     "output_type": "stream",
     "text": [
      "\u001b[0mpath \"kv/data/training_*\" {\n",
      "  capabilities = [ \"create\", \"read\" ]\n",
      "}\n",
      "\n",
      "path \"kv/data/+/apikey\" {\n",
      "  capabilities = [ \"create\", \"read\", \"update\", \"delete\" ]\n",
      "}\u001b[0m\n"
     ]
    }
   ],
   "source": [
    "vault policy read base"
   ]
  },
  {
   "cell_type": "code",
   "execution_count": 62,
   "metadata": {},
   "outputs": [
    {
     "name": "stdout",
     "output_type": "stream",
     "text": [
      "\u001b[0mSuccess! Enabled the kv-v2 secrets engine at: kv/\u001b[0m\n"
     ]
    }
   ],
   "source": [
    "vault secrets enable -path=kv/ kv-v2"
   ]
  },
  {
   "cell_type": "markdown",
   "metadata": {},
   "source": [
    "#### Create a token attached to the newly *base* policy"
   ]
  },
  {
   "cell_type": "code",
   "execution_count": 57,
   "metadata": {},
   "outputs": [
    {
     "name": "stdout",
     "output_type": "stream",
     "text": [
      "\u001b[0mKey                  Value\n",
      "---                  -----\n",
      "token                s.7XdKUkHaNUMeWkgYu0mgyaPo\n",
      "token_accessor       5QmCEYkbHQb0BxjSySRNVAU7\n",
      "token_duration       768h\n",
      "token_renewable      true\n",
      "token_policies       [\"base\" \"default\"]\n",
      "identity_policies    []\n",
      "policies             [\"base\" \"default\"]\u001b[0m\n"
     ]
    }
   ],
   "source": [
    "vault token create -policy=\"base\""
   ]
  },
  {
   "cell_type": "markdown",
   "metadata": {},
   "source": [
    "**Note:** every token automatically gets *default* policy attached."
   ]
  },
  {
   "cell_type": "code",
   "execution_count": 80,
   "metadata": {},
   "outputs": [
    {
     "name": "stdout",
     "output_type": "stream",
     "text": [
      "\u001b[0mSuccess! You are now authenticated. The token information displayed below\n",
      "is already stored in the token helper. You do NOT need to run \"vault login\"\n",
      "again. Future Vault requests will automatically use this token.\n",
      "\u001b[0m\n",
      "\u001b[0mKey                  Value\n",
      "---                  -----\n",
      "token                s.7XdKUkHaNUMeWkgYu0mgyaPo\n",
      "token_accessor       5QmCEYkbHQb0BxjSySRNVAU7\n",
      "token_duration       767h15m53s\n",
      "token_renewable      true\n",
      "token_policies       [\"base\" \"default\"]\n",
      "identity_policies    []\n",
      "policies             [\"base\" \"default\"]\u001b[0m\n"
     ]
    }
   ],
   "source": [
    "vault login \"s.7XdKUkHaNUMeWkgYu0mgyaPo\""
   ]
  },
  {
   "cell_type": "markdown",
   "metadata": {},
   "source": [
    "---\n",
    "## Test \"base\" Policy\n",
    "\n",
    "Using base token, you have very limited permissions."
   ]
  },
  {
   "cell_type": "code",
   "execution_count": 59,
   "metadata": {},
   "outputs": [
    {
     "name": "stdout",
     "output_type": "stream",
     "text": [
      "\u001b[91mError listing policies: Error making API request.\n",
      "\n",
      "URL: GET http://127.0.0.1:8200/v1/sys/policies/acl?list=true\n",
      "Code: 403. Errors:\n",
      "\n",
      "* 1 error occurred:\n",
      "\t* permission denied\n",
      "\n",
      "\u001b[0m\n"
     ]
    }
   ],
   "source": [
    "vault policy list"
   ]
  },
  {
   "cell_type": "markdown",
   "metadata": {},
   "source": [
    "Using base token, you have very limited permissions.  THe base policy does not have a rule on `sys/policy` path.  Lack of policy means **no permission** on that path.  Therefore, \"permission denied\" error is the expected behavior."
   ]
  },
  {
   "cell_type": "code",
   "execution_count": 63,
   "metadata": {},
   "outputs": [
    {
     "name": "stdout",
     "output_type": "stream",
     "text": [
      "\u001b[0mKey              Value\n",
      "---              -----\n",
      "created_time     2020-12-24T12:33:00.085Z\n",
      "deletion_time    n/a\n",
      "destroyed        false\n",
      "version          1\u001b[0m\n"
     ]
    }
   ],
   "source": [
    "vault kv put kv/training_test password=\"p@ssw0rd\""
   ]
  },
  {
   "cell_type": "markdown",
   "metadata": {},
   "source": [
    "#### Read the data back"
   ]
  },
  {
   "cell_type": "code",
   "execution_count": 64,
   "metadata": {},
   "outputs": [
    {
     "name": "stdout",
     "output_type": "stream",
     "text": [
      "\u001b[0m====== Metadata ======\u001b[0m\n",
      "\u001b[0mKey              Value\n",
      "---              -----\n",
      "created_time     2020-12-24T12:33:00.085Z\n",
      "deletion_time    n/a\n",
      "destroyed        false\n",
      "version          1\u001b[0m\n",
      "\u001b[0m\u001b[0m\n",
      "\u001b[0m====== Data ======\u001b[0m\n",
      "\u001b[0mKey         Value\n",
      "---         -----\n",
      "password    p@ssw0rd\u001b[0m\n"
     ]
    }
   ],
   "source": [
    "vault kv get kv/training_test"
   ]
  },
  {
   "cell_type": "markdown",
   "metadata": {},
   "source": [
    "#### Base policy only granst \"create\" and \"read\".  With the absence of \"update\" permission, this operation fails."
   ]
  },
  {
   "cell_type": "code",
   "execution_count": 67,
   "metadata": {},
   "outputs": [
    {
     "name": "stdout",
     "output_type": "stream",
     "text": [
      "\u001b[91mError writing data to kv/data/training_test: Error making API request.\n",
      "\n",
      "URL: PUT http://127.0.0.1:8200/v1/kv/data/training_test\n",
      "Code: 403. Errors:\n",
      "\n",
      "* 1 error occurred:\n",
      "\t* permission denied\n",
      "\n",
      "\u001b[0m\n"
     ]
    }
   ],
   "source": [
    "vault kv put kv/training_test password=\"password1234\""
   ]
  },
  {
   "cell_type": "code",
   "execution_count": 68,
   "metadata": {},
   "outputs": [
    {
     "name": "stdout",
     "output_type": "stream",
     "text": [
      "\u001b[0mKey              Value\n",
      "---              -----\n",
      "created_time     2020-12-24T12:36:33.754538Z\n",
      "deletion_time    n/a\n",
      "destroyed        false\n",
      "version          1\u001b[0m\n"
     ]
    }
   ],
   "source": [
    "vault kv put kv/team-eng/apikey api_key=\"123455\""
   ]
  },
  {
   "cell_type": "code",
   "execution_count": 69,
   "metadata": {},
   "outputs": [
    {
     "name": "stdout",
     "output_type": "stream",
     "text": [
      "\u001b[0mSuccess! Data deleted (if it existed) at: kv/team-eng/apikey\u001b[0m\n"
     ]
    }
   ],
   "source": [
    "vault kv delete kv/team-eng/apikey"
   ]
  },
  {
   "cell_type": "code",
   "execution_count": 70,
   "metadata": {},
   "outputs": [
    {
     "name": "stdout",
     "output_type": "stream",
     "text": [
      "\u001b[0mKey              Value\n",
      "---              -----\n",
      "created_time     2020-12-24T12:37:12.846247Z\n",
      "deletion_time    n/a\n",
      "destroyed        false\n",
      "version          1\u001b[0m\n"
     ]
    }
   ],
   "source": [
    "vault kv put kv/training_ year=\"2020\""
   ]
  },
  {
   "cell_type": "markdown",
   "metadata": {},
   "source": [
    "&nbsp;   \n",
    "### Check Token capabilities\n",
    "The `vault token capabilities` command fetches the capabilities of a token for a given path.  You can review the policy, but if your token has multiple policies attached, you have to review all the associated policies which can get troublesome."
   ]
  },
  {
   "cell_type": "code",
   "execution_count": 81,
   "metadata": {},
   "outputs": [
    {
     "name": "stdout",
     "output_type": "stream",
     "text": [
      "\u001b[0mcreate, read\u001b[0m\n"
     ]
    }
   ],
   "source": [
    "vault token capabilities kv/data/training_dev"
   ]
  },
  {
   "cell_type": "code",
   "execution_count": 82,
   "metadata": {},
   "outputs": [
    {
     "name": "stdout",
     "output_type": "stream",
     "text": [
      "\u001b[0mcreate, delete, read, update\u001b[0m\n"
     ]
    }
   ],
   "source": [
    "vault token capabilities kv/data/splunk/apikey"
   ]
  },
  {
   "cell_type": "markdown",
   "metadata": {},
   "source": [
    "#### Try another path that is not permitted by the `base` policy"
   ]
  },
  {
   "cell_type": "code",
   "execution_count": 83,
   "metadata": {},
   "outputs": [
    {
     "name": "stdout",
     "output_type": "stream",
     "text": [
      "\u001b[0mdeny\u001b[0m\n"
     ]
    }
   ],
   "source": [
    "vault token capabilities kv/data/test"
   ]
  },
  {
   "cell_type": "code",
   "execution_count": 85,
   "metadata": {},
   "outputs": [
    {
     "name": "stdout",
     "output_type": "stream",
     "text": [
      "\u001b[0mroot\u001b[0m\n"
     ]
    }
   ],
   "source": [
    "vault login root >/dev/null\n",
    "vault token capabilities kv/data/test"
   ]
  },
  {
   "cell_type": "markdown",
   "metadata": {},
   "source": [
    "---\n",
    "### Policy for Policies\n",
    "To allow users to be able to manage policies, you need to write policies for that"
   ]
  },
  {
   "cell_type": "code",
   "execution_count": 77,
   "metadata": {},
   "outputs": [],
   "source": [
    "cat << EOF > /tmp/manage-policies.hcl\n",
    "\n",
    "path \"sys/policies/acl/*\" {\n",
    "  capabilities = [\"create\", \"read\", \"update\", \"delete\", \"list\", \"sudo\"]\n",
    "}\n",
    "# Create and manage ACL policies via API\n",
    "path \"sys/policies/acl\" {\n",
    "  capabilities = [\"list\"]\n",
    "}\n",
    "EOF"
   ]
  },
  {
   "cell_type": "markdown",
   "metadata": {},
   "source": [
    "&nbsp;\n",
    "\n",
    "---\n",
    "#### Thank you.\n",
    "<img src=images/HashiCorp_PrimaryLogo_Black_RGB.png width=100 align=\"left\">"
   ]
  }
 ],
 "metadata": {
  "kernelspec": {
   "display_name": "Z shell",
   "language": "zsh",
   "name": "zsh"
  },
  "language_info": {
   "codemirror_mode": "shell",
   "file_extension": ".zsh",
   "mimetype": "text/x-zsh",
   "name": "zsh",
   "pygments_lexer": "shell",
   "version": "5.7.1"
  }
 },
 "nbformat": 4,
 "nbformat_minor": 4
}
