{
 "cells": [
  {
   "cell_type": "markdown",
   "metadata": {},
   "source": [
    "<img src=images/HashiCorp_PrimaryLogo_Black_RGB.png width=100 align=\"right\">"
   ]
  },
  {
   "cell_type": "markdown",
   "metadata": {},
   "source": [
    "# Encryption as a Service\n",
    "\n",
    "## Business Value of Capability\n",
    " * Enables security teams to foritify data during transit and at rest\n",
    " * If an intrusion occurs, your data is encrypted with **AES 256-bit CBC** encryption\n",
    " * A centrally managed resource that can encrypt any data for the organization at scale\n",
    " * High performance - Vault will encrypt at higher rates (20K+ requests/sec) than the cloud providers solutions.\n",
    "\n",
    "<img src=images/EncryptionAsaService.png>"
   ]
  },
  {
   "cell_type": "markdown",
   "metadata": {},
   "source": [
    "### Vault Setup\n",
    "\n",
    "### Prerequisites\n",
    "* Running Vault Enterprise instance (in dev mode) \n"
   ]
  },
  {
   "cell_type": "code",
   "execution_count": 1,
   "metadata": {},
   "outputs": [
    {
     "name": "stdout",
     "output_type": "stream",
     "text": [
      "\u001b[0mVault v1.6.0 (7ce0bd9691998e0443bc77e98b1e2a4ab1e965d4)\u001b[0m\n"
     ]
    }
   ],
   "source": [
    "vault -version"
   ]
  },
  {
   "cell_type": "code",
   "execution_count": 2,
   "metadata": {},
   "outputs": [],
   "source": [
    "export VAULT_ADDR=http://127.0.0.1:8200\n",
    "export VAULT_TOKEN=root\n",
    "export VAULT_SKIP_VERIFY=true"
   ]
  },
  {
   "cell_type": "code",
   "execution_count": 3,
   "metadata": {},
   "outputs": [
    {
     "name": "stdout",
     "output_type": "stream",
     "text": [
      "\u001b[0mKey                     Value\n",
      "---                     -----\n",
      "Seal Type               shamir\n",
      "Initialized             true\n",
      "Sealed                  false\n",
      "Total Shares            1\n",
      "Threshold               1\n",
      "Version                 1.6.0\n",
      "Storage Type            raft\n",
      "Cluster Name            hashi-vault\n",
      "Cluster ID              05d700d8-4a7f-a7a8-62f6-9fd6d3a07dbe\n",
      "HA Enabled              true\n",
      "HA Cluster              https://127.0.0.1:8201\n",
      "HA Mode                 active\n",
      "Raft Committed Index    242\n",
      "Raft Applied Index      242\u001b[0m\n"
     ]
    }
   ],
   "source": [
    "vault status"
   ]
  },
  {
   "cell_type": "code",
   "execution_count": 4,
   "metadata": {},
   "outputs": [
    {
     "name": "stdout",
     "output_type": "stream",
     "text": [
      "\u001b[91mError authenticating: error looking up token: Error making API request.\n",
      "\n",
      "URL: GET http://127.0.0.1:8200/v1/auth/token/lookup-self\n",
      "Code: 403. Errors:\n",
      "\n",
      "* permission denied\u001b[0m\n"
     ]
    }
   ],
   "source": [
    "vault login root"
   ]
  },
  {
   "cell_type": "markdown",
   "metadata": {},
   "source": [
    "---\n",
    "### Enable the Transit Engine\n"
   ]
  },
  {
   "cell_type": "code",
   "execution_count": 2,
   "metadata": {},
   "outputs": [
    {
     "name": "stdout",
     "output_type": "stream",
     "text": [
      "\u001b[0mSuccess! Enabled the transit secrets engine at: transit/\u001b[0m\n"
     ]
    }
   ],
   "source": [
    "vault secrets enable transit"
   ]
  },
  {
   "cell_type": "markdown",
   "metadata": {},
   "source": [
    "\n",
    "### Create an Encryption Key Ring"
   ]
  },
  {
   "cell_type": "code",
   "execution_count": 3,
   "metadata": {
    "scrolled": true
   },
   "outputs": [
    {
     "name": "stdout",
     "output_type": "stream",
     "text": [
      "\u001b[0mSuccess! Data written to: transit/keys/orders\u001b[0m\n"
     ]
    }
   ],
   "source": [
    "vault write -f transit/keys/orders"
   ]
  },
  {
   "cell_type": "markdown",
   "metadata": {},
   "source": [
    "\n",
    "### Vault Client Tokens and their Policies\n",
    "\n",
    "#### In order for the clients to access Vault to request encryption/decryption services, they will need a token. \n",
    "\n",
    "1. We first set up a policy for those tokens (called app-orders)\n",
    "2. Create tokens with this app-orders policy attached \n",
    "\n",
    "<img src=attachment:73ccf5ca-aec1-4538-adb6-0fce4112fba6.png width=800>"
   ]
  },
  {
   "cell_type": "code",
   "execution_count": null,
   "metadata": {},
   "outputs": [],
   "source": [
    "## Create a policy for encrypting decrypting on the path for orders\n",
    "vault policy write app-orders -<<EOF\n",
    "path \"transit/encrypt/orders\" {\n",
    "   capabilities = [ \"update\" ]\n",
    "}\n",
    "path \"transit/decrypt/orders\" {\n",
    "   capabilities = [ \"update\" ]\n",
    "}\n",
    "EOF"
   ]
  },
  {
   "cell_type": "markdown",
   "metadata": {},
   "source": [
    "---\n",
    "### Create a token with this policy attached\n",
    "\n",
    "#### This client token represents an application accessing Vault rather than the admin user."
   ]
  },
  {
   "cell_type": "code",
   "execution_count": null,
   "metadata": {},
   "outputs": [],
   "source": [
    "## create token - and we store it in an ENV Variable. \n",
    "## If YOU PREFER USING CLI:  vault token create -policy=app-orders\n",
    "\n",
    "## USING HTTP API : \n",
    "CLIENT_TOKEN=$(curl -s --header \"X-Vault-Token: ${VAULT_TOKEN} \" \\\n",
    "       --request POST  \\\n",
    "       --data '{ \"policies\": [\"app-orders\"] }' \\\n",
    "       http://127.0.0.1:8200/v1/auth/token/create | jq -r '.auth.client_token')\n",
    "\n",
    "echo \"Client Token: ${CLIENT_TOKEN}\""
   ]
  },
  {
   "cell_type": "markdown",
   "metadata": {},
   "source": [
    "---\n",
    "\n",
    "<img src=attachment:image.png width=1000>\n",
    "\n",
    "## Let's begin encrypting ...\n",
    "\n",
    "#### To encrypt, you need to hit the endpoint  \n",
    "\n",
    "````vault write transit/encrypt/<key_ring_name>````"
   ]
  },
  {
   "cell_type": "markdown",
   "metadata": {},
   "source": [
    "### Encrypt using the CLI\n",
    "\n",
    "#### Note: Plaintext must be **base64-encoded** before it can be encrypted.\n"
   ]
  },
  {
   "cell_type": "code",
   "execution_count": 4,
   "metadata": {
    "scrolled": true
   },
   "outputs": [
    {
     "name": "stdout",
     "output_type": "stream",
     "text": [
      "\u001b[0mKey            Value\n",
      "---            -----\n",
      "ciphertext     vault:v1:jsg2qTuN8WkUz8ngXasfbflHkLp10LmOszS5NAJmotF+WwTYZZlg6w==\n",
      "key_version    1\u001b[0m\n"
     ]
    }
   ],
   "source": [
    "vault write transit/encrypt/orders plaintext=$(base64 <<< \"479 17 5162\")"
   ]
  },
  {
   "cell_type": "markdown",
   "metadata": {},
   "source": [
    "Vault does **NOT** store any of this data.  The output you received is ciphertext.  You can store this ciphertext at the desired location (e.g. mysql database) or pass it to your application.\n",
    "\n",
    "We'll copy the value of ciphertext and refer to it later as <ciphertext>\n"
   ]
  },
  {
   "cell_type": "code",
   "execution_count": null,
   "metadata": {},
   "outputs": [],
   "source": [
    "## pass some plaintext as if a normal vault client\n",
    "## VAULT_TOKEN=$CLIENT_TOKEN ;vault write transit/encrypt/orders \\\n",
    "\n",
    "PLAIN=$(base64 <<< \"This is my demo plaintext\")\n",
    "\n",
    "## using the http api \n",
    "CIPHERTEXT=$(curl -s --header \"X-Vault-Token: ${CLIENT_TOKEN}\" \\\n",
    "       --request POST \\\n",
    "       --data '{\"plaintext\": \"'\"${PLAIN}\"'\"}' \\\n",
    "       http://127.0.0.1:8200/v1/transit/encrypt/orders | jq -r '.data.ciphertext')\n",
    "echo \"------------------------------>\"\n",
    "echo \"Plaintext : \"\n",
    "echo \"${PLAIN}\" | base64 --decode\n",
    "echo \"------------------------------>\"\n",
    "echo \"Plaintext in Base 64 : ${PLAIN}\"\n",
    "echo \"------------------------------>\"\n",
    "echo \"Ciphertext: ${CIPHERTEXT}\"\n",
    "echo \"------------------------------>\""
   ]
  },
  {
   "cell_type": "markdown",
   "metadata": {},
   "source": [
    "### Decrypt Ciphertext"
   ]
  },
  {
   "cell_type": "code",
   "execution_count": 5,
   "metadata": {},
   "outputs": [
    {
     "name": "stdout",
     "output_type": "stream",
     "text": [
      "\u001b[0mKey          Value\n",
      "---          -----\n",
      "plaintext    NDc5IDE3IDUxNjIK\u001b[0m\n"
     ]
    }
   ],
   "source": [
    "vault write transit/decrypt/orders ciphertext=\"vault:v1:jsg2qTuN8WkUz8ngXasfbflHkLp10LmOszS5NAJmotF+WwTYZZlg6w==\""
   ]
  },
  {
   "cell_type": "code",
   "execution_count": 6,
   "metadata": {},
   "outputs": [
    {
     "name": "stdout",
     "output_type": "stream",
     "text": [
      "479 17 5162\n"
     ]
    }
   ],
   "source": [
    "base64 --decode <<< \"NDc5IDE3IDUxNjIK\""
   ]
  },
  {
   "cell_type": "code",
   "execution_count": null,
   "metadata": {},
   "outputs": [],
   "source": [
    "DECIPHER=$(curl -s --header \"X-Vault-Token: ${CLIENT_TOKEN}\" \\\n",
    "     --request POST \\\n",
    "     --data '{\"ciphertext\": \"'\"${CIPHERTEXT}\"'\"}' \\\n",
    "    http://127.0.0.1:8200/v1/transit/decrypt/orders | jq -r '.data.plaintext')\n",
    "\n",
    "echo \"------------------------------>\"\n",
    "echo \"Ciphertext: ${CIPHERTEXT}\"\n",
    "echo \"------------------------------>\"\n",
    "echo \"Plaintext in Base 64 : ${DECIPHER}\"\n",
    "echo \"------------------------------>\"\n",
    "echo \"Plaintext : \"\n",
    "echo \"${DECIPHER}\" | base64 --decode\n",
    "echo \"------------------------------>\""
   ]
  },
  {
   "cell_type": "markdown",
   "metadata": {},
   "source": [
    "### Rotating the Encryption key\n",
    "---\n",
    "\n",
    "One of the benefits of using the Vault transit secrets engine is its ability to easily rotate encryption keys. Keys can be rotated manually by a human or by an automated process which invokes the key rotation API endpoint through cron, a CI pipeline, a periodic Nomad batch job, Kubernetes Job, etc."
   ]
  },
  {
   "cell_type": "code",
   "execution_count": null,
   "metadata": {},
   "outputs": [],
   "source": [
    "# Rotate the encryption key\n",
    "export VAULT_TOKEN=root\n",
    "vault write -f transit/keys/orders/rotate"
   ]
  },
  {
   "cell_type": "code",
   "execution_count": null,
   "metadata": {},
   "outputs": [],
   "source": [
    "## Encrypt again and compare\n",
    "## using the http api \n",
    "CIPHERTEXT2=$(curl -s --header \"X-Vault-Token: ${CLIENT_TOKEN}\" \\\n",
    "       --request POST \\\n",
    "       --data '{\"plaintext\": \"'\"${PLAIN}\"'\"}' \\\n",
    "       http://127.0.0.1:8200/v1/transit/encrypt/orders | jq -r '.data.ciphertext')\n",
    "echo \"------------------------------>\"\n",
    "echo \"Plaintext : \"\n",
    "echo \"${PLAIN}\" | base64 --decode\n",
    "echo \"------------------------------>\"\n",
    "echo \"Plaintext in Base 64 : ${PLAIN}\"\n",
    "echo \"------------------------------>\"\n",
    "echo \"Original Ciphertext: ${CIPHERTEXT}\"\n",
    "echo \"------------------------------>\"\n",
    "echo \"New Ciphertext: ${CIPHERTEXT2}\"\n",
    "echo \"------------------------------>\"\n"
   ]
  },
  {
   "cell_type": "markdown",
   "metadata": {},
   "source": [
    "### Rewrap the older version of ciphertext"
   ]
  },
  {
   "cell_type": "code",
   "execution_count": null,
   "metadata": {},
   "outputs": [],
   "source": [
    "## You can take the original ciphertext and rewrap it with the new key (ONLY ADMIN CAN DO THIS)\n",
    "## NOTICE THE TOKEN WE USE HERE\n",
    "REWRAP_CIPHERTEXT=$(curl -s --header \"X-Vault-Token: ${VAULT_TOKEN}\" \\\n",
    "   --request POST \\\n",
    "   --data '{\"ciphertext\": \"'\"${CIPHERTEXT}\"'\" }' \\\n",
    "   http://127.0.0.1:8200/v1/transit/rewrap/orders | jq -r '.data.ciphertext')\n",
    "   \n",
    "echo \"------------------------------>\"\n",
    "echo \"Plaintext : \"\n",
    "echo \"${PLAIN}\" | base64 --decode\n",
    "echo \"------------------------------>\"\n",
    "echo \"Plaintext in Base 64 : ${PLAIN}\"\n",
    "echo \"------------------------------>\"\n",
    "echo \"Original Ciphertext: ${CIPHERTEXT}\"\n",
    "echo \"------------------------------>\"\n",
    "echo \"New Ciphertext: ${CIPHERTEXT2}\"\n",
    "echo \"------------------------------>\"\n",
    "echo \"Rewrapped Ciphertext: ${REWRAP_CIPHERTEXT}\"\n",
    "echo \"------------------------------>\""
   ]
  },
  {
   "cell_type": "markdown",
   "metadata": {},
   "source": [
    "#### Note that the rewrapped ciphertext has a 'v2' in it. "
   ]
  },
  {
   "cell_type": "markdown",
   "metadata": {},
   "source": [
    "### Update Key Configuration\n",
    "\n",
    "A Vault admin can update the encryption key configuration to specify the minimum version of ciphertext allowed to be decrypted,  \n",
    "the minimum version of the key that can be used to encrypt the plaintext, and if the key is allowed to be deleted, etc. for _**increased security**_."
   ]
  },
  {
   "cell_type": "markdown",
   "metadata": {},
   "source": [
    "### Rotate keys a few times (more versions)"
   ]
  },
  {
   "cell_type": "code",
   "execution_count": 7,
   "metadata": {},
   "outputs": [
    {
     "name": "stdout",
     "output_type": "stream",
     "text": [
      "\u001b[0mSuccess! Data written to: transit/keys/orders/rotate\u001b[0m\n",
      "\u001b[0mSuccess! Data written to: transit/keys/orders/rotate\u001b[0m\n",
      "\u001b[0mSuccess! Data written to: transit/keys/orders/rotate\u001b[0m\n",
      "\u001b[0mSuccess! Data written to: transit/keys/orders/rotate\u001b[0m\n",
      "\u001b[0mSuccess! Data written to: transit/keys/orders/rotate\u001b[0m\n"
     ]
    }
   ],
   "source": [
    "export VAULT_TOKEN=root\n",
    "vault write -f transit/keys/orders/rotate\n",
    "vault write -f transit/keys/orders/rotate\n",
    "vault write -f transit/keys/orders/rotate\n",
    "vault write -f transit/keys/orders/rotate\n",
    "vault write -f transit/keys/orders/rotate"
   ]
  },
  {
   "cell_type": "markdown",
   "metadata": {},
   "source": [
    "### Read the order key information back"
   ]
  },
  {
   "cell_type": "code",
   "execution_count": 8,
   "metadata": {
    "scrolled": true
   },
   "outputs": [
    {
     "name": "stdout",
     "output_type": "stream",
     "text": [
      "\u001b[0mKey                       Value\n",
      "---                       -----\n",
      "allow_plaintext_backup    false\n",
      "deletion_allowed          false\n",
      "derived                   false\n",
      "exportable                false\n",
      "keys                      map[1:1608388945 2:1608389590 3:1608389590 4:1608389590 5:1608389591 6:1608389591]\n",
      "latest_version            6\n",
      "min_available_version     0\n",
      "min_decryption_version    1\n",
      "min_encryption_version    0\n",
      "name                      orders\n",
      "supports_decryption       true\n",
      "supports_derivation       true\n",
      "supports_encryption       true\n",
      "supports_signing          false\n",
      "type                      aes256-gcm96\u001b[0m\n"
     ]
    }
   ],
   "source": [
    "vault read transit/keys/orders"
   ]
  },
  {
   "cell_type": "markdown",
   "metadata": {},
   "source": [
    "### Set a Minimum Decryption Version"
   ]
  },
  {
   "cell_type": "code",
   "execution_count": 9,
   "metadata": {},
   "outputs": [
    {
     "name": "stdout",
     "output_type": "stream",
     "text": [
      "\u001b[0mSuccess! Data written to: transit/keys/orders/config\u001b[0m\n"
     ]
    }
   ],
   "source": [
    "vault write transit/keys/orders/config min_decryption_version=5"
   ]
  },
  {
   "cell_type": "markdown",
   "metadata": {},
   "source": [
    "### Read the new Key Configuration"
   ]
  },
  {
   "cell_type": "code",
   "execution_count": 10,
   "metadata": {},
   "outputs": [
    {
     "name": "stdout",
     "output_type": "stream",
     "text": [
      "\u001b[0mKey                       Value\n",
      "---                       -----\n",
      "allow_plaintext_backup    false\n",
      "deletion_allowed          false\n",
      "derived                   false\n",
      "exportable                false\n",
      "keys                      map[5:1608389591 6:1608389591]\n",
      "latest_version            6\n",
      "min_available_version     0\n",
      "min_decryption_version    5\n",
      "min_encryption_version    0\n",
      "name                      orders\n",
      "supports_decryption       true\n",
      "supports_derivation       true\n",
      "supports_encryption       true\n",
      "supports_signing          false\n",
      "type                      aes256-gcm96\u001b[0m\n"
     ]
    }
   ],
   "source": [
    "vault read transit/keys/orders"
   ]
  },
  {
   "cell_type": "markdown",
   "metadata": {},
   "source": [
    "### Generate key Data\n",
    "\n",
    "When you encrypt your data, the encryption key used to encrypt the plaintext is referred to as a data key.  \n",
    "This data key needs to be protected so that your encrypted data cannot be decrypted easily by an unauthorized party.  \n",
    "During the encrypt secrets step, you encrypted your data by specifying the key ring name (_orders_);  \n",
    "the actual data key used to encrypt the data was never presented to you.\n",
    "\n",
    "In this next step, we are going to use the `transit/datakey` endpoint which returns the plaintext of a named data key.\n",
    "\n",
    "**Why would you need this?**\n",
    "\n",
    "Think of a scenario where you have a 2GB base64 binary large object (blob) that needs to be encrypted.  \n",
    "You probably don't want to transmit the 2GB file over the network to Vault and back.  \n",
    "Instead, you can generate a data key and encrypt it locally and use the same data key to decrypt it _**locally**_ when needed.\n",
    "\n",
    "The purpose of data keys is to enable applications to encrypt and decrypt data without round-tripping the data through Vault.\n",
    "\n",
    "The data key is its own full key; you can't decrypt it with the transit key that it is wrapped with.  \n",
    "However, because the data key is wrapped by a transit key, and thus protected, you can store it with the data.  \n",
    "This way, you can control which Vault clients can decrypt the data through policies."
   ]
  },
  {
   "cell_type": "code",
   "execution_count": null,
   "metadata": {},
   "outputs": [],
   "source": [
    "vault write -f transit/datakey/plaintext/orders"
   ]
  },
  {
   "cell_type": "markdown",
   "metadata": {},
   "source": [
    "The response contains the **plaintext** of the data key as well as its **ciphertext**. Use the plaintext to encrypt your blob.  \n",
    "Store the ciphertext of your data key wherever you want. You can even store it in the key/value secrets engine.\n",
    "\n",
    "When you need to decrypt the blob, request Vault to decrypt the ciphertext of your data key (decrypt ciphertext) so  \n",
    "that you can get the plaintext back to decrypt the blob locally. In other words, once your blob is encrypted, you  \n",
    "don't have to persist the data key. You only need to keep the ciphertext version of the data key."
   ]
  },
  {
   "cell_type": "markdown",
   "metadata": {},
   "source": [
    "\n",
    "### Prerequisites\n",
    "* Running Vault Enterprise instance (even in dev mode) \n",
    "<img src=attachment:image.png width=1000>"
   ]
  },
  {
   "cell_type": "markdown",
   "metadata": {},
   "source": [
    "---\n",
    "## Personas and Setup\n",
    "* We need to set up the right policies first\n",
    "* We also need two roles: admin managing the creds and apps requesting service"
   ]
  },
  {
   "cell_type": "markdown",
   "metadata": {},
   "source": [
    "---\n",
    "### Initial Policies"
   ]
  },
  {
   "cell_type": "code",
   "execution_count": 5,
   "metadata": {},
   "outputs": [],
   "source": [
    "mkdir ./config\n",
    "cat << EOF > ./config/eaas-policy.hcl\n",
    "# Enable transit secrets engine\n",
    "path \"sys/mounts/transit\" {\n",
    "  capabilities = [ \"create\", \"read\", \"update\", \"delete\", \"list\" ]\n",
    "}\n",
    "\n",
    "# To read enabled secrets engines\n",
    "path \"sys/mounts\" {\n",
    "  capabilities = [ \"read\" ]\n",
    "}\n",
    "\n",
    "# Manage the transit secrets engine\n",
    "path \"transit/*\" {\n",
    "  capabilities = [ \"create\", \"read\", \"update\", \"delete\", \"list\" ]\n",
    "}\n",
    "\n",
    "EOF"
   ]
  },
  {
   "cell_type": "code",
   "execution_count": null,
   "metadata": {},
   "outputs": [],
   "source": [
    "# Add the policy \n",
    "vault policy write eaas ./config/eaas-policy.hcl"
   ]
  },
  {
   "cell_type": "markdown",
   "metadata": {},
   "source": [
    "* ## <span style=\"color: #001f3f; padding: 15px; border-radius: 2px\">Setup the transits engine for EaaS</span>\n",
    "* ## <span style=\"color: #001f3f; padding: 15px; border-radius: 2px\">Configured a keyring and did some encryption and decryption of text</span>\n",
    "* ## <span style=\"color: #001f3f; padding: 15px; border-radius: 2px\">Rotated the keys and Rewrapped older version ciphertext</span>\n",
    "* ## <span style=\"color: #001f3f; padding: 15px; border-radius: 2px\">Modified key config and generated  key data</span>"
   ]
  },
  {
   "cell_type": "code",
   "execution_count": null,
   "metadata": {},
   "outputs": [],
   "source": [
    "# cleanup\n",
    "vault secrets disable transit"
   ]
  },
  {
   "cell_type": "code",
   "execution_count": null,
   "metadata": {},
   "outputs": [],
   "source": [
    "# cleanup\n",
    "rm -r ./config"
   ]
  }
 ],
 "metadata": {
  "kernelspec": {
   "display_name": "Z shell",
   "language": "zsh",
   "name": "zsh"
  },
  "language_info": {
   "codemirror_mode": "shell",
   "file_extension": ".zsh",
   "mimetype": "text/x-zsh",
   "name": "zsh",
   "pygments_lexer": "shell",
   "version": "5.7.1"
  }
 },
 "nbformat": 4,
 "nbformat_minor": 4
}
