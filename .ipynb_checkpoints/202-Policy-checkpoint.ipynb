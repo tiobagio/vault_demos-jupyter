{
 "cells": [
  {
   "cell_type": "markdown",
   "metadata": {},
   "source": [
    "<img align=right src=images/HashiCorp_PrimaryLogo_Black_RGB.png width=150>\n",
    "<img src=images/acme.jpeg width=100 align=left>"
   ]
  },
  {
   "cell_type": "markdown",
   "metadata": {},
   "source": [
    "<img src=\"images/policy-workflow.png\">\n",
    "\n",
    "**Prerequisites:**\n",
    "- Vault binary\n",
    "\n",
    "\n",
    "Before you begin, execute the following command in a separate windows:\n",
    "\n",
    "`VAULT_UI=true VAULT_REDIRECT_ADDR=http://127.0.0.1:8200 vault server -log-level=trace -dev -dev-root-token-id=root -dev-listen-address=127.0.0.1:8200 -dev-ha -dev-transactional`\n"
   ]
  },
  {
   "cell_type": "code",
   "execution_count": 4,
   "metadata": {},
   "outputs": [],
   "source": [
    "export VAULT_ADDR=http://127.0.0.1:8200\n",
    "export VAULT_SKIP_VERIFY=true\n",
    "export VAULT_TOKEN=root"
   ]
  },
  {
   "cell_type": "code",
   "execution_count": 48,
   "metadata": {},
   "outputs": [
    {
     "name": "stdout",
     "output_type": "stream",
     "text": [
      "\u001b[0mVault v1.6.0 (7ce0bd9691998e0443bc77e98b1e2a4ab1e965d4)\u001b[0m\n"
     ]
    }
   ],
   "source": [
    "vault --version"
   ]
  },
  {
   "cell_type": "code",
   "execution_count": 47,
   "metadata": {},
   "outputs": [
    {
     "name": "stdout",
     "output_type": "stream",
     "text": [
      "\u001b[0mKey             Value\n",
      "---             -----\n",
      "Seal Type       shamir\n",
      "Initialized     true\n",
      "Sealed          false\n",
      "Total Shares    3\n",
      "Threshold       2\n",
      "Version         1.6.0\n",
      "Storage Type    inmem_transactional_ha\n",
      "Cluster Name    vault-cluster-eb5fbb0c\n",
      "Cluster ID      ee93a68b-c56b-0275-1460-88c0df32a576\n",
      "HA Enabled      true\n",
      "HA Cluster      https://127.0.0.1:8201\n",
      "HA Mode         active\u001b[0m\n"
     ]
    }
   ],
   "source": [
    "vault status"
   ]
  },
  {
   "cell_type": "markdown",
   "metadata": {},
   "source": [
    "#### Note the Initialized and Sealed status above."
   ]
  },
  {
   "cell_type": "markdown",
   "metadata": {},
   "source": [
    "## Create Policy\n",
    "\n",
    "<img src=\"images/vault-policy-2.png\" width=500>\n",
    "\n",
    " \n",
    "ACL policy **PATH** supports wildcard matching (\"**+**\", \"**\\***\")  \n",
    "**PATH** corresponds to Vault API endpoints.  **No policy means no permission**  \n",
    "\n",
    "\n",
    "List of capabilities  \n",
    "\n",
    "| Capability | HTTP Verbs |\n",
    "|------------|------------|\n",
    "| create | POST/PUT |\n",
    "| read | GET |\n",
    "| update | POST/PUT |\n",
    "| delete | DELETE |\n",
    "| list | LIST |\n",
    "| sudo | allows access to paths that are **root-protected** |\n",
    "| deny | disallows access regardless of other capabilities |\n",
    "\n",
    "Two out-of-the-box policies, they can't be deleted:\n",
    "* **root** policy - superuser with all permissions\n",
    "* **default** policy - common permissions  \n"
   ]
  },
  {
   "cell_type": "code",
   "execution_count": 2,
   "metadata": {},
   "outputs": [],
   "source": [
    "# Work with kv secrets engine\n",
    "\n",
    "cat << EOF > /tmp/base.hcl\n",
    "\n",
    "path \"kv/data/training_*\" {\n",
    "  capabilities = [ \"create\", \"read\" ]\n",
    "}\n",
    "\n",
    "path \"kv/data/+/apikey\" {\n",
    "  capabilities = [ \"create\", \"read\", \"update\", \"delete\" ]\n",
    "}\n",
    "\n",
    "EOF"
   ]
  },
  {
   "cell_type": "code",
   "execution_count": 84,
   "metadata": {},
   "outputs": [],
   "source": [
    "cat << EOF > /tmp/base.json\n",
    "{\n",
    "\"policy\": \"\n",
    "   {\n",
    "    \\\"path\\\" : {\n",
    "           \\\"kv/data/training_*\\\" : { \\\"capabilities\\\" : [ \\\"create\\\", \\\"read\\\" ] },\n",
    "           \\\"kv/data/+/api2key\\\" : { \\\"capabilities\\\" : [ \\\"create\\\", \\\"read\\\", \\\"update\\\", \\\"delete\\\"] }\n",
    "           }\n",
    "  }\n",
    "  \"\n",
    "}\n",
    "EOF"
   ]
  },
  {
   "cell_type": "markdown",
   "metadata": {},
   "source": [
    "\n",
    "**Note:** in *key/value secret engine 2*, the path to write policy would be **kv/data/\\<path\\>** even though the CLI command to the path is **kv/\\<path\\>**"
   ]
  },
  {
   "cell_type": "markdown",
   "metadata": {},
   "source": [
    "### POlicy CLI Commands\n",
    "```\n",
    "vault policy list|read|write|delete [options]\n",
    "```"
   ]
  },
  {
   "cell_type": "code",
   "execution_count": 62,
   "metadata": {},
   "outputs": [
    {
     "name": "stdout",
     "output_type": "stream",
     "text": [
      "\u001b[0mSuccess! Enabled the kv-v2 secrets engine at: kv/\u001b[0m\n"
     ]
    }
   ],
   "source": [
    "vault login root\n",
    "vault secrets enable -path=kv/ kv-v2"
   ]
  },
  {
   "cell_type": "code",
   "execution_count": 77,
   "metadata": {},
   "outputs": [
    {
     "name": "stdout",
     "output_type": "stream",
     "text": [
      "\u001b[0mSuccess! You are now authenticated. The token information displayed below\n",
      "is already stored in the token helper. You do NOT need to run \"vault login\"\n",
      "again. Future Vault requests will automatically use this token.\n",
      "\u001b[0m\n",
      "\u001b[0mKey                  Value\n",
      "---                  -----\n",
      "token                root\n",
      "token_accessor       TXR5jqtVDDwvSQyCwbziAhYq\n",
      "token_duration       ∞\n",
      "token_renewable      false\n",
      "token_policies       [\"root\"]\n",
      "identity_policies    []\n",
      "policies             [\"root\"]\u001b[0m\n",
      "\u001b[0mSuccess! Uploaded policy: base\u001b[0m\n"
     ]
    }
   ],
   "source": [
    "vault policy write base /tmp/base.hcl  "
   ]
  },
  {
   "cell_type": "code",
   "execution_count": 32,
   "metadata": {},
   "outputs": [
    {
     "name": "stdout",
     "output_type": "stream",
     "text": [
      "\u001b[0mPath          Type         Accessor              Description\n",
      "----          ----         --------              -----------\n",
      "cubbyhole/    cubbyhole    cubbyhole_540e1719    per-token private secret storage\n",
      "identity/     identity     identity_bb228414     identity store\n",
      "secret/       kv           kv_dfad0eb2           key/value secret storage\n",
      "sys/          system       system_9878252a       system endpoints used for control, policy and debugging\u001b[0m\n"
     ]
    }
   ],
   "source": [
    "vault secrets list"
   ]
  },
  {
   "cell_type": "markdown",
   "metadata": {},
   "source": [
    "**Using cURL**"
   ]
  },
  {
   "cell_type": "code",
   "execution_count": 87,
   "metadata": {},
   "outputs": [],
   "source": [
    "curl --header \"X-Vault-Token: root\" --request PUT \\\n",
    "  --data @/tmp/base.json \\\n",
    "  $VAULT_ADDR/v1/sys/policy/base"
   ]
  },
  {
   "cell_type": "code",
   "execution_count": 88,
   "metadata": {},
   "outputs": [
    {
     "name": "stdout",
     "output_type": "stream",
     "text": [
      "\u001b[1;39m{\n",
      "  \u001b[0m\u001b[34;1m\"keys\"\u001b[0m\u001b[1;39m: \u001b[0m\u001b[1;39m[\n",
      "    \u001b[0;32m\"base\"\u001b[0m\u001b[1;39m,\n",
      "    \u001b[0;32m\"base2\"\u001b[0m\u001b[1;39m,\n",
      "    \u001b[0;32m\"corepolicy\"\u001b[0m\u001b[1;39m,\n",
      "    \u001b[0;32m\"default\"\u001b[0m\u001b[1;39m,\n",
      "    \u001b[0;32m\"education\"\u001b[0m\u001b[1;39m,\n",
      "    \u001b[0;32m\"foo\"\u001b[0m\u001b[1;39m,\n",
      "    \u001b[0;32m\"team-eng\"\u001b[0m\u001b[1;39m,\n",
      "    \u001b[0;32m\"team-qa\"\u001b[0m\u001b[1;39m,\n",
      "    \u001b[0;32m\"test\"\u001b[0m\u001b[1;39m,\n",
      "    \u001b[0;32m\"root\"\u001b[0m\u001b[1;39m\n",
      "  \u001b[1;39m]\u001b[0m\u001b[1;39m,\n",
      "  \u001b[0m\u001b[34;1m\"policies\"\u001b[0m\u001b[1;39m: \u001b[0m\u001b[1;39m[\n",
      "    \u001b[0;32m\"base\"\u001b[0m\u001b[1;39m,\n",
      "    \u001b[0;32m\"base2\"\u001b[0m\u001b[1;39m,\n",
      "    \u001b[0;32m\"corepolicy\"\u001b[0m\u001b[1;39m,\n",
      "    \u001b[0;32m\"default\"\u001b[0m\u001b[1;39m,\n",
      "    \u001b[0;32m\"education\"\u001b[0m\u001b[1;39m,\n",
      "    \u001b[0;32m\"foo\"\u001b[0m\u001b[1;39m,\n",
      "    \u001b[0;32m\"team-eng\"\u001b[0m\u001b[1;39m,\n",
      "    \u001b[0;32m\"team-qa\"\u001b[0m\u001b[1;39m,\n",
      "    \u001b[0;32m\"test\"\u001b[0m\u001b[1;39m,\n",
      "    \u001b[0;32m\"root\"\u001b[0m\u001b[1;39m\n",
      "  \u001b[1;39m]\u001b[0m\u001b[1;39m,\n",
      "  \u001b[0m\u001b[34;1m\"request_id\"\u001b[0m\u001b[1;39m: \u001b[0m\u001b[0;32m\"b501d2b0-b7f1-dd28-dae5-8aa5eca3eb7a\"\u001b[0m\u001b[1;39m,\n",
      "  \u001b[0m\u001b[34;1m\"lease_id\"\u001b[0m\u001b[1;39m: \u001b[0m\u001b[0;32m\"\"\u001b[0m\u001b[1;39m,\n",
      "  \u001b[0m\u001b[34;1m\"renewable\"\u001b[0m\u001b[1;39m: \u001b[0m\u001b[0;39mfalse\u001b[0m\u001b[1;39m,\n",
      "  \u001b[0m\u001b[34;1m\"lease_duration\"\u001b[0m\u001b[1;39m: \u001b[0m\u001b[0;39m0\u001b[0m\u001b[1;39m,\n",
      "  \u001b[0m\u001b[34;1m\"data\"\u001b[0m\u001b[1;39m: \u001b[0m\u001b[1;39m{\n",
      "    \u001b[0m\u001b[34;1m\"keys\"\u001b[0m\u001b[1;39m: \u001b[0m\u001b[1;39m[\n",
      "      \u001b[0;32m\"base\"\u001b[0m\u001b[1;39m,\n",
      "      \u001b[0;32m\"base2\"\u001b[0m\u001b[1;39m,\n",
      "      \u001b[0;32m\"corepolicy\"\u001b[0m\u001b[1;39m,\n",
      "      \u001b[0;32m\"default\"\u001b[0m\u001b[1;39m,\n",
      "      \u001b[0;32m\"education\"\u001b[0m\u001b[1;39m,\n",
      "      \u001b[0;32m\"foo\"\u001b[0m\u001b[1;39m,\n",
      "      \u001b[0;32m\"team-eng\"\u001b[0m\u001b[1;39m,\n",
      "      \u001b[0;32m\"team-qa\"\u001b[0m\u001b[1;39m,\n",
      "      \u001b[0;32m\"test\"\u001b[0m\u001b[1;39m,\n",
      "      \u001b[0;32m\"root\"\u001b[0m\u001b[1;39m\n",
      "    \u001b[1;39m]\u001b[0m\u001b[1;39m,\n",
      "    \u001b[0m\u001b[34;1m\"policies\"\u001b[0m\u001b[1;39m: \u001b[0m\u001b[1;39m[\n",
      "      \u001b[0;32m\"base\"\u001b[0m\u001b[1;39m,\n",
      "      \u001b[0;32m\"base2\"\u001b[0m\u001b[1;39m,\n",
      "      \u001b[0;32m\"corepolicy\"\u001b[0m\u001b[1;39m,\n",
      "      \u001b[0;32m\"default\"\u001b[0m\u001b[1;39m,\n",
      "      \u001b[0;32m\"education\"\u001b[0m\u001b[1;39m,\n",
      "      \u001b[0;32m\"foo\"\u001b[0m\u001b[1;39m,\n",
      "      \u001b[0;32m\"team-eng\"\u001b[0m\u001b[1;39m,\n",
      "      \u001b[0;32m\"team-qa\"\u001b[0m\u001b[1;39m,\n",
      "      \u001b[0;32m\"test\"\u001b[0m\u001b[1;39m,\n",
      "      \u001b[0;32m\"root\"\u001b[0m\u001b[1;39m\n",
      "    \u001b[1;39m]\u001b[0m\u001b[1;39m\n",
      "  \u001b[1;39m}\u001b[0m\u001b[1;39m,\n",
      "  \u001b[0m\u001b[34;1m\"wrap_info\"\u001b[0m\u001b[1;39m: \u001b[0m\u001b[1;30mnull\u001b[0m\u001b[1;39m,\n",
      "  \u001b[0m\u001b[34;1m\"warnings\"\u001b[0m\u001b[1;39m: \u001b[0m\u001b[1;30mnull\u001b[0m\u001b[1;39m,\n",
      "  \u001b[0m\u001b[34;1m\"auth\"\u001b[0m\u001b[1;39m: \u001b[0m\u001b[1;30mnull\u001b[0m\u001b[1;39m\n",
      "\u001b[1;39m}\u001b[0m\n"
     ]
    }
   ],
   "source": [
    "curl -s --header \"X-Vault-Token: root\"\\\n",
    "  $VAULT_ADDR/v1/sys/policy | jq"
   ]
  },
  {
   "cell_type": "code",
   "execution_count": 89,
   "metadata": {},
   "outputs": [
    {
     "name": "stdout",
     "output_type": "stream",
     "text": [
      "\u001b[0m{    \"path\" : {           \"kv/data/training_*\" : { \"capabilities\" : [ \"create\", \"read\" ] },           \"kv/data/+/api2key\" : { \"capabilities\" : [ \"create\", \"read\", \"update\", \"delete\"] }           }  }\u001b[0m\n"
     ]
    }
   ],
   "source": [
    "vault policy read base"
   ]
  },
  {
   "cell_type": "markdown",
   "metadata": {},
   "source": [
    "#### Create a token attached to the newly *base* policy"
   ]
  },
  {
   "cell_type": "code",
   "execution_count": 34,
   "metadata": {},
   "outputs": [
    {
     "name": "stdout",
     "output_type": "stream",
     "text": [
      "\u001b[0mKey                  Value\n",
      "---                  -----\n",
      "token                s.CO6TDYdpsgE4I4MzmpAvXNf4\n",
      "token_accessor       SaYsMLki6qJDl4dYSWV6SbaT\n",
      "token_duration       768h\n",
      "token_renewable      true\n",
      "token_policies       [\"default\" \"foo\"]\n",
      "identity_policies    []\n",
      "policies             [\"default\" \"foo\"]\u001b[0m\n"
     ]
    }
   ],
   "source": [
    "vault token create -policy=\"foo\""
   ]
  },
  {
   "cell_type": "markdown",
   "metadata": {},
   "source": [
    "**Note:** every token automatically gets *default* policy attached."
   ]
  },
  {
   "cell_type": "code",
   "execution_count": 36,
   "metadata": {},
   "outputs": [
    {
     "name": "stdout",
     "output_type": "stream",
     "text": [
      "\u001b[0mSuccess! You are now authenticated. The token information displayed below\n",
      "is already stored in the token helper. You do NOT need to run \"vault login\"\n",
      "again. Future Vault requests will automatically use this token.\n",
      "\u001b[0m\n",
      "\u001b[0mKey                  Value\n",
      "---                  -----\n",
      "token                s.CO6TDYdpsgE4I4MzmpAvXNf4\n",
      "token_accessor       SaYsMLki6qJDl4dYSWV6SbaT\n",
      "token_duration       767h59m35s\n",
      "token_renewable      true\n",
      "token_policies       [\"default\" \"foo\"]\n",
      "identity_policies    []\n",
      "policies             [\"default\" \"foo\"]\u001b[0m\n"
     ]
    }
   ],
   "source": [
    "unset VAULT_TOKEN\n",
    "vault login \"s.CO6TDYdpsgE4I4MzmpAvXNf4\""
   ]
  },
  {
   "cell_type": "markdown",
   "metadata": {},
   "source": [
    "---\n",
    "## Test \"base\" Policy\n",
    "\n",
    "Using base token, you have very limited permissions."
   ]
  },
  {
   "cell_type": "code",
   "execution_count": 38,
   "metadata": {},
   "outputs": [
    {
     "name": "stdout",
     "output_type": "stream",
     "text": [
      "\u001b[91mError listing policies: Error making API request.\n",
      "\n",
      "URL: GET http://127.0.0.1:8200/v1/sys/policies/acl?list=true\n",
      "Code: 403. Errors:\n",
      "\n",
      "* 1 error occurred:\n",
      "\t* permission denied\n",
      "\n",
      "\u001b[0m\n"
     ]
    }
   ],
   "source": [
    "vault policy list"
   ]
  },
  {
   "cell_type": "markdown",
   "metadata": {},
   "source": [
    "Using base token, you have very limited permissions.  THe base policy does not have a rule on `sys/policy` path.  Lack of policy means **no permission** on that path.  Therefore, \"permission denied\" error is the expected behavior."
   ]
  },
  {
   "cell_type": "code",
   "execution_count": 39,
   "metadata": {},
   "outputs": [
    {
     "name": "stdout",
     "output_type": "stream",
     "text": [
      "\u001b[91mError making API request.\n",
      "\n",
      "URL: GET http://127.0.0.1:8200/v1/sys/internal/ui/mounts/kv/training_test\n",
      "Code: 403. Errors:\n",
      "\n",
      "* preflight capability check returned 403, please ensure client's policies grant access to path \"kv/training_test/\"\u001b[0m\n"
     ]
    }
   ],
   "source": [
    "vault kv put kv/training_test password=\"p@ssw0rd\""
   ]
  },
  {
   "cell_type": "markdown",
   "metadata": {},
   "source": [
    "#### Read the data back"
   ]
  },
  {
   "cell_type": "code",
   "execution_count": 40,
   "metadata": {},
   "outputs": [
    {
     "name": "stdout",
     "output_type": "stream",
     "text": [
      "\u001b[91mError making API request.\n",
      "\n",
      "URL: GET http://127.0.0.1:8200/v1/sys/internal/ui/mounts/kv/training_test\n",
      "Code: 403. Errors:\n",
      "\n",
      "* preflight capability check returned 403, please ensure client's policies grant access to path \"kv/training_test/\"\u001b[0m\n"
     ]
    }
   ],
   "source": [
    "vault kv get kv/training_test"
   ]
  },
  {
   "cell_type": "markdown",
   "metadata": {},
   "source": [
    "#### Base policy only granst \"create\" and \"read\".  With the absence of \"update\" permission, this operation fails."
   ]
  },
  {
   "cell_type": "code",
   "execution_count": 41,
   "metadata": {},
   "outputs": [
    {
     "name": "stdout",
     "output_type": "stream",
     "text": [
      "\u001b[91mError making API request.\n",
      "\n",
      "URL: GET http://127.0.0.1:8200/v1/sys/internal/ui/mounts/kv/training_test\n",
      "Code: 403. Errors:\n",
      "\n",
      "* preflight capability check returned 403, please ensure client's policies grant access to path \"kv/training_test/\"\u001b[0m\n"
     ]
    }
   ],
   "source": [
    "vault kv put kv/training_test password=\"password1234\""
   ]
  },
  {
   "cell_type": "code",
   "execution_count": 42,
   "metadata": {},
   "outputs": [
    {
     "name": "stdout",
     "output_type": "stream",
     "text": [
      "\u001b[91mError making API request.\n",
      "\n",
      "URL: GET http://127.0.0.1:8200/v1/sys/internal/ui/mounts/kv/team-eng/apikey\n",
      "Code: 403. Errors:\n",
      "\n",
      "* preflight capability check returned 403, please ensure client's policies grant access to path \"kv/team-eng/apikey/\"\u001b[0m\n"
     ]
    }
   ],
   "source": [
    "vault kv put kv/team-eng/apikey api_key=\"123455\""
   ]
  },
  {
   "cell_type": "code",
   "execution_count": 69,
   "metadata": {},
   "outputs": [
    {
     "name": "stdout",
     "output_type": "stream",
     "text": [
      "\u001b[0mSuccess! Data deleted (if it existed) at: kv/team-eng/apikey\u001b[0m\n"
     ]
    }
   ],
   "source": [
    "vault kv delete kv/team-eng/apikey"
   ]
  },
  {
   "cell_type": "code",
   "execution_count": 70,
   "metadata": {},
   "outputs": [
    {
     "name": "stdout",
     "output_type": "stream",
     "text": [
      "\u001b[0mKey              Value\n",
      "---              -----\n",
      "created_time     2020-12-24T12:37:12.846247Z\n",
      "deletion_time    n/a\n",
      "destroyed        false\n",
      "version          1\u001b[0m\n"
     ]
    }
   ],
   "source": [
    "vault kv put kv/training_ year=\"2020\""
   ]
  },
  {
   "cell_type": "markdown",
   "metadata": {},
   "source": [
    "&nbsp;   \n",
    "### Check Token capabilities\n",
    "The `vault token capabilities` command fetches the capabilities of a token for a given path.  You can review the policy, but if your token has multiple policies attached, you have to review all the associated policies which can get troublesome."
   ]
  },
  {
   "cell_type": "code",
   "execution_count": 44,
   "metadata": {},
   "outputs": [
    {
     "name": "stdout",
     "output_type": "stream",
     "text": [
      "\u001b[0mdeny\u001b[0m\n"
     ]
    }
   ],
   "source": [
    "vault token capabilities kv/data/apikey"
   ]
  },
  {
   "cell_type": "code",
   "execution_count": 45,
   "metadata": {},
   "outputs": [
    {
     "name": "stdout",
     "output_type": "stream",
     "text": [
      "\u001b[0mcreate, delete, read, update\u001b[0m\n"
     ]
    }
   ],
   "source": [
    "vault token capabilities kv/data/splunk/apikey"
   ]
  },
  {
   "cell_type": "markdown",
   "metadata": {},
   "source": [
    "#### Try another path that is not permitted by the `base` policy"
   ]
  },
  {
   "cell_type": "code",
   "execution_count": 83,
   "metadata": {},
   "outputs": [
    {
     "name": "stdout",
     "output_type": "stream",
     "text": [
      "\u001b[0mdeny\u001b[0m\n"
     ]
    }
   ],
   "source": [
    "vault token capabilities kv/data/test"
   ]
  },
  {
   "cell_type": "code",
   "execution_count": 85,
   "metadata": {},
   "outputs": [
    {
     "name": "stdout",
     "output_type": "stream",
     "text": [
      "\u001b[0mroot\u001b[0m\n"
     ]
    }
   ],
   "source": [
    "vault login root >/dev/null\n",
    "vault token capabilities kv/data/test"
   ]
  },
  {
   "cell_type": "markdown",
   "metadata": {},
   "source": [
    "---\n",
    "### Policy for Policies\n",
    "To allow users to be able to manage policies, you need to write policies for that"
   ]
  },
  {
   "cell_type": "code",
   "execution_count": 77,
   "metadata": {},
   "outputs": [],
   "source": [
    "cat << EOF > /tmp/manage-policies.hcl\n",
    "\n",
    "path \"sys/policies/acl/*\" {\n",
    "  capabilities = [\"create\", \"read\", \"update\", \"delete\", \"list\", \"sudo\"]\n",
    "}\n",
    "# Create and manage ACL policies via API\n",
    "path \"sys/policies/acl\" {\n",
    "  capabilities = [\"list\"]\n",
    "}\n",
    "EOF"
   ]
  },
  {
   "cell_type": "markdown",
   "metadata": {},
   "source": [
    "&nbsp;\n",
    "\n",
    "---\n",
    "#### Thank you.\n",
    "<img src=images/HashiCorp_PrimaryLogo_Black_RGB.png width=100 align=\"left\">"
   ]
  }
 ],
 "metadata": {
  "kernelspec": {
   "display_name": "Z shell",
   "language": "zsh",
   "name": "zsh"
  },
  "language_info": {
   "codemirror_mode": "shell",
   "file_extension": ".zsh",
   "mimetype": "text/x-zsh",
   "name": "zsh",
   "pygments_lexer": "shell",
   "version": "5.7.1"
  }
 },
 "nbformat": 4,
 "nbformat_minor": 4
}
