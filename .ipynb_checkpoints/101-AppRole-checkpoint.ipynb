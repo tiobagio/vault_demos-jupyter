{
 "cells": [
  {
   "cell_type": "markdown",
   "metadata": {},
   "source": [
    "<img src=images/HashiCorp_PrimaryLogo_Black_RGB.png width=150 align=\"right\">\n",
    "<img src=images/Acme.jpeg width=100 align=\"left\">"
   ]
  },
  {
   "cell_type": "markdown",
   "metadata": {},
   "source": [
    "\n",
    "# UC-4 App Role Authentication\n",
    "---\n",
    "## Business Values\n",
    " * Provide a way for operators to manage policy without being involved in generating tokens or creds for applications (minimize coordination) \n",
    " * Operators have less work to do\n",
    " * Orchestration tools can take over the task of giving applications secrets access"
   ]
  },
  {
   "cell_type": "markdown",
   "metadata": {},
   "source": [
    "## How AppRole Auth Method works\n",
    "\n",
    "Vault provides internal and external authentication methods.  External methods are called *tusted third-party authenticators* such as AWS, LDAP, Github, etc.\n",
    "\n",
    "In some situations trusted third-party authenticator is not available, so Vault has an alternate approach - **AppRole**\n",
    "* AppRole generates **RoleID** and **SecretID**\n",
    "    - RoleID is an identifier similar to username\n",
    "    - SecretID is a credential to login (similart to password)  \n",
    "\n",
    "<br />   \n",
    "<img src=\"images/vault-approle-workflow.png\" width=1000>\n",
    "<img src=\"images/vault-approle-pull.png\" width=1000>\n",
    "<img src=\"images/vault-approle-push.png\" width=1000>"
   ]
  },
  {
   "cell_type": "markdown",
   "metadata": {},
   "source": [
    "### Setup\n",
    "---"
   ]
  },
  {
   "cell_type": "code",
   "execution_count": 29,
   "metadata": {},
   "outputs": [],
   "source": [
    "export VAULT_ADDR=http://127.0.0.1:8200\n",
    "export VAULT_TOKEN=root\n",
    "export VAULT_SKIP_VERIFY=true"
   ]
  },
  {
   "cell_type": "code",
   "execution_count": 30,
   "metadata": {},
   "outputs": [
    {
     "name": "stdout",
     "output_type": "stream",
     "text": [
      "\u001b[93mWARNING! The VAULT_TOKEN environment variable is set! This takes precedence\n",
      "over the value set by this command. To use the value set by this command,\n",
      "unset the VAULT_TOKEN environment variable or set it to the token displayed\n",
      "below.\n",
      "\u001b[0m\n",
      "\u001b[0mSuccess! You are now authenticated. The token information displayed below\n",
      "is already stored in the token helper. You do NOT need to run \"vault login\"\n",
      "again. Future Vault requests will automatically use this token.\n",
      "\u001b[0m\n",
      "\u001b[0mKey                  Value\n",
      "---                  -----\n",
      "token                s.WS9F9o1f39UFHRLt6SPF5ttl\n",
      "token_accessor       GNbiLOOigffWwMbmLADBs8rz\n",
      "token_duration       ∞\n",
      "token_renewable      false\n",
      "token_policies       [\"root\"]\n",
      "identity_policies    []\n",
      "policies             [\"root\"]\u001b[0m\n"
     ]
    }
   ],
   "source": [
    "vault login s.WS9F9o1f39UFHRLt6SPF5ttl"
   ]
  },
  {
   "cell_type": "code",
   "execution_count": 23,
   "metadata": {},
   "outputs": [
    {
     "name": "stdout",
     "output_type": "stream",
     "text": [
      "\u001b[0mKey             Value\n",
      "---             -----\n",
      "Seal Type       shamir\n",
      "Initialized     true\n",
      "Sealed          false\n",
      "Total Shares    1\n",
      "Threshold       1\n",
      "Version         1.6.0\n",
      "Storage Type    inmem_transactional_ha\n",
      "Cluster Name    vault-cluster-3ae53707\n",
      "Cluster ID      fdc39d7d-439d-9ff2-6a40-52755bf3f127\n",
      "HA Enabled      true\n",
      "HA Cluster      https://127.0.0.1:8201\n",
      "HA Mode         active\u001b[0m\n"
     ]
    }
   ],
   "source": [
    "vault status"
   ]
  },
  {
   "cell_type": "code",
   "execution_count": 5,
   "metadata": {},
   "outputs": [
    {
     "name": "stdout",
     "output_type": "stream",
     "text": [
      "\u001b[0mVault v1.6.0 (7ce0bd9691998e0443bc77e98b1e2a4ab1e965d4)\u001b[0m\n"
     ]
    }
   ],
   "source": [
    "vault -version"
   ]
  },
  {
   "cell_type": "markdown",
   "metadata": {},
   "source": [
    "### Demo\n",
    "---"
   ]
  },
  {
   "cell_type": "markdown",
   "metadata": {},
   "source": [
    "### Enable the approle authentication method\n"
   ]
  },
  {
   "cell_type": "code",
   "execution_count": 31,
   "metadata": {},
   "outputs": [
    {
     "name": "stdout",
     "output_type": "stream",
     "text": [
      "\u001b[0mSuccess! Enabled approle auth method at: approle/\u001b[0m\n"
     ]
    }
   ],
   "source": [
    "vault auth enable approle"
   ]
  },
  {
   "cell_type": "markdown",
   "metadata": {},
   "source": [
    "### Create a secret\n",
    "NOTE: num_uses determines how many times secret can be used.\n",
    "\n",
    "In this example, a SecretID of the myapp role can be used for up to 5 times to authenticate and fetch a client token. After the number of uses is reached, the SecretID expires and you would need to generate a new one. This is similar to forcing a password rotation."
   ]
  },
  {
   "cell_type": "code",
   "execution_count": 32,
   "metadata": {},
   "outputs": [
    {
     "name": "stdout",
     "output_type": "stream",
     "text": [
      "\u001b[0mSuccess! Data written to: auth/approle/role/myapp\u001b[0m\n"
     ]
    }
   ],
   "source": [
    "vault write auth/approle/role/myapp secret_id_num_uses=3 secret_id_ttl=5m"
   ]
  },
  {
   "cell_type": "markdown",
   "metadata": {},
   "source": [
    "##### Read the secret"
   ]
  },
  {
   "cell_type": "code",
   "execution_count": 35,
   "metadata": {},
   "outputs": [
    {
     "name": "stdout",
     "output_type": "stream",
     "text": [
      "\u001b[0mKey                        Value\n",
      "---                        -----\n",
      "bind_secret_id             true\n",
      "local_secret_ids           false\n",
      "secret_id_bound_cidrs      <nil>\n",
      "secret_id_num_uses         3\n",
      "secret_id_ttl              5m\n",
      "token_bound_cidrs          []\n",
      "token_explicit_max_ttl     0s\n",
      "token_max_ttl              0s\n",
      "token_no_default_policy    false\n",
      "token_num_uses             0\n",
      "token_period               0s\n",
      "token_policies             []\n",
      "token_ttl                  0s\n",
      "token_type                 default\u001b[0m\n"
     ]
    }
   ],
   "source": [
    "vault read auth/approle/role/myapp"
   ]
  },
  {
   "cell_type": "markdown",
   "metadata": {},
   "source": [
    "### Create a role id \n",
    "Typically a constant value, provide this to the app developer team"
   ]
  },
  {
   "cell_type": "code",
   "execution_count": 24,
   "metadata": {},
   "outputs": [
    {
     "name": "stdout",
     "output_type": "stream",
     "text": [
      "\u001b[0mKey        Value\n",
      "---        -----\n",
      "role_id    57013b74-fe4e-8f75-9421-e820c087af4c\u001b[0m\n"
     ]
    }
   ],
   "source": [
    "vault read auth/approle/role/myapp/role-id"
   ]
  },
  {
   "cell_type": "markdown",
   "metadata": {},
   "source": [
    "**Attempt to read the role id (same as above) using the API**. \n"
   ]
  },
  {
   "cell_type": "code",
   "execution_count": 15,
   "metadata": {},
   "outputs": [
    {
     "name": "stdout",
     "output_type": "stream",
     "text": [
      "57013b74-fe4e-8f75-9421-e820c087af4c\n"
     ]
    }
   ],
   "source": [
    "export APPROLE=\"myapp\"\n",
    "ROLE_ID=$(curl -s -H \"X-Vault-Token: ${VAULT_TOKEN}\" \"http://127.0.0.1:8200/v1/auth/approle/role/${APPROLE}/role-id\" | jq -r '.data.role_id')\n",
    "echo $ROLE_ID"
   ]
  },
  {
   "cell_type": "markdown",
   "metadata": {},
   "source": [
    "### Generate a Secret ID  "
   ]
  },
  {
   "cell_type": "code",
   "execution_count": 34,
   "metadata": {},
   "outputs": [
    {
     "name": "stdout",
     "output_type": "stream",
     "text": [
      "\u001b[0mKey                   Value\n",
      "---                   -----\n",
      "secret_id             ed9b5c4a-4812-bdbe-53f6-bb3e135ab35a\n",
      "secret_id_accessor    99da6c05-3746-c4a9-e59f-1931961dd63a\u001b[0m\n"
     ]
    }
   ],
   "source": [
    "vault write -f auth/approle/role/myapp/secret-id"
   ]
  },
  {
   "cell_type": "code",
   "execution_count": 36,
   "metadata": {},
   "outputs": [
    {
     "name": "stdout",
     "output_type": "stream",
     "text": [
      "\u001b[0mKey                   Value\n",
      "---                   -----\n",
      "secret_id             4b9899d0-a809-6c3d-7e03-508a1ea220a2\n",
      "secret_id_accessor    a47def99-bea8-5cd0-c8eb-58ed05279112\u001b[0m\n"
     ]
    }
   ],
   "source": [
    "vault write -f auth/approle/role/myapp/secret-id"
   ]
  },
  {
   "cell_type": "markdown",
   "metadata": {},
   "source": [
    "**Using CURL instead**  "
   ]
  },
  {
   "cell_type": "code",
   "execution_count": 27,
   "metadata": {},
   "outputs": [
    {
     "name": "stdout",
     "output_type": "stream",
     "text": [
      "a1e26f40-411f-87b3-6f0d-650f35ace0c6\n"
     ]
    }
   ],
   "source": [
    "SECRET_ID=$(curl -s -X POST -H \"X-Vault-Token:${VAULT_TOKEN}\" \"http://127.0.0.1:8200/v1/auth/approle/role/${APPROLE}/secret-id\" | jq -r '.data.secret_id')\n",
    "echo ${SECRET_ID}"
   ]
  },
  {
   "cell_type": "markdown",
   "metadata": {},
   "source": [
    "### Write a new login with `role id` and `secret id`from to get the token for logging into Vault"
   ]
  },
  {
   "cell_type": "code",
   "execution_count": 18,
   "metadata": {},
   "outputs": [
    {
     "name": "stdout",
     "output_type": "stream",
     "text": [
      "\u001b[0mKey                     Value\n",
      "---                     -----\n",
      "token                   s.68FTaderWJj7hsNXhR7AY8Qh\n",
      "token_accessor          YfHmC1QBwxXvQfsXQuSiVZkP\n",
      "token_duration          768h\n",
      "token_renewable         true\n",
      "token_policies          [\"default\"]\n",
      "identity_policies       []\n",
      "policies                [\"default\"]\n",
      "token_meta_role_name    myapp\u001b[0m\n"
     ]
    }
   ],
   "source": [
    "vault write auth/approle/login role_id=${ROLE_ID} secret_id=${SECRET_ID}\n"
   ]
  },
  {
   "cell_type": "markdown",
   "metadata": {},
   "source": [
    "**Again, we can do the same using CURL**"
   ]
  },
  {
   "cell_type": "code",
   "execution_count": 19,
   "metadata": {},
   "outputs": [
    {
     "name": "stdout",
     "output_type": "stream",
     "text": [
      "s.kLjjGfmN6wOB006n2mB0Z9Fi\n"
     ]
    }
   ],
   "source": [
    "APP_ROLE_TOKEN=$(curl -s -X POST -d '{\"role_id\": \"'\"${ROLE_ID}\"'\", \"secret_id\": \"'\"${SECRET_ID}\"'\"}' http://127.0.0.1:8200/v1/auth/approle/login | jq -r '.auth.client_token')\n",
    "echo ${APP_ROLE_TOKEN}"
   ]
  },
  {
   "cell_type": "code",
   "execution_count": null,
   "metadata": {},
   "outputs": [],
   "source": [
    "vault login ${APP_ROLE_TOKEN}"
   ]
  },
  {
   "cell_type": "markdown",
   "metadata": {},
   "source": [
    "## Response Wrap the SecretID\n",
    "The RoleID is equivalent to a username, and SecretID is the corresponding password. The app needs both to log in with Vault. Naturally, the next question becomes how to deliver those values to the client securely.\n",
    "\n",
    "A common solution involves three personas instead of two: admin, app, and trusted entity. The trusted entity delivers the RoleID and SecretID to the client by separate means.\n",
    "\n",
    "For example, Terraform as a trusted entity can deliver the RoleID onto the virtual machine. When the app runs on the virtual machine, the RoleID already exists on the virtual machine.\n",
    "\n",
    "<img src=\"images/vault-approle-workflow2.png\">"
   ]
  },
  {
   "cell_type": "markdown",
   "metadata": {},
   "source": [
    "### View Vault via a browser\n",
    "Open a web browser and visit http://127.0.0.1:8200/ui/vault Use **TOKEN** and Sign in"
   ]
  },
  {
   "cell_type": "markdown",
   "metadata": {},
   "source": [
    "&nbsp;\n",
    "\n",
    "---\n",
    "#### Thank you.\n",
    "<img src=images/HashiCorp_PrimaryLogo_Black_RGB.png width=100 align=\"left\">"
   ]
  }
 ],
 "metadata": {
  "kernelspec": {
   "display_name": "Z shell",
   "language": "zsh",
   "name": "zsh"
  },
  "language_info": {
   "codemirror_mode": "shell",
   "file_extension": ".zsh",
   "mimetype": "text/x-zsh",
   "name": "zsh",
   "pygments_lexer": "shell",
   "version": "5.7.1"
  }
 },
 "nbformat": 4,
 "nbformat_minor": 4
}
