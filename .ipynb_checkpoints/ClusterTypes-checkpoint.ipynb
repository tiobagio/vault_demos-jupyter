{
 "cells": [
  {
   "cell_type": "markdown",
   "metadata": {},
   "source": [
    "<img align=right src=images/HashiCorp_PrimaryLogo_Black_RGB.png width=150>\n",
    "<img src=images/acme.jpeg width=100 align=\"left\">\n",
    "<img src=images/vault-cluster1.png width=900 >"
   ]
  },
  {
   "cell_type": "markdown",
   "metadata": {},
   "source": [
    "## Vaults Setup"
   ]
  },
  {
   "cell_type": "markdown",
   "metadata": {},
   "source": [
    "**Shell alias setup**"
   ]
  },
  {
   "cell_type": "code",
   "execution_count": 1,
   "metadata": {},
   "outputs": [],
   "source": [
    "source ~/.zshrc"
   ]
  },
  {
   "cell_type": "code",
   "execution_count": 16,
   "metadata": {},
   "outputs": [
    {
     "name": "stdout",
     "output_type": "stream",
     "text": [
      "evault1='VAULT_ADDR=http://127.0.0.1:8200 vaulte $@'\n",
      "evault2='VAULT_ADDR=http://127.0.0.1:8202 vaulte $@'\n",
      "evault3='VAULT_ADDR=http://127.0.0.1:8204 vaulte $@'\n"
     ]
    }
   ],
   "source": [
    "alias |grep -i \"evault[1-3]\""
   ]
  },
  {
   "cell_type": "code",
   "execution_count": 1,
   "metadata": {},
   "outputs": [
    {
     "name": "stdout",
     "output_type": "stream",
     "text": [
      "evrd1='VAULT_UI=true VAULT_REDIRECT_ADDR=http://127.0.0.1:8200 evault server -log-level=trace -dev -dev-root-token-id=root -dev-listen-address=127.0.0.1:8200 -dev-ha -dev-transactional'\n",
      "evrd2='VAULT_UI=true VAULT_REDIRECT_ADDR=http://127.0.0.1:8202 evault server -log-level=trace -dev -dev-root-token-id=root -dev-listen-address=127.0.0.1:8202 -dev-ha -dev-transactional'\n",
      "evrd3='VAULT_UI=true VAULT_REDIRECT_ADDR=http://127.0.0.1:8204 evault server -log-level=trace -dev -dev-root-token-id=root -dev-listen-address=127.0.0.1:8204 -dev-ha -dev-transactional'\n"
     ]
    }
   ],
   "source": [
    "alias |grep -i \"evrd[1-3]\""
   ]
  },
  {
   "cell_type": "markdown",
   "metadata": {},
   "source": [
    "### Launch 3 Vault servers, each on its own windows\n",
    "  \n",
    "Model is as follows\n",
    "```\n",
    "+---------------------------------+                    +------------------------------------+\n",
    "| vault1 port:8200                |                    | vault2 port: 8202                  |\n",
    "| Performance primary replication |    +----------->   | Performance secondary replication  |\n",
    "| DR primary replication          |                    | (vault1 -> vault2)                 |\n",
    "|                                 |                    |                                    |\n",
    "+---------------------------------+                    +------------------------------------+\n",
    "               +\n",
    "               |\n",
    "               v\n",
    "+---------------------------------+\n",
    "| vault3 port:8204                |\n",
    "| DR secondary replication        |\n",
    "| (vault1 -> vault3)              |\n",
    "|                                 |\n",
    "+---------------------------------+\n",
    "```\n",
    "Make sure you record the unseal key for each Vault server.\n"
   ]
  },
  {
   "cell_type": "markdown",
   "metadata": {},
   "source": [
    "### License Vault (Optional)"
   ]
  },
  {
   "cell_type": "code",
   "execution_count": 13,
   "metadata": {},
   "outputs": [
    {
     "name": "stdout",
     "output_type": "stream",
     "text": [
      "{\"errors\":[]}\n"
     ]
    }
   ],
   "source": [
    "VAULT_ADDR=\"http://127.0.0.1:8200\"; curl \\\n",
    "    --insecure \\\n",
    "    --header \"X-Vault-Token: $VAULT_ROOT_TOKEN\" \\\n",
    "    --request PUT \\\n",
    "    --data @/Users/tio/Documents/vault_license.json \\\n",
    "    $VAULT_ADDR/sys/license"
   ]
  },
  {
   "cell_type": "markdown",
   "metadata": {},
   "source": [
    "### Vault1 - create users, policies and secrets on the primary cluster"
   ]
  },
  {
   "cell_type": "code",
   "execution_count": 12,
   "metadata": {},
   "outputs": [
    {
     "name": "stdout",
     "output_type": "stream",
     "text": [
      "\u001b[0mSuccess! You are now authenticated. The token information displayed below\n",
      "is already stored in the token helper. You do NOT need to run \"vault login\"\n",
      "again. Future Vault requests will automatically use this token.\n",
      "\u001b[0m\n",
      "\u001b[0mKey                  Value\n",
      "---                  -----\n",
      "token                root\n",
      "token_accessor       Ny1ESA47styjDXND2Uewj67P\n",
      "token_duration       ∞\n",
      "token_renewable      false\n",
      "token_policies       [\"root\"]\n",
      "identity_policies    []\n",
      "policies             [\"root\"]\u001b[0m\n",
      "----\n",
      "\u001b[0mSuccess! Enabled userpass auth method at: userpass/\u001b[0m\n",
      "\u001b[0mSuccess! Uploaded policy: vault-admin\u001b[0m\n",
      "\u001b[0mSuccess! Uploaded policy: user\u001b[0m\n",
      "\u001b[0mSuccess! Data written to: auth/userpass/users/vault\u001b[0m\n",
      "\u001b[0mSuccess! Data written to: auth/userpass/users/drtest\u001b[0m\n",
      "----\n",
      "\u001b[0mSuccess! Enabled the generic secrets engine at: supersecret/\u001b[0m\n"
     ]
    }
   ],
   "source": [
    "vault1 login root > /dev/null\n",
    "echo \"----\"\n",
    "vault1 auth enable userpass\n",
    "echo '\n",
    "path \"*\" {\n",
    "    capabilities = [\"create\", \"read\", \"update\", \"delete\", \"list\", \"sudo\"]\n",
    "}' | vault1 policy write vault-admin -\n",
    "\n",
    "echo '\n",
    "path \"supersecret/*\" {\n",
    "  capabilities = [\"list\", \"read\"]\n",
    "}' | vault1 policy write user -\n",
    "\n",
    "vault1 write auth/userpass/users/vault password=vault policies=vault-admin\n",
    "vault1 write auth/userpass/users/drtest password=drtest policies=user\n",
    "echo \"----\"\n",
    "vault1 secrets enable -path=supersecret generic"
   ]
  },
  {
   "cell_type": "markdown",
   "metadata": {},
   "source": [
    "### Setup Performance Replication (Vault -> Vault2)"
   ]
  },
  {
   "cell_type": "code",
   "execution_count": 13,
   "metadata": {},
   "outputs": [
    {
     "name": "stdout",
     "output_type": "stream",
     "text": [
      "\u001b[0mSuccess! You are now authenticated. The token information displayed below\n",
      "is already stored in the token helper. You do NOT need to run \"vault login\"\n",
      "again. Future Vault requests will automatically use this token.\n",
      "\u001b[0m\n",
      "\u001b[0mKey                  Value\n",
      "---                  -----\n",
      "token                root\n",
      "token_accessor       Ny1ESA47styjDXND2Uewj67P\n",
      "token_duration       ∞\n",
      "token_renewable      false\n",
      "token_policies       [\"root\"]\n",
      "identity_policies    []\n",
      "policies             [\"root\"]\u001b[0m\n",
      "\u001b[93mWARNING! The following warnings were returned from Vault:\n",
      "\u001b[0m\n",
      "\u001b[93m  * This cluster is being enabled as a primary for replication. Vault will be\n",
      "  unavailable for a brief period and will resume service shortly.\u001b[0m\n",
      "\u001b[93m\u001b[0m\n",
      "---\n",
      "\u001b[0mSuccess! You are now authenticated. The token information displayed below\n",
      "is already stored in the token helper. You do NOT need to run \"vault login\"\n",
      "again. Future Vault requests will automatically use this token.\n",
      "\u001b[0m\n",
      "\u001b[0mKey                  Value\n",
      "---                  -----\n",
      "token                root\n",
      "token_accessor       JAefFJTBDaH6JRoZdgX1AEQs\n",
      "token_duration       ∞\n",
      "token_renewable      false\n",
      "token_policies       [\"root\"]\n",
      "identity_policies    []\n",
      "policies             [\"root\"]\u001b[0m\n",
      "\u001b[93mWARNING! The following warnings were returned from Vault:\n",
      "\u001b[0m\n",
      "\u001b[93m  * Vault has successfully found secondary information; it may take a while to\n",
      "  perform setup tasks. Vault will be unavailable until these tasks and initial\n",
      "  sync complete.\u001b[0m\n",
      "\u001b[93m\u001b[0m\n"
     ]
    }
   ],
   "source": [
    "vault1 login root > /dev/null\n",
    "vault1 write -f sys/replication/performance/primary/enable\n",
    "sleep 10\n",
    "PRIMARY_PERF_TOKEN=$(vault1 write -format=json sys/replication/performance/primary/secondary-token id=vault2 \\\n",
    "  | jq --raw-output '.wrap_info .token' )\n",
    "echo \"---\"\n",
    "vault2 login root > /dev/null\n",
    "vault2 write sys/replication/performance/secondary/enable token=${PRIMARY_PERF_TOKEN}"
   ]
  },
  {
   "cell_type": "markdown",
   "metadata": {},
   "source": [
    "#### Validation \n",
    "Enable another secret engine on Vault1, configure it *not* to be replicated and perform validations:\n",
    "* of Performance Replication on the Secondary cluser (Vault2)\n",
    "* of Performance Replication on the Primary cluster (Vault1)\n"
   ]
  },
  {
   "cell_type": "markdown",
   "metadata": {},
   "source": [
    "### Setup DR Replication (Vault1 -> Vault3)"
   ]
  },
  {
   "cell_type": "code",
   "execution_count": 3,
   "metadata": {},
   "outputs": [
    {
     "name": "stdout",
     "output_type": "stream",
     "text": [
      "\u001b[91mError writing data to sys/replication/dr/primary/enable: Error making API request.\n",
      "\n",
      "URL: PUT http://127.0.0.1:8200/v1/sys/replication/dr/primary/enable\n",
      "Code: 400. Errors:\n",
      "\n",
      "* cluster is already a dr primary in a replication set and updated 'primary_cluster_addr' not given\u001b[0m\n",
      "Error writing data to sys/replication/dr/primary/secondary-token: Error making API request.\n",
      "\n",
      "URL: PUT http://127.0.0.1:8200/v1/sys/replication/dr/primary/secondary-token\n",
      "Code: 400. Errors:\n",
      "\n",
      "* secondary cluster with id \"vault3\" is already activated\n",
      "\u001b[91mError writing data to sys/replication/dr/secondary/enable: Error making API request.\n",
      "\n",
      "URL: PUT http://127.0.0.1:8204/v1/sys/replication/dr/secondary/enable\n",
      "Code: 500. Errors:\n",
      "\n",
      "* 1 error occurred:\n",
      "\t* error unmarshalling secondary token: 'data' being decoded is nil\n",
      "\n",
      "\u001b[0m\n"
     ]
    }
   ],
   "source": [
    "vault1 login root > /dev/null\n",
    "vault1 write -f /sys/replication/dr/primary/enable\n",
    "sleep 10\n",
    "PRIMARY_DR_TOKEN=$(vault1 write -format=json /sys/replication/dr/primary/secondary-token id=\"vault3\" | jq --raw-output '.wrap_info .token' )\n",
    "vault3 login root > /dev/null\n",
    "vault3 write /sys/replication/dr/secondary/enable token=${PRIMARY_DR_TOKEN}"
   ]
  },
  {
   "cell_type": "markdown",
   "metadata": {},
   "source": [
    "#### Validation of DR"
   ]
  },
  {
   "cell_type": "code",
   "execution_count": 6,
   "metadata": {},
   "outputs": [
    {
     "name": "stdout",
     "output_type": "stream",
     "text": [
      "\u001b[1;39m{\n",
      "  \u001b[0m\u001b[34;1m\"request_id\"\u001b[0m\u001b[1;39m: \u001b[0m\u001b[0;32m\"ec5a59b4-ce4b-908b-91c3-abd4e92dba78\"\u001b[0m\u001b[1;39m,\n",
      "  \u001b[0m\u001b[34;1m\"lease_id\"\u001b[0m\u001b[1;39m: \u001b[0m\u001b[0;32m\"\"\u001b[0m\u001b[1;39m,\n",
      "  \u001b[0m\u001b[34;1m\"lease_duration\"\u001b[0m\u001b[1;39m: \u001b[0m\u001b[0;39m0\u001b[0m\u001b[1;39m,\n",
      "  \u001b[0m\u001b[34;1m\"renewable\"\u001b[0m\u001b[1;39m: \u001b[0m\u001b[0;39mfalse\u001b[0m\u001b[1;39m,\n",
      "  \u001b[0m\u001b[34;1m\"data\"\u001b[0m\u001b[1;39m: \u001b[0m\u001b[1;39m{\n",
      "    \u001b[0m\u001b[34;1m\"dr\"\u001b[0m\u001b[1;39m: \u001b[0m\u001b[1;39m{\n",
      "      \u001b[0m\u001b[34;1m\"cluster_id\"\u001b[0m\u001b[1;39m: \u001b[0m\u001b[0;32m\"bfc4658e-c6ee-0156-50b0-780125356cba\"\u001b[0m\u001b[1;39m,\n",
      "      \u001b[0m\u001b[34;1m\"connection_state\"\u001b[0m\u001b[1;39m: \u001b[0m\u001b[0;32m\"ready\"\u001b[0m\u001b[1;39m,\n",
      "      \u001b[0m\u001b[34;1m\"known_primary_cluster_addrs\"\u001b[0m\u001b[1;39m: \u001b[0m\u001b[1;39m[\n",
      "        \u001b[0;32m\"https://127.0.0.1:8201\"\u001b[0m\u001b[1;39m\n",
      "      \u001b[1;39m]\u001b[0m\u001b[1;39m,\n",
      "      \u001b[0m\u001b[34;1m\"last_reindex_epoch\"\u001b[0m\u001b[1;39m: \u001b[0m\u001b[0;32m\"1609050391\"\u001b[0m\u001b[1;39m,\n",
      "      \u001b[0m\u001b[34;1m\"last_remote_wal\"\u001b[0m\u001b[1;39m: \u001b[0m\u001b[0;39m126\u001b[0m\u001b[1;39m,\n",
      "      \u001b[0m\u001b[34;1m\"merkle_root\"\u001b[0m\u001b[1;39m: \u001b[0m\u001b[0;32m\"7d903e24ff6837a4606a42005fdb7fe342a89ed1\"\u001b[0m\u001b[1;39m,\n",
      "      \u001b[0m\u001b[34;1m\"mode\"\u001b[0m\u001b[1;39m: \u001b[0m\u001b[0;32m\"secondary\"\u001b[0m\u001b[1;39m,\n",
      "      \u001b[0m\u001b[34;1m\"primaries\"\u001b[0m\u001b[1;39m: \u001b[0m\u001b[1;39m[\n",
      "        \u001b[1;39m{\n",
      "          \u001b[0m\u001b[34;1m\"api_address\"\u001b[0m\u001b[1;39m: \u001b[0m\u001b[0;32m\"http://127.0.0.1:8200\"\u001b[0m\u001b[1;39m,\n",
      "          \u001b[0m\u001b[34;1m\"cluster_address\"\u001b[0m\u001b[1;39m: \u001b[0m\u001b[0;32m\"https://127.0.0.1:8201\"\u001b[0m\u001b[1;39m,\n",
      "          \u001b[0m\u001b[34;1m\"connection_status\"\u001b[0m\u001b[1;39m: \u001b[0m\u001b[0;32m\"connected\"\u001b[0m\u001b[1;39m,\n",
      "          \u001b[0m\u001b[34;1m\"last_heartbeat\"\u001b[0m\u001b[1;39m: \u001b[0m\u001b[0;32m\"2020-12-27T14:32:31+08:00\"\u001b[0m\u001b[1;39m\n",
      "        \u001b[1;39m}\u001b[0m\u001b[1;39m\n",
      "      \u001b[1;39m]\u001b[0m\u001b[1;39m,\n",
      "      \u001b[0m\u001b[34;1m\"primary_cluster_addr\"\u001b[0m\u001b[1;39m: \u001b[0m\u001b[0;32m\"https://127.0.0.1:8201\"\u001b[0m\u001b[1;39m,\n",
      "      \u001b[0m\u001b[34;1m\"secondary_id\"\u001b[0m\u001b[1;39m: \u001b[0m\u001b[0;32m\"vault31\"\u001b[0m\u001b[1;39m,\n",
      "      \u001b[0m\u001b[34;1m\"state\"\u001b[0m\u001b[1;39m: \u001b[0m\u001b[0;32m\"stream-wals\"\u001b[0m\u001b[1;39m\n",
      "    \u001b[1;39m}\u001b[0m\u001b[1;39m,\n",
      "    \u001b[0m\u001b[34;1m\"performance\"\u001b[0m\u001b[1;39m: \u001b[0m\u001b[1;39m{\n",
      "      \u001b[0m\u001b[34;1m\"mode\"\u001b[0m\u001b[1;39m: \u001b[0m\u001b[0;32m\"disabled\"\u001b[0m\u001b[1;39m\n",
      "    \u001b[1;39m}\u001b[0m\u001b[1;39m\n",
      "  \u001b[1;39m}\u001b[0m\u001b[1;39m,\n",
      "  \u001b[0m\u001b[34;1m\"warnings\"\u001b[0m\u001b[1;39m: \u001b[0m\u001b[1;30mnull\u001b[0m\u001b[1;39m\n",
      "\u001b[1;39m}\u001b[0m\n"
     ]
    }
   ],
   "source": [
    "vault3 read -format=json sys/replication/status |jq"
   ]
  },
  {
   "cell_type": "markdown",
   "metadata": {},
   "source": [
    "### Promote DR Secondary (Vault3) to Primary Cluster\n",
    "Shutdown Vault1\n",
    "\n",
    "Generate operation token on Vault3\n",
    "\n",
    "$ vault operator generate-root -dr-token -otp=\"vZUKRgIcHMgwNeB8T9jf0YwUvm\" -decode=\"BXRjc2QLECsbfDQtJSEtVhxRHQRYPx8DGio\"\n",
    "\n",
    "s.686lYHS1SZkDonHhwbhfhVlG\n",
    "\n",
    "curl -s http://127.0.0.1:8204/v1/sys/replication/dr/secondary/generate-operation-token/attempt | jq\n",
    "\n",
    "Next generate OTP (one time pasword)\n",
    "DR_OTP=$(vault3 operator generate-root -dr-token -generate-otp)\n",
    "\n",
    "Create Nonce\n",
    "NONCE=$(vault3 operator generate-root -dr-token -init -otp=${DR_OTP} |grep -i nonce | awk '{print $2}')\n",
    "\n"
   ]
  },
  {
   "cell_type": "markdown",
   "metadata": {},
   "source": [
    "### Swing it back - Vault1 is back to become Primary\n",
    "\n",
    "Run `vrd1` - starts empty Vault   \n",
    "Configure Vault1 to become DR Secondary   \n",
    "Demote Vault3  "
   ]
  },
  {
   "cell_type": "code",
   "execution_count": 8,
   "metadata": {},
   "outputs": [
    {
     "name": "stdout",
     "output_type": "stream",
     "text": [
      "\u001b[91mError writing data to sys/replication/dr/primary/disable: Error making API request.\n",
      "\n",
      "URL: PUT http://127.0.0.1:8200/v1/sys/replication/dr/primary/disable\n",
      "Code: 400. Errors:\n",
      "\n",
      "* cluster does not have a DR replication state that allows disabling\u001b[0m\n",
      "\u001b[91mError writing data to sys/replication/performance/primary/disable: Error making API request.\n",
      "\n",
      "URL: PUT http://127.0.0.1:8200/v1/sys/replication/performance/primary/disable\n",
      "Code: 400. Errors:\n",
      "\n",
      "* cluster does not have a performance replication state that allows disabling\u001b[0m\n"
     ]
    }
   ],
   "source": []
  },
  {
   "cell_type": "markdown",
   "metadata": {},
   "source": [
    "### Promote DR Secondary (Vault2) to Primary"
   ]
  },
  {
   "cell_type": "markdown",
   "metadata": {},
   "source": [
    "&nbsp;\n",
    "\n",
    "---\n",
    "#### Thank you.\n",
    "<img src=images/HashiCorp_PrimaryLogo_Black_RGB.png width=100 class=\"center\">"
   ]
  }
 ],
 "metadata": {
  "kernelspec": {
   "display_name": "Z shell",
   "language": "zsh",
   "name": "zsh"
  },
  "language_info": {
   "codemirror_mode": "shell",
   "file_extension": ".zsh",
   "mimetype": "text/x-zsh",
   "name": "zsh",
   "pygments_lexer": "shell",
   "version": "5.7.1"
  }
 },
 "nbformat": 4,
 "nbformat_minor": 4
}
