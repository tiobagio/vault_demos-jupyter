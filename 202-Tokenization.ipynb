{
 "cells": [
  {
   "cell_type": "markdown",
   "metadata": {},
   "source": [
    "<img align=right src=images/HashiCorp_PrimaryLogo_Black_RGB.png width=150>\n",
    "<img src=images/acme.jpeg width=100 align=\"left\">"
   ]
  },
  {
   "cell_type": "markdown",
   "metadata": {},
   "source": [
    "# Tokenize Data\n",
    "\n",
    "There are organizations that care more about the irreversibility of the tokenized data and not so much about preserving the original data format.\n",
    "\n",
    "Tokenization replaces sensitive data with unique values (tokens) that are unrelated to the origina value.  Those tokens cannot risk exposing the plaintext satifing the PCI-DSS guidance.\n",
    "\n",
    "<img src=\"images/vault-tokenization-1.png\">\n",
    "\n",
    "**Characteristics of tokenization:** \n",
    "\n",
    "* non-reversible\n",
    "* integrated metadata:  supports metdata for identifying data type and purpose\n",
    "* extreme scale and performance \n",
    "\n",
    "\n",
    "**Prerequisites:**\n",
    "* Vault Enterprise binary with Advanced Data Protection\n",
    "* Vault License\n",
    "\n",
    "## Setup"
   ]
  },
  {
   "cell_type": "code",
   "execution_count": 6,
   "metadata": {},
   "outputs": [],
   "source": [
    "/bin/rm -rf $HOME/demos/vault_cluster/vrd/data/*"
   ]
  },
  {
   "cell_type": "code",
   "execution_count": 148,
   "metadata": {},
   "outputs": [],
   "source": [
    "export VAULT_ADDR=http://127.0.0.1:8200\n",
    "export VAULT_SKIP_VERIFY=true\n",
    "export VAULT_ROOT_TOKEN=root"
   ]
  },
  {
   "cell_type": "code",
   "execution_count": 16,
   "metadata": {},
   "outputs": [
    {
     "name": "stdout",
     "output_type": "stream",
     "text": [
      "/usr/local/bin/vault\n",
      "\u001b[0mVault v1.6.0 (7ce0bd9691998e0443bc77e98b1e2a4ab1e965d4)\u001b[0m\n"
     ]
    }
   ],
   "source": [
    "which vault\n",
    "vault --version\n"
   ]
  },
  {
   "cell_type": "markdown",
   "metadata": {},
   "source": [
    "\\\n",
    "**EXECUTE the following command in SEPARATE window**\n",
    "\n",
    "```\n",
    "VAULT_UI=true VAULT_REDIRECT_ADDR=http://127.0.0.1:8200 evault server -log-level=trace -dev -dev-root-token-id=root -dev-listen-address=127.0.0.1:8200 -dev-ha -dev-transactional\n",
    "```\n",
    "OR   \n",
    "`evrd1`   "
   ]
  },
  {
   "cell_type": "markdown",
   "metadata": {},
   "source": [
    "## (Optional)  Apply the license"
   ]
  },
  {
   "cell_type": "code",
   "execution_count": 151,
   "metadata": {},
   "outputs": [],
   "source": [
    "curl \\\n",
    "    --insecure \\\n",
    "    --header \"X-Vault-Token: $VAULT_ROOT_TOKEN\" \\\n",
    "    --request PUT \\\n",
    "    --data @/Users/tio/Documents/vault_license.json \\\n",
    "    $VAULT_ADDR/v1/sys/license"
   ]
  },
  {
   "cell_type": "code",
   "execution_count": 152,
   "metadata": {
    "scrolled": true
   },
   "outputs": [
    {
     "name": "stdout",
     "output_type": "stream",
     "text": [
      "\u001b[0mKey             Value\n",
      "---             -----\n",
      "Seal Type       shamir\n",
      "Initialized     true\n",
      "Sealed          false\n",
      "Total Shares    1\n",
      "Threshold       1\n",
      "Version         1.6.1+ent\n",
      "Storage Type    inmem_transactional_ha\n",
      "Cluster Name    vault-cluster-60e9d409\n",
      "Cluster ID      5c25711e-51db-0b79-f3d5-4e9a0080828e\n",
      "HA Enabled      true\n",
      "HA Cluster      https://127.0.0.1:8201\n",
      "HA Mode         active\n",
      "Last WAL        35\u001b[0m\n"
     ]
    }
   ],
   "source": [
    "vault status"
   ]
  },
  {
   "cell_type": "markdown",
   "metadata": {},
   "source": [
    "##### Notice Initialized (=true) and Sealed (=false) status "
   ]
  },
  {
   "cell_type": "markdown",
   "metadata": {},
   "source": [
    "## Enable the Transform secrets engine"
   ]
  },
  {
   "cell_type": "code",
   "execution_count": 153,
   "metadata": {},
   "outputs": [
    {
     "name": "stdout",
     "output_type": "stream",
     "text": [
      "\u001b[0mSuccess! Enabled the transform secrets engine at: transform/\u001b[0m\n"
     ]
    }
   ],
   "source": [
    "vault secrets enable transform"
   ]
  },
  {
   "cell_type": "markdown",
   "metadata": {},
   "source": [
    "## Roles, Transformations, Templates and Alphabets\n",
    "\n",
    "Create a role `mobile-pay` which is attached to `credit-card` transformation.  The tokenized value has a fixed maximum time-to-live of 24 hours.  \n",
    "\n",
    "<img src=images/vault-tokenization-2.png >\n"
   ]
  },
  {
   "cell_type": "markdown",
   "metadata": {},
   "source": [
    "### Create a Role"
   ]
  },
  {
   "cell_type": "code",
   "execution_count": 189,
   "metadata": {},
   "outputs": [
    {
     "name": "stdout",
     "output_type": "stream",
     "text": [
      "\u001b[0mSuccess! Data written to: transform/role/mobile-pay\u001b[0m\n"
     ]
    }
   ],
   "source": [
    "vault write transform/role/mobile-pay transformations=credit-card"
   ]
  },
  {
   "cell_type": "markdown",
   "metadata": {},
   "source": [
    "### Specify the transformation"
   ]
  },
  {
   "cell_type": "code",
   "execution_count": 194,
   "metadata": {},
   "outputs": [
    {
     "name": "stdout",
     "output_type": "stream",
     "text": [
      "\u001b[0mSuccess! Data written to: transform/transformation/credit-card\u001b[0m\n"
     ]
    }
   ],
   "source": [
    "vault write transform/transformation/credit-card \\\n",
    "  type=tokenization \\\n",
    "  max_ttl=24h \\\n",
    "  allowed_roles=mobile-pay"
   ]
  },
  {
   "cell_type": "markdown",
   "metadata": {},
   "source": [
    "### Transform it\n",
    "After the secrets engine is configured and a user/machine has a Vault token, it can use this secret engine to encode and decode input values"
   ]
  },
  {
   "cell_type": "code",
   "execution_count": 196,
   "metadata": {},
   "outputs": [
    {
     "name": "stdout",
     "output_type": "stream",
     "text": [
      "\u001b[0mKey              Value\n",
      "---              -----\n",
      "encoded_value    eRwUjS2L9dvCTxKCmrwRas1tfjaAhvcvMFpgfRrX4uAwofSmpyNbje3aX3mXXJvs3zxwVsxSE\u001b[0m\n"
     ]
    }
   ],
   "source": [
    "vault write transform/encode/mobile-pay value=1111-2222-3333-4444 \\\n",
    "  ttl=8h \\\n",
    "  metadata=\"type=Amex\" \\\n",
    "  metadata=\"organization=HashiCorp\""
   ]
  },
  {
   "cell_type": "markdown",
   "metadata": {},
   "source": [
    "### Decode some input value using the /decode endpoint with a named role:"
   ]
  },
  {
   "cell_type": "code",
   "execution_count": 197,
   "metadata": {},
   "outputs": [
    {
     "name": "stdout",
     "output_type": "stream",
     "text": [
      "\u001b[0mKey                Value\n",
      "---                -----\n",
      "expiration_time    2020-12-30 19:40:57.631628 +0000 UTC\n",
      "metadata           map[organization:HashiCorp type:Amex]\u001b[0m\n"
     ]
    }
   ],
   "source": [
    "export MY_ENCODED_CCN=\"eRwUjS2L9dvCTxKCmrwRas1tfjaAhvcvMFpgfRrX4uAwofSmpyNbje3aX3mXXJvs3zxwVsxSE\"\n",
    "vault write transform/metadata/mobile-pay value=$MY_ENCODED_CCN"
   ]
  },
  {
   "cell_type": "code",
   "execution_count": 198,
   "metadata": {},
   "outputs": [
    {
     "name": "stdout",
     "output_type": "stream",
     "text": [
      "\u001b[0mKey      Value\n",
      "---      -----\n",
      "valid    true\u001b[0m\n"
     ]
    }
   ],
   "source": [
    "vault write transform/validate/mobile-pay value=$MY_ENCODED_CCN"
   ]
  },
  {
   "cell_type": "code",
   "execution_count": 199,
   "metadata": {},
   "outputs": [
    {
     "name": "stdout",
     "output_type": "stream",
     "text": [
      "\u001b[0mKey          Value\n",
      "---          -----\n",
      "tokenized    false\u001b[0m\n"
     ]
    }
   ],
   "source": [
    "vault write transform/tokenized/mobile-pay value=$MY_ENCODED_CCN"
   ]
  },
  {
   "cell_type": "code",
   "execution_count": 200,
   "metadata": {},
   "outputs": [
    {
     "name": "stdout",
     "output_type": "stream",
     "text": [
      "\u001b[0mKey              Value\n",
      "---              -----\n",
      "decoded_value    1111-2222-3333-4444\u001b[0m\n"
     ]
    }
   ],
   "source": [
    "vault write transform/decode/mobile-pay value=$MY_ENCODED_CCN"
   ]
  },
  {
   "cell_type": "markdown",
   "metadata": {},
   "source": [
    "### Setup external token storage\n",
    "Tokenization is a stateful procedure to facilitate mapping between tokens and various cryptographic values.  This could put a lot of load on the Vault's storage backend.  You have an option to use external storage to presist data for tokenization tranformation.\n",
    "\n",
    "<img src=\"images/vault-tokenization-3.png\">  \n",
    "\n",
    "To demonstrate, run a PostgreSQL database. \n",
    "Create a new transformation, named \"passport\", which uses this PostgreSQL as its storage.\n"
   ]
  },
  {
   "cell_type": "code",
   "execution_count": null,
   "metadata": {},
   "outputs": [],
   "source": []
  },
  {
   "cell_type": "code",
   "execution_count": null,
   "metadata": {},
   "outputs": [],
   "source": []
  },
  {
   "cell_type": "code",
   "execution_count": null,
   "metadata": {},
   "outputs": [],
   "source": []
  },
  {
   "cell_type": "code",
   "execution_count": null,
   "metadata": {},
   "outputs": [],
   "source": []
  },
  {
   "cell_type": "markdown",
   "metadata": {},
   "source": [
    "&nbsp;\n",
    "\n",
    "---\n",
    "#### Thank you.\n",
    "<img src=images/HashiCorp_PrimaryLogo_Black_RGB.png width=100 align=\"left\">"
   ]
  }
 ],
 "metadata": {
  "kernelspec": {
   "display_name": "Z shell",
   "language": "zsh",
   "name": "zsh"
  },
  "language_info": {
   "codemirror_mode": "shell",
   "file_extension": ".zsh",
   "mimetype": "text/x-zsh",
   "name": "zsh",
   "pygments_lexer": "shell",
   "version": "5.7.1"
  }
 },
 "nbformat": 4,
 "nbformat_minor": 4
}
