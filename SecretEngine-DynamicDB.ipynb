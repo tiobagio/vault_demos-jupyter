{
 "cells": [
  {
   "cell_type": "markdown",
   "metadata": {},
   "source": [
    "<img align=right src=images/HashiCorp_PrimaryLogo_Black_RGB.png width=150>\n",
    "<img src=images/acme.jpeg width=100 align=\"left\">"
   ]
  },
  {
   "cell_type": "markdown",
   "metadata": {},
   "source": [
    "# Database Engine - MariaDB/MySQL Dynamic Credentials\n",
    "---\n",
    "Dynamic Secrets are generated when they are accessed.  In other words, Dynamic Secrets do not exist until they are read.\n",
    "Vault has built-in revocation mechanism.\n",
    "Database Secrets engine:\n",
    "* Cassandra\n",
    "* Elasticsearch\n",
    "* Influxdb\n",
    "* HanaDB\n",
    "* MongoDB\n",
    "* MSSQL\n",
    "* MySQL/MariaDB\n",
    "* PostgreSQL\n",
    "* Oracle\n",
    "\n",
    "## Business Value of Capability\n",
    "We use dynamic secrets to allow applications to get dynamic creds to access databases.  \n",
    "### Setup\n",
    "---"
   ]
  },
  {
   "cell_type": "code",
   "execution_count": 3,
   "metadata": {},
   "outputs": [],
   "source": [
    "export VAULT_ADDR=http://127.0.0.1:8200\n",
    "export VAULT_TOKEN=root\n",
    "export VAULT_SKIP_VERIFY=true"
   ]
  },
  {
   "cell_type": "code",
   "execution_count": null,
   "metadata": {},
   "outputs": [],
   "source": [
    "vault login root"
   ]
  },
  {
   "cell_type": "code",
   "execution_count": null,
   "metadata": {},
   "outputs": [],
   "source": [
    "vault status"
   ]
  },
  {
   "cell_type": "code",
   "execution_count": null,
   "metadata": {},
   "outputs": [],
   "source": [
    "vault -version"
   ]
  },
  {
   "cell_type": "markdown",
   "metadata": {},
   "source": [
    "**Create a database**"
   ]
  },
  {
   "cell_type": "code",
   "execution_count": null,
   "metadata": {},
   "outputs": [],
   "source": [
    "docker create \\\n",
    "  --name=mariadb \\\n",
    "  -e PUID=1000 \\\n",
    "  -e PGID=1000 \\\n",
    "  -e TZ=Asia/Singapore \\\n",
    "  -e MYSQL_ROOT_PASSWORD=password \\\n",
    "  -e MYSQL_DATABASE=vaultdemodb `#optional` \\\n",
    "  -e MYSQL_USER=tio `#optional` \\\n",
    "  -e MYSQL_PASSWORD=password `#optional` \\\n",
    "  -p 3306:3306 \\\n",
    "  --restart unless-stopped \\\n",
    "  linuxserver/mariadb"
   ]
  },
  {
   "cell_type": "markdown",
   "metadata": {},
   "source": [
    "**Start the database**"
   ]
  },
  {
   "cell_type": "code",
   "execution_count": null,
   "metadata": {},
   "outputs": [],
   "source": [
    "docker start mariadb"
   ]
  },
  {
   "cell_type": "markdown",
   "metadata": {},
   "source": [
    "**Execute Two Commands Below in Jupyter Terminal Tab**"
   ]
  },
  {
   "cell_type": "markdown",
   "metadata": {},
   "source": [
    "docker exec -it mariadb /bin/bash\n",
    "\n",
    "mysql -u root -ppassword << EOF\n",
    "GRANT ALL PRIVILEGES ON *.* TO 'vaultadmin'@'%' IDENTIFIED BY 'vadmin' WITH GRANT OPTION;\n",
    "FLUSH PRIVILEGES;\n",
    "EOF"
   ]
  },
  {
   "cell_type": "code",
   "execution_count": 10,
   "metadata": {},
   "outputs": [],
   "source": [
    "docker exec -it mariadb mysql -u root -p'password' \\\n",
    "  -e \"GRANT ALL PRIVILEGES ON *.* TO 'vaultadmin'@'%' IDENTIFIED BY 'vadmin' WITH GRANT OPTION; FLUSH PRIVILEGES;\"\n"
   ]
  },
  {
   "cell_type": "markdown",
   "metadata": {},
   "source": [
    "**Display existing database users**"
   ]
  },
  {
   "cell_type": "code",
   "execution_count": 11,
   "metadata": {},
   "outputs": [
    {
     "name": "stdout",
     "output_type": "stream",
     "text": [
      "+-------------+\n",
      "| User        |\n",
      "+-------------+\n",
      "| root        |\n",
      "| tio         |\n",
      "| vaultadmin  |\n",
      "| mariadb.sys |\n",
      "+-------------+\n"
     ]
    }
   ],
   "source": [
    "docker exec -it mariadb mysql -u vaultadmin -p'vadmin' -e \"select user from mysql.user;\""
   ]
  },
  {
   "cell_type": "markdown",
   "metadata": {},
   "source": [
    "### Demo\n",
    "---"
   ]
  },
  {
   "cell_type": "markdown",
   "metadata": {},
   "source": [
    "### Enable Database secrets engine"
   ]
  },
  {
   "cell_type": "code",
   "execution_count": 12,
   "metadata": {},
   "outputs": [
    {
     "name": "stdout",
     "output_type": "stream",
     "text": [
      "\u001b[91mError enabling: Error making API request.\n",
      "\n",
      "URL: POST http://127.0.0.1:8200/v1/sys/mounts/mdb1\n",
      "Code: 400. Errors:\n",
      "\n",
      "* path is already in use at mdb1/\u001b[0m\n"
     ]
    }
   ],
   "source": [
    "vault secrets enable -path=mdb1 database"
   ]
  },
  {
   "cell_type": "markdown",
   "metadata": {},
   "source": [
    "**Configure it with the correct plugin, connection string and allowed_roles**\n",
    "\n",
    "You can specify `root_rotation_statements` when writing to the path <database/config/<connection>.  For example\n",
    "```  \n",
    "   root_rotation-statements=\"ALTER USER {{username}}'@'localhost' IDENTIFIED BY '{{password}}';\"\n",
    "```  \n",
    "    "
   ]
  },
  {
   "cell_type": "code",
   "execution_count": 6,
   "metadata": {},
   "outputs": [],
   "source": [
    "vault write mdb1/config/mysql \\\n",
    "    plugin_name=mysql-legacy-database-plugin \\\n",
    "    connection_url=\"vaultadmin:vadmin@tcp(127.0.0.1:3306)/\" \\\n",
    "    allowed_roles=\"readonly\" \\\n",
    "    username=\"hashicorp\" \\\n",
    "    password=\"Password123\"\n",
    "    \n",
    "    \n",
    "# vault write mdb1/config/mysql \\\n",
    "#    plugin_name=mysql-legacy-database-plugin \\\n",
    "#    connection_url=\"{{username}}:{{password}}@tcp(127.0.0.1:3306)/\" \\\n",
    "#    allowed_roles=\"readonly\" \\\n",
    "#    username=\"vaultadmin\" \\\n",
    "#    password=\"vadmin\"\n"
   ]
  },
  {
   "cell_type": "markdown",
   "metadata": {},
   "source": [
    "**Create one or more Vault roles with TTLs and SQL that specify permissions**"
   ]
  },
  {
   "cell_type": "code",
   "execution_count": 20,
   "metadata": {},
   "outputs": [
    {
     "name": "stdout",
     "output_type": "stream",
     "text": [
      "\u001b[0mSuccess! Data written to: mdb1/roles/readonly\u001b[0m\n"
     ]
    }
   ],
   "source": [
    "vault write mdb1/roles/readonly \\\n",
    "    db_name=mysql \\\n",
    "    creation_statements=\"CREATE USER '{{name}}'@'%' IDENTIFIED BY '{{password}}';GRANT SELECT ON *.* TO '{{name}}'@'%';\" \\\n",
    "    default_ttl=\"5m\" \\\n",
    "    max_ttl=\"24h\""
   ]
  },
  {
   "cell_type": "code",
   "execution_count": null,
   "metadata": {},
   "outputs": [],
   "source": [
    "vault write -force mdb1/rotate-root/config/mysql"
   ]
  },
  {
   "cell_type": "markdown",
   "metadata": {},
   "source": [
    "**Get Dyamic Database credential by reading from the Vault role**"
   ]
  },
  {
   "cell_type": "code",
   "execution_count": 21,
   "metadata": {},
   "outputs": [
    {
     "name": "stdout",
     "output_type": "stream",
     "text": [
      "\u001b[0mKey                Value\n",
      "---                -----\n",
      "lease_id           mdb1/creds/readonly/s1TCW8LXq2EvH0e3AdC9Z1Q3\n",
      "lease_duration     5m\n",
      "lease_renewable    true\n",
      "password           PVCpstrbr-o-hZs2RC76\n",
      "username           v_token_read_HoX\u001b[0m\n"
     ]
    }
   ],
   "source": [
    "vault read mdb1/creds/readonly"
   ]
  },
  {
   "cell_type": "markdown",
   "metadata": {},
   "source": [
    "**Display database users** (note new user added by Vault)"
   ]
  },
  {
   "cell_type": "code",
   "execution_count": 27,
   "metadata": {},
   "outputs": [
    {
     "name": "stdout",
     "output_type": "stream",
     "text": [
      "+-------------+\n",
      "| User        |\n",
      "+-------------+\n",
      "| root        |\n",
      "| tio         |\n",
      "| vaultadmin  |\n",
      "| mariadb.sys |\n",
      "+-------------+\n"
     ]
    }
   ],
   "source": [
    "docker exec -it mariadb mysql -u vaultadmin -p'vadmin' -e \"select user from mysql.user;\""
   ]
  },
  {
   "cell_type": "markdown",
   "metadata": {},
   "source": [
    "**List the Vault leases**"
   ]
  },
  {
   "cell_type": "code",
   "execution_count": 26,
   "metadata": {},
   "outputs": [
    {
     "name": "stdout",
     "output_type": "stream",
     "text": [
      "\u001b[0mKeys\n",
      "----\n",
      "BD8UYffxzkq7K09iTvR6jzuB\u001b[0m\n"
     ]
    }
   ],
   "source": [
    "vault list sys/leases/lookup/mdb1/creds/readonly/"
   ]
  },
  {
   "cell_type": "markdown",
   "metadata": {},
   "source": [
    "**Details on a lease, e.g. the remaining lifetime of the credential** COPY LEASE ABOVE TO REPLACE END OF THIS LINE "
   ]
  },
  {
   "cell_type": "code",
   "execution_count": 25,
   "metadata": {},
   "outputs": [
    {
     "name": "stdout",
     "output_type": "stream",
     "text": [
      "\u001b[91mError writing data to sys/leases/lookup: Error making API request.\n",
      "\n",
      "URL: PUT http://127.0.0.1:8200/v1/sys/leases/lookup\n",
      "Code: 400. Errors:\n",
      "\n",
      "* invalid lease\u001b[0m\n"
     ]
    }
   ],
   "source": [
    "vault write sys/leases/lookup lease_id=mdb1/creds/readonly/s1TCW8LXq2EvH0e3AdC9Z1Q3"
   ]
  },
  {
   "cell_type": "markdown",
   "metadata": {},
   "source": [
    "**Revoke a specific Vault lease**   \n",
    "Vault automatically deletes expired credentials but if credentials are compromised, you can revoke them immediately."
   ]
  },
  {
   "cell_type": "code",
   "execution_count": 17,
   "metadata": {},
   "outputs": [
    {
     "name": "stdout",
     "output_type": "stream",
     "text": [
      "\u001b[0mAll revocation operations queued successfully!\u001b[0m\n"
     ]
    }
   ],
   "source": [
    "vault lease revoke mdb1/creds/readonly/8JV4Ic0e9zyH2zYpHN6AtyYB"
   ]
  },
  {
   "cell_type": "code",
   "execution_count": null,
   "metadata": {},
   "outputs": [],
   "source": [
    "vault write sys/leases/revoke lease_id=\"<lease_id>\""
   ]
  },
  {
   "cell_type": "markdown",
   "metadata": {},
   "source": [
    "**Revoke all Vault leases**"
   ]
  },
  {
   "cell_type": "code",
   "execution_count": 18,
   "metadata": {},
   "outputs": [
    {
     "name": "stdout",
     "output_type": "stream",
     "text": [
      "\u001b[0mAll revocation operations queued successfully!\u001b[0m\n"
     ]
    }
   ],
   "source": [
    "vault lease revoke -prefix=true mdb1/creds/readonly"
   ]
  },
  {
   "cell_type": "markdown",
   "metadata": {},
   "source": [
    "**Renew credentials**"
   ]
  },
  {
   "cell_type": "code",
   "execution_count": null,
   "metadata": {},
   "outputs": [],
   "source": [
    "vault write sys/leases/renew lease_id=\"<lease_id>\""
   ]
  },
  {
   "cell_type": "markdown",
   "metadata": {},
   "source": [
    "**Disable Database Secret Engine**"
   ]
  },
  {
   "cell_type": "code",
   "execution_count": null,
   "metadata": {},
   "outputs": [],
   "source": [
    "bvault secrets disable database/ "
   ]
  },
  {
   "cell_type": "markdown",
   "metadata": {},
   "source": [
    "### Cleanup\n",
    "---"
   ]
  },
  {
   "cell_type": "markdown",
   "metadata": {},
   "source": [
    "**Shutdown Docker**"
   ]
  },
  {
   "cell_type": "code",
   "execution_count": null,
   "metadata": {},
   "outputs": [],
   "source": [
    "docker stop mariadb"
   ]
  },
  {
   "cell_type": "markdown",
   "metadata": {},
   "source": [
    "**Remove the container**"
   ]
  },
  {
   "cell_type": "code",
   "execution_count": null,
   "metadata": {},
   "outputs": [],
   "source": [
    "docker rm mariadb"
   ]
  },
  {
   "cell_type": "markdown",
   "metadata": {},
   "source": [
    "**END**"
   ]
  }
 ],
 "metadata": {
  "kernelspec": {
   "display_name": "Z shell",
   "language": "zsh",
   "name": "zsh"
  },
  "language_info": {
   "codemirror_mode": "shell",
   "file_extension": ".zsh",
   "mimetype": "text/x-zsh",
   "name": "zsh",
   "pygments_lexer": "shell",
   "version": "5.7.1"
  }
 },
 "nbformat": 4,
 "nbformat_minor": 4
}
